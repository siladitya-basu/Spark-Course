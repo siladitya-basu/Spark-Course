{
 "cells": [
  {
   "cell_type": "markdown",
   "metadata": {},
   "source": [
    "# Spark SQL"
   ]
  },
  {
   "cell_type": "code",
   "execution_count": 1,
   "metadata": {},
   "outputs": [],
   "source": [
    "%run ./Includes/paths.py"
   ]
  },
  {
   "cell_type": "code",
   "execution_count": 3,
   "metadata": {},
   "outputs": [
    {
     "data": {
      "text/html": [
       "\n",
       "            <div>\n",
       "                <p><b>SparkSession - hive</b></p>\n",
       "                \n",
       "        <div>\n",
       "            <p><b>SparkContext</b></p>\n",
       "\n",
       "            <p><a href=\"http://192.168.0.209:4040\">Spark UI</a></p>\n",
       "\n",
       "            <dl>\n",
       "              <dt>Version</dt>\n",
       "                <dd><code>v3.2.1</code></dd>\n",
       "              <dt>Master</dt>\n",
       "                <dd><code>local[*]</code></dd>\n",
       "              <dt>AppName</dt>\n",
       "                <dd><code>Spark-Course</code></dd>\n",
       "            </dl>\n",
       "        </div>\n",
       "        \n",
       "            </div>\n",
       "        "
      ],
      "text/plain": [
       "<pyspark.sql.session.SparkSession at 0x7f6987f33f10>"
      ]
     },
     "execution_count": 3,
     "metadata": {},
     "output_type": "execute_result"
    }
   ],
   "source": [
    "import pyspark\n",
    "from pyspark.sql import *\n",
    "from pyspark.sql.types import *\n",
    "from pyspark.sql.functions import *\n",
    "\n",
    "from delta import *\n",
    "import pandas as pd\n",
    "\n",
    "# start spark\n",
    "builder = (pyspark.sql.SparkSession.builder.appName(\"Spark-Course\")\n",
    "                .config(\"spark.sql.extensions\", \"io.delta.sql.DeltaSparkSessionExtension\")\n",
    "                .config(\"spark.sql.catalog.spark_catalog\", \"org.apache.spark.sql.delta.catalog.DeltaCatalog\")\n",
    "                .config(\"spark.sql.warehouse.dir\", spark_warehouse_path)\n",
    "                .config(\"spark.sql.catalogImplementation\", \"hive\"))\n",
    "\n",
    "spark = configure_spark_with_delta_pip(builder).getOrCreate()\n",
    "\n",
    "# setting log-level to ERROR to decrease verbosity\n",
    "# log4j log-levels are: OFF, FATAL, ERROR, WARN, INFO, DEBUG, TRACE, ALL\n",
    "spark.sparkContext.setLogLevel(\"ERROR\")\n",
    "\n",
    "# so that we can register UDFs in SQL\n",
    "spark.builder.enableHiveSupport()\n",
    "\n",
    "spark"
   ]
  },
  {
   "cell_type": "code",
   "execution_count": 4,
   "metadata": {},
   "outputs": [],
   "source": [
    "def display(spark_df, rows=10):\n",
    "    return spark_df.limit(rows).toPandas().head(rows)"
   ]
  },
  {
   "cell_type": "code",
   "execution_count": 5,
   "metadata": {},
   "outputs": [],
   "source": [
    "%load_ext sparksql_magic"
   ]
  },
  {
   "cell_type": "markdown",
   "metadata": {},
   "source": [
    "## Create Database"
   ]
  },
  {
   "cell_type": "code",
   "execution_count": 6,
   "metadata": {
    "vscode": {
     "languageId": "sql"
    }
   },
   "outputs": [
    {
     "data": {
      "text/html": [
       "<table><tr style=\"border-bottom: 1px solid\"></tr></table>"
      ],
      "text/plain": [
       "<IPython.core.display.HTML object>"
      ]
     },
     "execution_count": 6,
     "metadata": {},
     "output_type": "execute_result"
    }
   ],
   "source": [
    "%%sparksql\n",
    "\n",
    "drop database if exists spark_course_db cascade"
   ]
  },
  {
   "cell_type": "code",
   "execution_count": 6,
   "metadata": {
    "vscode": {
     "languageId": "sql"
    }
   },
   "outputs": [],
   "source": [
    "query = f'create database spark_course_db'\n",
    "\n",
    "_ = spark.sql(query)"
   ]
  },
  {
   "cell_type": "code",
   "execution_count": 11,
   "metadata": {},
   "outputs": [],
   "source": [
    "# check if the database is in the desired location\n",
    "assert(spark.sql('describe database spark_course_db').where('info_name = \"Location\"').select('info_value').toPandas().iloc[0][0] == 'file:' + spark_warehouse_path + 'spark_course_db.db')"
   ]
  },
  {
   "cell_type": "code",
   "execution_count": 12,
   "metadata": {
    "vscode": {
     "languageId": "sql"
    }
   },
   "outputs": [
    {
     "data": {
      "text/html": [
       "<table><tr style=\"border-bottom: 1px solid\"></tr></table>"
      ],
      "text/plain": [
       "<IPython.core.display.HTML object>"
      ]
     },
     "execution_count": 12,
     "metadata": {},
     "output_type": "execute_result"
    }
   ],
   "source": [
    "%%sparksql\n",
    "\n",
    "use spark_course_db"
   ]
  },
  {
   "cell_type": "markdown",
   "metadata": {},
   "source": [
    "## Create Table"
   ]
  },
  {
   "cell_type": "code",
   "execution_count": 191,
   "metadata": {},
   "outputs": [
    {
     "data": {
      "text/html": [
       "<div>\n",
       "<style scoped>\n",
       "    .dataframe tbody tr th:only-of-type {\n",
       "        vertical-align: middle;\n",
       "    }\n",
       "\n",
       "    .dataframe tbody tr th {\n",
       "        vertical-align: top;\n",
       "    }\n",
       "\n",
       "    .dataframe thead th {\n",
       "        text-align: right;\n",
       "    }\n",
       "</style>\n",
       "<table border=\"1\" class=\"dataframe\">\n",
       "  <thead>\n",
       "    <tr style=\"text-align: right;\">\n",
       "      <th></th>\n",
       "      <th>_c0</th>\n",
       "      <th>_c1</th>\n",
       "      <th>_c2</th>\n",
       "    </tr>\n",
       "  </thead>\n",
       "  <tbody>\n",
       "    <tr>\n",
       "      <th>0</th>\n",
       "      <td>name</td>\n",
       "      <td>race</td>\n",
       "      <td>age</td>\n",
       "    </tr>\n",
       "    <tr>\n",
       "      <th>1</th>\n",
       "      <td>Frodo</td>\n",
       "      <td>Hobbit</td>\n",
       "      <td>50</td>\n",
       "    </tr>\n",
       "    <tr>\n",
       "      <th>2</th>\n",
       "      <td>Sam</td>\n",
       "      <td>Hobbit</td>\n",
       "      <td>38</td>\n",
       "    </tr>\n",
       "    <tr>\n",
       "      <th>3</th>\n",
       "      <td>Merry</td>\n",
       "      <td>Hobbit</td>\n",
       "      <td>36</td>\n",
       "    </tr>\n",
       "    <tr>\n",
       "      <th>4</th>\n",
       "      <td>Pippin</td>\n",
       "      <td>Hobbit</td>\n",
       "      <td>28</td>\n",
       "    </tr>\n",
       "    <tr>\n",
       "      <th>5</th>\n",
       "      <td>Gandalf</td>\n",
       "      <td>Maia</td>\n",
       "      <td>2000</td>\n",
       "    </tr>\n",
       "    <tr>\n",
       "      <th>6</th>\n",
       "      <td>Legolas</td>\n",
       "      <td>Elf</td>\n",
       "      <td>2931</td>\n",
       "    </tr>\n",
       "    <tr>\n",
       "      <th>7</th>\n",
       "      <td>Gimli</td>\n",
       "      <td>Dwarf</td>\n",
       "      <td>139</td>\n",
       "    </tr>\n",
       "    <tr>\n",
       "      <th>8</th>\n",
       "      <td>Aragorn</td>\n",
       "      <td>Man</td>\n",
       "      <td>87</td>\n",
       "    </tr>\n",
       "    <tr>\n",
       "      <th>9</th>\n",
       "      <td>Boromir</td>\n",
       "      <td>Man</td>\n",
       "      <td>40</td>\n",
       "    </tr>\n",
       "  </tbody>\n",
       "</table>\n",
       "</div>"
      ],
      "text/plain": [
       "       _c0     _c1   _c2\n",
       "0     name    race   age\n",
       "1    Frodo  Hobbit    50\n",
       "2      Sam  Hobbit    38\n",
       "3    Merry  Hobbit    36\n",
       "4   Pippin  Hobbit    28\n",
       "5  Gandalf    Maia  2000\n",
       "6  Legolas     Elf  2931\n",
       "7    Gimli   Dwarf   139\n",
       "8  Aragorn     Man    87\n",
       "9  Boromir     Man    40"
      ]
     },
     "execution_count": 191,
     "metadata": {},
     "output_type": "execute_result"
    }
   ],
   "source": [
    "# read directly from file before extracting\n",
    "\n",
    "display(\n",
    "    spark.sql(f'select * from csv.`{sample_data_path}fellowship.csv`')\n",
    ")"
   ]
  },
  {
   "cell_type": "code",
   "execution_count": 193,
   "metadata": {},
   "outputs": [
    {
     "name": "stdout",
     "output_type": "stream",
     "text": [
      "root\n",
      " |-- _c0: string (nullable = true)\n",
      " |-- _c1: string (nullable = true)\n",
      " |-- _c2: string (nullable = true)\n",
      "\n"
     ]
    }
   ],
   "source": [
    "# csv files don't store schema\n",
    "\n",
    "spark.sql(f'select * from csv.`{sample_data_path}fellowship.csv`').printSchema()"
   ]
  },
  {
   "cell_type": "markdown",
   "metadata": {},
   "source": [
    "### External Tables"
   ]
  },
  {
   "cell_type": "code",
   "execution_count": 13,
   "metadata": {},
   "outputs": [],
   "source": [
    "# create external table\n",
    "\n",
    "query = f'''\n",
    "create table fellowship (\n",
    "    name string,\n",
    "    race string,\n",
    "    age int comment \"Gandalf's age refers to his physical body's approximate age\"\n",
    ")\n",
    "using csv\n",
    "options (header true,\n",
    "            path \"{sample_data_path}fellowship.csv\",\n",
    "            mode \"dropMalformed\"\n",
    "        )\n",
    "'''\n",
    "\n",
    "_ = spark.sql(query)\n"
   ]
  },
  {
   "cell_type": "code",
   "execution_count": 155,
   "metadata": {
    "vscode": {
     "languageId": "sql"
    }
   },
   "outputs": [
    {
     "data": {
      "text/html": [
       "<table><tr style=\"border-bottom: 1px solid\"><td style=\"font-weight: bold\">name</td><td style=\"font-weight: bold\">race</td><td style=\"font-weight: bold\">age</td></tr><tr><td>Frodo</td><td>Hobbit</td><td>50</td></tr><tr><td>Sam</td><td>Hobbit</td><td>38</td></tr><tr><td>Merry</td><td>Hobbit</td><td>36</td></tr><tr><td>Pippin</td><td>Hobbit</td><td>28</td></tr><tr><td>Gandalf</td><td>Maia</td><td>2000</td></tr><tr><td>Legolas</td><td>Elf</td><td>2931</td></tr><tr><td>Gimli</td><td>Dwarf</td><td>139</td></tr><tr><td>Aragorn</td><td>Man</td><td>87</td></tr><tr><td>Boromir</td><td>Man</td><td>40</td></tr></table>"
      ],
      "text/plain": [
       "<IPython.core.display.HTML object>"
      ]
     },
     "execution_count": 155,
     "metadata": {},
     "output_type": "execute_result"
    }
   ],
   "source": [
    "%%sparksql\n",
    "\n",
    "select * from fellowship"
   ]
  },
  {
   "cell_type": "code",
   "execution_count": 13,
   "metadata": {},
   "outputs": [
    {
     "data": {
      "text/html": [
       "<div>\n",
       "<style scoped>\n",
       "    .dataframe tbody tr th:only-of-type {\n",
       "        vertical-align: middle;\n",
       "    }\n",
       "\n",
       "    .dataframe tbody tr th {\n",
       "        vertical-align: top;\n",
       "    }\n",
       "\n",
       "    .dataframe thead th {\n",
       "        text-align: right;\n",
       "    }\n",
       "</style>\n",
       "<table border=\"1\" class=\"dataframe\">\n",
       "  <thead>\n",
       "    <tr style=\"text-align: right;\">\n",
       "      <th></th>\n",
       "      <th>col_name</th>\n",
       "      <th>data_type</th>\n",
       "      <th>comment</th>\n",
       "    </tr>\n",
       "  </thead>\n",
       "  <tbody>\n",
       "    <tr>\n",
       "      <th>0</th>\n",
       "      <td>name</td>\n",
       "      <td>string</td>\n",
       "      <td>None</td>\n",
       "    </tr>\n",
       "    <tr>\n",
       "      <th>1</th>\n",
       "      <td>race</td>\n",
       "      <td>string</td>\n",
       "      <td>None</td>\n",
       "    </tr>\n",
       "    <tr>\n",
       "      <th>2</th>\n",
       "      <td>age</td>\n",
       "      <td>int</td>\n",
       "      <td>Gandalf's age refers to his physical body's ap...</td>\n",
       "    </tr>\n",
       "    <tr>\n",
       "      <th>3</th>\n",
       "      <td></td>\n",
       "      <td></td>\n",
       "      <td></td>\n",
       "    </tr>\n",
       "    <tr>\n",
       "      <th>4</th>\n",
       "      <td># Detailed Table Information</td>\n",
       "      <td></td>\n",
       "      <td></td>\n",
       "    </tr>\n",
       "    <tr>\n",
       "      <th>5</th>\n",
       "      <td>Database</td>\n",
       "      <td>spark_course_db</td>\n",
       "      <td></td>\n",
       "    </tr>\n",
       "    <tr>\n",
       "      <th>6</th>\n",
       "      <td>Table</td>\n",
       "      <td>fellowship</td>\n",
       "      <td></td>\n",
       "    </tr>\n",
       "    <tr>\n",
       "      <th>7</th>\n",
       "      <td>Owner</td>\n",
       "      <td>siladitya</td>\n",
       "      <td></td>\n",
       "    </tr>\n",
       "    <tr>\n",
       "      <th>8</th>\n",
       "      <td>Last Access</td>\n",
       "      <td>UNKNOWN</td>\n",
       "      <td></td>\n",
       "    </tr>\n",
       "    <tr>\n",
       "      <th>9</th>\n",
       "      <td>Created By</td>\n",
       "      <td>Spark 3.2.1</td>\n",
       "      <td></td>\n",
       "    </tr>\n",
       "    <tr>\n",
       "      <th>10</th>\n",
       "      <td>Type</td>\n",
       "      <td>EXTERNAL</td>\n",
       "      <td></td>\n",
       "    </tr>\n",
       "    <tr>\n",
       "      <th>11</th>\n",
       "      <td>Provider</td>\n",
       "      <td>csv</td>\n",
       "      <td></td>\n",
       "    </tr>\n",
       "    <tr>\n",
       "      <th>12</th>\n",
       "      <td>Serde Library</td>\n",
       "      <td>org.apache.hadoop.hive.serde2.lazy.LazySimpleS...</td>\n",
       "      <td></td>\n",
       "    </tr>\n",
       "    <tr>\n",
       "      <th>13</th>\n",
       "      <td>InputFormat</td>\n",
       "      <td>org.apache.hadoop.mapred.SequenceFileInputFormat</td>\n",
       "      <td></td>\n",
       "    </tr>\n",
       "    <tr>\n",
       "      <th>14</th>\n",
       "      <td>OutputFormat</td>\n",
       "      <td>org.apache.hadoop.hive.ql.io.HiveSequenceFileO...</td>\n",
       "      <td></td>\n",
       "    </tr>\n",
       "    <tr>\n",
       "      <th>15</th>\n",
       "      <td>Storage Properties</td>\n",
       "      <td>[mode=dropMalformed, header=true]</td>\n",
       "      <td></td>\n",
       "    </tr>\n",
       "  </tbody>\n",
       "</table>\n",
       "</div>"
      ],
      "text/plain": [
       "                        col_name  \\\n",
       "0                           name   \n",
       "1                           race   \n",
       "2                            age   \n",
       "3                                  \n",
       "4   # Detailed Table Information   \n",
       "5                       Database   \n",
       "6                          Table   \n",
       "7                          Owner   \n",
       "8                    Last Access   \n",
       "9                     Created By   \n",
       "10                          Type   \n",
       "11                      Provider   \n",
       "12                 Serde Library   \n",
       "13                   InputFormat   \n",
       "14                  OutputFormat   \n",
       "15            Storage Properties   \n",
       "\n",
       "                                            data_type  \\\n",
       "0                                              string   \n",
       "1                                              string   \n",
       "2                                                 int   \n",
       "3                                                       \n",
       "4                                                       \n",
       "5                                     spark_course_db   \n",
       "6                                          fellowship   \n",
       "7                                           siladitya   \n",
       "8                                             UNKNOWN   \n",
       "9                                         Spark 3.2.1   \n",
       "10                                           EXTERNAL   \n",
       "11                                                csv   \n",
       "12  org.apache.hadoop.hive.serde2.lazy.LazySimpleS...   \n",
       "13   org.apache.hadoop.mapred.SequenceFileInputFormat   \n",
       "14  org.apache.hadoop.hive.ql.io.HiveSequenceFileO...   \n",
       "15                  [mode=dropMalformed, header=true]   \n",
       "\n",
       "                                              comment  \n",
       "0                                                None  \n",
       "1                                                None  \n",
       "2   Gandalf's age refers to his physical body's ap...  \n",
       "3                                                      \n",
       "4                                                      \n",
       "5                                                      \n",
       "6                                                      \n",
       "7                                                      \n",
       "8                                                      \n",
       "9                                                      \n",
       "10                                                     \n",
       "11                                                     \n",
       "12                                                     \n",
       "13                                                     \n",
       "14                                                     \n",
       "15                                                     "
      ]
     },
     "execution_count": 13,
     "metadata": {},
     "output_type": "execute_result"
    }
   ],
   "source": [
    "display(\n",
    "    spark.sql('describe extended fellowship').where('col_name not in (\"Created Time\", \"Location\")')\n",
    ", 100)"
   ]
  },
  {
   "cell_type": "code",
   "execution_count": 160,
   "metadata": {
    "vscode": {
     "languageId": "shellscript"
    }
   },
   "outputs": [
    {
     "name": "stdout",
     "output_type": "stream",
     "text": [
      ".\n",
      "..\n"
     ]
    }
   ],
   "source": [
    "%%bash -s \"$spark_warehouse_path/spark_course_db.db\"\n",
    "ls -a $1"
   ]
  },
  {
   "cell_type": "markdown",
   "metadata": {},
   "source": [
    "No table files in the database dir since `fellowship` is an external table.\n",
    "\n",
    "Files associated with `fellowship` will remain after dropping table. Will show this by creating another external table `fellowship2`."
   ]
  },
  {
   "cell_type": "code",
   "execution_count": 210,
   "metadata": {},
   "outputs": [],
   "source": [
    "query = f'''create external table fellowship2\n",
    "            row format delimited fields terminated by \",\"\n",
    "            location \"{data_path}fellowship2\"\n",
    "            as select * from fellowship'''\n",
    "\n",
    "_ = spark.sql(query)"
   ]
  },
  {
   "cell_type": "code",
   "execution_count": 211,
   "metadata": {
    "vscode": {
     "languageId": "shellscript"
    }
   },
   "outputs": [
    {
     "name": "stdout",
     "output_type": "stream",
     "text": [
      "part-00000-649df399-f44e-4793-b008-d616af70047a-c000\n"
     ]
    }
   ],
   "source": [
    "%%bash -s \"$data_path/fellowship2\"\n",
    "ls $1"
   ]
  },
  {
   "cell_type": "code",
   "execution_count": 212,
   "metadata": {
    "vscode": {
     "languageId": "sql"
    }
   },
   "outputs": [
    {
     "data": {
      "text/html": [
       "<table><tr style=\"border-bottom: 1px solid\"></tr></table>"
      ],
      "text/plain": [
       "<IPython.core.display.HTML object>"
      ]
     },
     "execution_count": 212,
     "metadata": {},
     "output_type": "execute_result"
    }
   ],
   "source": [
    "%%sparksql\n",
    "\n",
    "drop table if exists fellowship2"
   ]
  },
  {
   "cell_type": "code",
   "execution_count": 213,
   "metadata": {
    "vscode": {
     "languageId": "shellscript"
    }
   },
   "outputs": [
    {
     "name": "stdout",
     "output_type": "stream",
     "text": [
      "part-00000-649df399-f44e-4793-b008-d616af70047a-c000\n"
     ]
    }
   ],
   "source": [
    "%%bash -s \"$data_path/fellowship2\"\n",
    "ls $1"
   ]
  },
  {
   "cell_type": "markdown",
   "metadata": {},
   "source": [
    "The file(s) associated with the dropped table still exist. Need to delete them manually."
   ]
  },
  {
   "cell_type": "code",
   "execution_count": 216,
   "metadata": {
    "vscode": {
     "languageId": "shellscript"
    }
   },
   "outputs": [],
   "source": [
    "%%bash -s \"$data_path\"\n",
    "\n",
    "cd $1\n",
    "rm -rf fellowship2"
   ]
  },
  {
   "cell_type": "markdown",
   "metadata": {},
   "source": [
    "### Managed Tables"
   ]
  },
  {
   "cell_type": "code",
   "execution_count": 171,
   "metadata": {
    "vscode": {
     "languageId": "sql"
    }
   },
   "outputs": [
    {
     "data": {
      "text/html": [
       "<table><tr style=\"border-bottom: 1px solid\"></tr></table>"
      ],
      "text/plain": [
       "<IPython.core.display.HTML object>"
      ]
     },
     "execution_count": 171,
     "metadata": {},
     "output_type": "execute_result"
    }
   ],
   "source": [
    "%%sparksql\n",
    "\n",
    "-- create managed table\n",
    "create table fellowship_mgd as\n",
    "select * from fellowship"
   ]
  },
  {
   "cell_type": "code",
   "execution_count": 162,
   "metadata": {
    "vscode": {
     "languageId": "sql"
    }
   },
   "outputs": [
    {
     "data": {
      "text/html": [
       "<table><tr style=\"border-bottom: 1px solid\"><td style=\"font-weight: bold\">name</td><td style=\"font-weight: bold\">race</td><td style=\"font-weight: bold\">age</td></tr><tr><td>Frodo</td><td>Hobbit</td><td>50</td></tr><tr><td>Sam</td><td>Hobbit</td><td>38</td></tr><tr><td>Merry</td><td>Hobbit</td><td>36</td></tr><tr><td>Pippin</td><td>Hobbit</td><td>28</td></tr><tr><td>Gandalf</td><td>Maia</td><td>2000</td></tr><tr><td>Legolas</td><td>Elf</td><td>2931</td></tr><tr><td>Gimli</td><td>Dwarf</td><td>139</td></tr><tr><td>Aragorn</td><td>Man</td><td>87</td></tr><tr><td>Boromir</td><td>Man</td><td>40</td></tr></table>"
      ],
      "text/plain": [
       "<IPython.core.display.HTML object>"
      ]
     },
     "execution_count": 162,
     "metadata": {},
     "output_type": "execute_result"
    }
   ],
   "source": [
    "%%sparksql\n",
    "\n",
    "select * from fellowship_mgd"
   ]
  },
  {
   "cell_type": "code",
   "execution_count": 164,
   "metadata": {},
   "outputs": [
    {
     "data": {
      "text/html": [
       "<div>\n",
       "<style scoped>\n",
       "    .dataframe tbody tr th:only-of-type {\n",
       "        vertical-align: middle;\n",
       "    }\n",
       "\n",
       "    .dataframe tbody tr th {\n",
       "        vertical-align: top;\n",
       "    }\n",
       "\n",
       "    .dataframe thead th {\n",
       "        text-align: right;\n",
       "    }\n",
       "</style>\n",
       "<table border=\"1\" class=\"dataframe\">\n",
       "  <thead>\n",
       "    <tr style=\"text-align: right;\">\n",
       "      <th></th>\n",
       "      <th>col_name</th>\n",
       "      <th>data_type</th>\n",
       "      <th>comment</th>\n",
       "    </tr>\n",
       "  </thead>\n",
       "  <tbody>\n",
       "    <tr>\n",
       "      <th>0</th>\n",
       "      <td>name</td>\n",
       "      <td>string</td>\n",
       "      <td>None</td>\n",
       "    </tr>\n",
       "    <tr>\n",
       "      <th>1</th>\n",
       "      <td>race</td>\n",
       "      <td>string</td>\n",
       "      <td>None</td>\n",
       "    </tr>\n",
       "    <tr>\n",
       "      <th>2</th>\n",
       "      <td>age</td>\n",
       "      <td>int</td>\n",
       "      <td>None</td>\n",
       "    </tr>\n",
       "    <tr>\n",
       "      <th>3</th>\n",
       "      <td></td>\n",
       "      <td></td>\n",
       "      <td></td>\n",
       "    </tr>\n",
       "    <tr>\n",
       "      <th>4</th>\n",
       "      <td># Detailed Table Information</td>\n",
       "      <td></td>\n",
       "      <td></td>\n",
       "    </tr>\n",
       "    <tr>\n",
       "      <th>5</th>\n",
       "      <td>Database</td>\n",
       "      <td>spark_course_db</td>\n",
       "      <td></td>\n",
       "    </tr>\n",
       "    <tr>\n",
       "      <th>6</th>\n",
       "      <td>Table</td>\n",
       "      <td>fellowship_mgd</td>\n",
       "      <td></td>\n",
       "    </tr>\n",
       "    <tr>\n",
       "      <th>7</th>\n",
       "      <td>Owner</td>\n",
       "      <td>siladitya</td>\n",
       "      <td></td>\n",
       "    </tr>\n",
       "    <tr>\n",
       "      <th>8</th>\n",
       "      <td>Last Access</td>\n",
       "      <td>UNKNOWN</td>\n",
       "      <td></td>\n",
       "    </tr>\n",
       "    <tr>\n",
       "      <th>9</th>\n",
       "      <td>Created By</td>\n",
       "      <td>Spark 3.2.1</td>\n",
       "      <td></td>\n",
       "    </tr>\n",
       "    <tr>\n",
       "      <th>10</th>\n",
       "      <td>Type</td>\n",
       "      <td>MANAGED</td>\n",
       "      <td></td>\n",
       "    </tr>\n",
       "    <tr>\n",
       "      <th>11</th>\n",
       "      <td>Provider</td>\n",
       "      <td>hive</td>\n",
       "      <td></td>\n",
       "    </tr>\n",
       "    <tr>\n",
       "      <th>12</th>\n",
       "      <td>Table Properties</td>\n",
       "      <td>[transient_lastDdlTime=1655020193]</td>\n",
       "      <td></td>\n",
       "    </tr>\n",
       "    <tr>\n",
       "      <th>13</th>\n",
       "      <td>Statistics</td>\n",
       "      <td>144 bytes</td>\n",
       "      <td></td>\n",
       "    </tr>\n",
       "    <tr>\n",
       "      <th>14</th>\n",
       "      <td>Serde Library</td>\n",
       "      <td>org.apache.hadoop.hive.serde2.lazy.LazySimpleS...</td>\n",
       "      <td></td>\n",
       "    </tr>\n",
       "    <tr>\n",
       "      <th>15</th>\n",
       "      <td>InputFormat</td>\n",
       "      <td>org.apache.hadoop.mapred.TextInputFormat</td>\n",
       "      <td></td>\n",
       "    </tr>\n",
       "    <tr>\n",
       "      <th>16</th>\n",
       "      <td>OutputFormat</td>\n",
       "      <td>org.apache.hadoop.hive.ql.io.HiveIgnoreKeyText...</td>\n",
       "      <td></td>\n",
       "    </tr>\n",
       "    <tr>\n",
       "      <th>17</th>\n",
       "      <td>Storage Properties</td>\n",
       "      <td>[serialization.format=1]</td>\n",
       "      <td></td>\n",
       "    </tr>\n",
       "    <tr>\n",
       "      <th>18</th>\n",
       "      <td>Partition Provider</td>\n",
       "      <td>Catalog</td>\n",
       "      <td></td>\n",
       "    </tr>\n",
       "  </tbody>\n",
       "</table>\n",
       "</div>"
      ],
      "text/plain": [
       "                        col_name  \\\n",
       "0                           name   \n",
       "1                           race   \n",
       "2                            age   \n",
       "3                                  \n",
       "4   # Detailed Table Information   \n",
       "5                       Database   \n",
       "6                          Table   \n",
       "7                          Owner   \n",
       "8                    Last Access   \n",
       "9                     Created By   \n",
       "10                          Type   \n",
       "11                      Provider   \n",
       "12              Table Properties   \n",
       "13                    Statistics   \n",
       "14                 Serde Library   \n",
       "15                   InputFormat   \n",
       "16                  OutputFormat   \n",
       "17            Storage Properties   \n",
       "18            Partition Provider   \n",
       "\n",
       "                                            data_type comment  \n",
       "0                                              string    None  \n",
       "1                                              string    None  \n",
       "2                                                 int    None  \n",
       "3                                                              \n",
       "4                                                              \n",
       "5                                     spark_course_db          \n",
       "6                                      fellowship_mgd          \n",
       "7                                           siladitya          \n",
       "8                                             UNKNOWN          \n",
       "9                                         Spark 3.2.1          \n",
       "10                                            MANAGED          \n",
       "11                                               hive          \n",
       "12                 [transient_lastDdlTime=1655020193]          \n",
       "13                                          144 bytes          \n",
       "14  org.apache.hadoop.hive.serde2.lazy.LazySimpleS...          \n",
       "15           org.apache.hadoop.mapred.TextInputFormat          \n",
       "16  org.apache.hadoop.hive.ql.io.HiveIgnoreKeyText...          \n",
       "17                           [serialization.format=1]          \n",
       "18                                            Catalog          "
      ]
     },
     "execution_count": 164,
     "metadata": {},
     "output_type": "execute_result"
    }
   ],
   "source": [
    "display(\n",
    "    spark.sql('describe extended fellowship_mgd').where('col_name not in (\"Created Time\", \"Location\")')\n",
    ", 100)"
   ]
  },
  {
   "cell_type": "code",
   "execution_count": 165,
   "metadata": {
    "vscode": {
     "languageId": "shellscript"
    }
   },
   "outputs": [
    {
     "name": "stdout",
     "output_type": "stream",
     "text": [
      ".\n",
      "..\n",
      "fellowship_mgd\n"
     ]
    }
   ],
   "source": [
    "%%bash -s \"$spark_warehouse_path/spark_course_db.db\"\n",
    "ls -a $1"
   ]
  },
  {
   "cell_type": "markdown",
   "metadata": {},
   "source": [
    "Now we have Parquet files associated with the managed table `fellowship_mgd`."
   ]
  },
  {
   "cell_type": "code",
   "execution_count": 166,
   "metadata": {
    "vscode": {
     "languageId": "sql"
    }
   },
   "outputs": [
    {
     "name": "stdout",
     "output_type": "stream",
     "text": [
      ".\n",
      "..\n",
      "part-00000-4401182c-2569-4751-ac30-4113c2c8babb-c000\n",
      ".part-00000-4401182c-2569-4751-ac30-4113c2c8babb-c000.crc\n"
     ]
    }
   ],
   "source": [
    "%%bash -s \"$spark_warehouse_path/spark_course_db.db/fellowship_mgd\"\n",
    "ls -a $1"
   ]
  },
  {
   "cell_type": "code",
   "execution_count": 176,
   "metadata": {
    "vscode": {
     "languageId": "sql"
    }
   },
   "outputs": [
    {
     "data": {
      "text/html": [
       "<table><tr style=\"border-bottom: 1px solid\"></tr></table>"
      ],
      "text/plain": [
       "<IPython.core.display.HTML object>"
      ]
     },
     "execution_count": 176,
     "metadata": {},
     "output_type": "execute_result"
    }
   ],
   "source": [
    "%%sparksql\n",
    "\n",
    "drop table if exists fellowship_mgd"
   ]
  },
  {
   "cell_type": "code",
   "execution_count": 179,
   "metadata": {
    "vscode": {
     "languageId": "sql"
    }
   },
   "outputs": [
    {
     "name": "stdout",
     "output_type": "stream",
     "text": [
      ".\n",
      "..\n"
     ]
    }
   ],
   "source": [
    "%%bash -s \"$spark_warehouse_path/spark_course_db.db\"\n",
    "ls -a $1"
   ]
  },
  {
   "cell_type": "markdown",
   "metadata": {},
   "source": [
    "Files associated with `fellowship_mgd` have been deleted."
   ]
  },
  {
   "cell_type": "markdown",
   "metadata": {},
   "source": [
    "#### Managed Delta Table"
   ]
  },
  {
   "cell_type": "code",
   "execution_count": 14,
   "metadata": {
    "vscode": {
     "languageId": "sql"
    }
   },
   "outputs": [
    {
     "name": "stderr",
     "output_type": "stream",
     "text": [
      "                                                                                \r"
     ]
    },
    {
     "data": {
      "text/html": [
       "<table><tr style=\"border-bottom: 1px solid\"></tr></table>"
      ],
      "text/plain": [
       "<IPython.core.display.HTML object>"
      ]
     },
     "execution_count": 14,
     "metadata": {},
     "output_type": "execute_result"
    }
   ],
   "source": [
    "%%sparksql\n",
    "\n",
    "-- create managed delta table\n",
    "\n",
    "create table fellowship_delta using delta as\n",
    "select * from fellowship"
   ]
  },
  {
   "cell_type": "code",
   "execution_count": 183,
   "metadata": {
    "vscode": {
     "languageId": "shellscript"
    }
   },
   "outputs": [
    {
     "name": "stdout",
     "output_type": "stream",
     "text": [
      ".\n",
      "..\n",
      "_delta_log\n",
      "part-00000-c2ff031a-40d0-412b-92dd-b06d7a54edce-c000.snappy.parquet\n",
      ".part-00000-c2ff031a-40d0-412b-92dd-b06d7a54edce-c000.snappy.parquet.crc\n"
     ]
    }
   ],
   "source": [
    "%%bash -s \"$spark_warehouse_path/spark_course_db.db/fellowship_delta\"\n",
    "ls -a $1"
   ]
  },
  {
   "cell_type": "code",
   "execution_count": 190,
   "metadata": {},
   "outputs": [
    {
     "data": {
      "text/html": [
       "<div>\n",
       "<style scoped>\n",
       "    .dataframe tbody tr th:only-of-type {\n",
       "        vertical-align: middle;\n",
       "    }\n",
       "\n",
       "    .dataframe tbody tr th {\n",
       "        vertical-align: top;\n",
       "    }\n",
       "\n",
       "    .dataframe thead th {\n",
       "        text-align: right;\n",
       "    }\n",
       "</style>\n",
       "<table border=\"1\" class=\"dataframe\">\n",
       "  <thead>\n",
       "    <tr style=\"text-align: right;\">\n",
       "      <th></th>\n",
       "      <th>name</th>\n",
       "      <th>race</th>\n",
       "      <th>age</th>\n",
       "    </tr>\n",
       "  </thead>\n",
       "  <tbody>\n",
       "    <tr>\n",
       "      <th>0</th>\n",
       "      <td>Frodo</td>\n",
       "      <td>Hobbit</td>\n",
       "      <td>50</td>\n",
       "    </tr>\n",
       "    <tr>\n",
       "      <th>1</th>\n",
       "      <td>Sam</td>\n",
       "      <td>Hobbit</td>\n",
       "      <td>38</td>\n",
       "    </tr>\n",
       "    <tr>\n",
       "      <th>2</th>\n",
       "      <td>Merry</td>\n",
       "      <td>Hobbit</td>\n",
       "      <td>36</td>\n",
       "    </tr>\n",
       "    <tr>\n",
       "      <th>3</th>\n",
       "      <td>Pippin</td>\n",
       "      <td>Hobbit</td>\n",
       "      <td>28</td>\n",
       "    </tr>\n",
       "    <tr>\n",
       "      <th>4</th>\n",
       "      <td>Gandalf</td>\n",
       "      <td>Maia</td>\n",
       "      <td>2000</td>\n",
       "    </tr>\n",
       "    <tr>\n",
       "      <th>5</th>\n",
       "      <td>Legolas</td>\n",
       "      <td>Elf</td>\n",
       "      <td>2931</td>\n",
       "    </tr>\n",
       "    <tr>\n",
       "      <th>6</th>\n",
       "      <td>Gimli</td>\n",
       "      <td>Dwarf</td>\n",
       "      <td>139</td>\n",
       "    </tr>\n",
       "    <tr>\n",
       "      <th>7</th>\n",
       "      <td>Aragorn</td>\n",
       "      <td>Man</td>\n",
       "      <td>87</td>\n",
       "    </tr>\n",
       "    <tr>\n",
       "      <th>8</th>\n",
       "      <td>Boromir</td>\n",
       "      <td>Man</td>\n",
       "      <td>40</td>\n",
       "    </tr>\n",
       "  </tbody>\n",
       "</table>\n",
       "</div>"
      ],
      "text/plain": [
       "      name    race   age\n",
       "0    Frodo  Hobbit    50\n",
       "1      Sam  Hobbit    38\n",
       "2    Merry  Hobbit    36\n",
       "3   Pippin  Hobbit    28\n",
       "4  Gandalf    Maia  2000\n",
       "5  Legolas     Elf  2931\n",
       "6    Gimli   Dwarf   139\n",
       "7  Aragorn     Man    87\n",
       "8  Boromir     Man    40"
      ]
     },
     "execution_count": 190,
     "metadata": {},
     "output_type": "execute_result"
    }
   ],
   "source": [
    "# read directly from Parquet file\n",
    "\n",
    "display(\n",
    "    spark.sql(f'select * from parquet.`{spark_warehouse_path}spark_course_db.db/fellowship_delta/part-00000-c2ff031a-40d0-412b-92dd-b06d7a54edce-c000.snappy.parquet`')\n",
    ")"
   ]
  },
  {
   "cell_type": "code",
   "execution_count": 192,
   "metadata": {},
   "outputs": [
    {
     "name": "stdout",
     "output_type": "stream",
     "text": [
      "root\n",
      " |-- name: string (nullable = true)\n",
      " |-- race: string (nullable = true)\n",
      " |-- age: integer (nullable = true)\n",
      "\n"
     ]
    }
   ],
   "source": [
    "# parquet files store schema\n",
    "\n",
    "spark.sql(f'select * from parquet.`{spark_warehouse_path}spark_course_db.db/fellowship_delta/part-00000-c2ff031a-40d0-412b-92dd-b06d7a54edce-c000.snappy.parquet`').printSchema()"
   ]
  },
  {
   "cell_type": "markdown",
   "metadata": {},
   "source": [
    "##### Delta Transaction Log"
   ]
  },
  {
   "cell_type": "code",
   "execution_count": null,
   "metadata": {
    "vscode": {
     "languageId": "shellscript"
    }
   },
   "outputs": [
    {
     "name": "stdout",
     "output_type": "stream",
     "text": [
      ".\n",
      "..\n",
      "00000000000000000000.json\n",
      ".00000000000000000000.json.crc\n"
     ]
    }
   ],
   "source": [
    "%%bash -s \"$spark_warehouse_path/spark_course_db.db/fellowship_delta/_delta_log\"\n",
    "ls -a $1"
   ]
  },
  {
   "cell_type": "code",
   "execution_count": 186,
   "metadata": {},
   "outputs": [
    {
     "data": {
      "text/html": [
       "<div>\n",
       "<style scoped>\n",
       "    .dataframe tbody tr th:only-of-type {\n",
       "        vertical-align: middle;\n",
       "    }\n",
       "\n",
       "    .dataframe tbody tr th {\n",
       "        vertical-align: top;\n",
       "    }\n",
       "\n",
       "    .dataframe thead th {\n",
       "        text-align: right;\n",
       "    }\n",
       "</style>\n",
       "<table border=\"1\" class=\"dataframe\">\n",
       "  <thead>\n",
       "    <tr style=\"text-align: right;\">\n",
       "      <th></th>\n",
       "      <th>add</th>\n",
       "      <th>commitInfo</th>\n",
       "      <th>metaData</th>\n",
       "      <th>protocol</th>\n",
       "    </tr>\n",
       "  </thead>\n",
       "  <tbody>\n",
       "    <tr>\n",
       "      <th>0</th>\n",
       "      <td>None</td>\n",
       "      <td>None</td>\n",
       "      <td>None</td>\n",
       "      <td>(1, 2)</td>\n",
       "    </tr>\n",
       "    <tr>\n",
       "      <th>1</th>\n",
       "      <td>None</td>\n",
       "      <td>None</td>\n",
       "      <td>(1655021106040, (parquet,), 8992d826-97a7-4617...</td>\n",
       "      <td>None</td>\n",
       "    </tr>\n",
       "    <tr>\n",
       "      <th>2</th>\n",
       "      <td>(True, 1655021106283, part-00000-c2ff031a-40d0...</td>\n",
       "      <td>None</td>\n",
       "      <td>None</td>\n",
       "      <td>None</td>\n",
       "    </tr>\n",
       "    <tr>\n",
       "      <th>3</th>\n",
       "      <td>None</td>\n",
       "      <td>(Apache-Spark/3.2.1 Delta-Lake/1.2.1, True, Se...</td>\n",
       "      <td>None</td>\n",
       "      <td>None</td>\n",
       "    </tr>\n",
       "  </tbody>\n",
       "</table>\n",
       "</div>"
      ],
      "text/plain": [
       "                                                 add  \\\n",
       "0                                               None   \n",
       "1                                               None   \n",
       "2  (True, 1655021106283, part-00000-c2ff031a-40d0...   \n",
       "3                                               None   \n",
       "\n",
       "                                          commitInfo  \\\n",
       "0                                               None   \n",
       "1                                               None   \n",
       "2                                               None   \n",
       "3  (Apache-Spark/3.2.1 Delta-Lake/1.2.1, True, Se...   \n",
       "\n",
       "                                            metaData protocol  \n",
       "0                                               None   (1, 2)  \n",
       "1  (1655021106040, (parquet,), 8992d826-97a7-4617...     None  \n",
       "2                                               None     None  \n",
       "3                                               None     None  "
      ]
     },
     "execution_count": 186,
     "metadata": {},
     "output_type": "execute_result"
    }
   ],
   "source": [
    "display(\n",
    "    spark.sql(f'select * from json.`{spark_warehouse_path}spark_course_db.db/fellowship_delta/_delta_log/00000000000000000000.json`')\n",
    ")"
   ]
  },
  {
   "cell_type": "markdown",
   "metadata": {},
   "source": [
    "#### Managed Partitioned Delta Table"
   ]
  },
  {
   "cell_type": "code",
   "execution_count": 15,
   "metadata": {
    "vscode": {
     "languageId": "sql"
    }
   },
   "outputs": [
    {
     "name": "stderr",
     "output_type": "stream",
     "text": [
      "                                                                                \r"
     ]
    },
    {
     "data": {
      "text/html": [
       "<table><tr style=\"border-bottom: 1px solid\"></tr></table>"
      ],
      "text/plain": [
       "<IPython.core.display.HTML object>"
      ]
     },
     "execution_count": 15,
     "metadata": {},
     "output_type": "execute_result"
    }
   ],
   "source": [
    "%%sparksql\n",
    "\n",
    "create table fellowship_delta_part using delta partitioned by (race)\n",
    "as select * from fellowship_delta"
   ]
  },
  {
   "cell_type": "code",
   "execution_count": 32,
   "metadata": {
    "vscode": {
     "languageId": "shellscript"
    }
   },
   "outputs": [
    {
     "name": "stdout",
     "output_type": "stream",
     "text": [
      ".\n",
      "..\n",
      "_delta_log\n",
      "race=Dwarf\n",
      "race=Elf\n",
      "race=Hobbit\n",
      "race=Maia\n",
      "race=Man\n",
      "race=Pony\n"
     ]
    }
   ],
   "source": [
    "%%bash -s \"$spark_warehouse_path/spark_course_db.db/fellowship_delta_part\"\n",
    "ls -a $1"
   ]
  },
  {
   "cell_type": "code",
   "execution_count": 35,
   "metadata": {},
   "outputs": [
    {
     "data": {
      "text/html": [
       "<div>\n",
       "<style scoped>\n",
       "    .dataframe tbody tr th:only-of-type {\n",
       "        vertical-align: middle;\n",
       "    }\n",
       "\n",
       "    .dataframe tbody tr th {\n",
       "        vertical-align: top;\n",
       "    }\n",
       "\n",
       "    .dataframe thead th {\n",
       "        text-align: right;\n",
       "    }\n",
       "</style>\n",
       "<table border=\"1\" class=\"dataframe\">\n",
       "  <thead>\n",
       "    <tr style=\"text-align: right;\">\n",
       "      <th></th>\n",
       "      <th>name</th>\n",
       "      <th>age</th>\n",
       "    </tr>\n",
       "  </thead>\n",
       "  <tbody>\n",
       "    <tr>\n",
       "      <th>0</th>\n",
       "      <td>Frodo</td>\n",
       "      <td>50</td>\n",
       "    </tr>\n",
       "    <tr>\n",
       "      <th>1</th>\n",
       "      <td>Sam</td>\n",
       "      <td>38</td>\n",
       "    </tr>\n",
       "    <tr>\n",
       "      <th>2</th>\n",
       "      <td>Merry</td>\n",
       "      <td>36</td>\n",
       "    </tr>\n",
       "    <tr>\n",
       "      <th>3</th>\n",
       "      <td>Pippin</td>\n",
       "      <td>28</td>\n",
       "    </tr>\n",
       "  </tbody>\n",
       "</table>\n",
       "</div>"
      ],
      "text/plain": [
       "     name  age\n",
       "0   Frodo   50\n",
       "1     Sam   38\n",
       "2   Merry   36\n",
       "3  Pippin   28"
      ]
     },
     "execution_count": 35,
     "metadata": {},
     "output_type": "execute_result"
    }
   ],
   "source": [
    "display(\n",
    "    spark.sql(f'select * from parquet.`{spark_warehouse_path}spark_course_db.db/fellowship_delta_part/race=Hobbit`')\n",
    ")"
   ]
  },
  {
   "cell_type": "markdown",
   "metadata": {
    "vscode": {
     "languageId": "sql"
    }
   },
   "source": [
    "## Insert"
   ]
  },
  {
   "cell_type": "code",
   "execution_count": 16,
   "metadata": {
    "vscode": {
     "languageId": "sql"
    }
   },
   "outputs": [
    {
     "name": "stderr",
     "output_type": "stream",
     "text": [
      "                                                                                \r"
     ]
    },
    {
     "data": {
      "text/html": [
       "<table><tr style=\"border-bottom: 1px solid\"></tr></table>"
      ],
      "text/plain": [
       "<IPython.core.display.HTML object>"
      ]
     },
     "execution_count": 16,
     "metadata": {},
     "output_type": "execute_result"
    }
   ],
   "source": [
    "%%sparksql\n",
    "\n",
    "insert into fellowship_delta\n",
    "values (\"Bill\", \"Pony\", null),\n",
    "       (\"Gollum\", \"Hobbit\", 589)"
   ]
  },
  {
   "cell_type": "code",
   "execution_count": 17,
   "metadata": {
    "vscode": {
     "languageId": "sql"
    }
   },
   "outputs": [
    {
     "data": {
      "text/html": [
       "<table><tr style=\"border-bottom: 1px solid\"><td style=\"font-weight: bold\">name</td><td style=\"font-weight: bold\">race</td><td style=\"font-weight: bold\">age</td></tr><tr><td>Frodo</td><td>Hobbit</td><td>50</td></tr><tr><td>Sam</td><td>Hobbit</td><td>38</td></tr><tr><td>Merry</td><td>Hobbit</td><td>36</td></tr><tr><td>Pippin</td><td>Hobbit</td><td>28</td></tr><tr><td>Gandalf</td><td>Maia</td><td>2000</td></tr><tr><td>Legolas</td><td>Elf</td><td>2931</td></tr><tr><td>Gimli</td><td>Dwarf</td><td>139</td></tr><tr><td>Aragorn</td><td>Man</td><td>87</td></tr><tr><td>Boromir</td><td>Man</td><td>40</td></tr><tr><td>Gollum</td><td>Hobbit</td><td>589</td></tr><tr><td>Bill</td><td>Pony</td><td>null</td></tr></table>"
      ],
      "text/plain": [
       "<IPython.core.display.HTML object>"
      ]
     },
     "execution_count": 17,
     "metadata": {},
     "output_type": "execute_result"
    }
   ],
   "source": [
    "%%sparksql\n",
    "\n",
    "select * from fellowship_delta"
   ]
  },
  {
   "cell_type": "code",
   "execution_count": null,
   "metadata": {
    "vscode": {
     "languageId": "shellscript"
    }
   },
   "outputs": [
    {
     "name": "stdout",
     "output_type": "stream",
     "text": [
      ".\n",
      "..\n",
      "00000000000000000000.json\n",
      ".00000000000000000000.json.crc\n",
      "00000000000000000001.json\n",
      ".00000000000000000001.json.crc\n"
     ]
    }
   ],
   "source": [
    "%%bash -s \"$spark_warehouse_path/spark_course_db.db/fellowship_delta/_delta_log\"\n",
    "ls -a $1"
   ]
  },
  {
   "cell_type": "code",
   "execution_count": 21,
   "metadata": {},
   "outputs": [
    {
     "data": {
      "text/html": [
       "<div>\n",
       "<style scoped>\n",
       "    .dataframe tbody tr th:only-of-type {\n",
       "        vertical-align: middle;\n",
       "    }\n",
       "\n",
       "    .dataframe tbody tr th {\n",
       "        vertical-align: top;\n",
       "    }\n",
       "\n",
       "    .dataframe thead th {\n",
       "        text-align: right;\n",
       "    }\n",
       "</style>\n",
       "<table border=\"1\" class=\"dataframe\">\n",
       "  <thead>\n",
       "    <tr style=\"text-align: right;\">\n",
       "      <th></th>\n",
       "      <th>add</th>\n",
       "      <th>commitInfo</th>\n",
       "    </tr>\n",
       "  </thead>\n",
       "  <tbody>\n",
       "    <tr>\n",
       "      <th>0</th>\n",
       "      <td>(True, 1655026550019, part-00000-3b510383-2c43...</td>\n",
       "      <td>None</td>\n",
       "    </tr>\n",
       "    <tr>\n",
       "      <th>1</th>\n",
       "      <td>(True, 1655026550011, part-00001-4b7b0e14-04d1...</td>\n",
       "      <td>None</td>\n",
       "    </tr>\n",
       "    <tr>\n",
       "      <th>2</th>\n",
       "      <td>None</td>\n",
       "      <td>(Apache-Spark/3.2.1 Delta-Lake/1.2.1, True, Se...</td>\n",
       "    </tr>\n",
       "  </tbody>\n",
       "</table>\n",
       "</div>"
      ],
      "text/plain": [
       "                                                 add  \\\n",
       "0  (True, 1655026550019, part-00000-3b510383-2c43...   \n",
       "1  (True, 1655026550011, part-00001-4b7b0e14-04d1...   \n",
       "2                                               None   \n",
       "\n",
       "                                          commitInfo  \n",
       "0                                               None  \n",
       "1                                               None  \n",
       "2  (Apache-Spark/3.2.1 Delta-Lake/1.2.1, True, Se...  "
      ]
     },
     "execution_count": 21,
     "metadata": {},
     "output_type": "execute_result"
    }
   ],
   "source": [
    "# new JSON log\n",
    "\n",
    "display(\n",
    "    spark.sql(f'select * from json.`{spark_warehouse_path}spark_course_db.db/fellowship_delta/_delta_log/00000000000000000001.json`')\n",
    ")"
   ]
  },
  {
   "cell_type": "markdown",
   "metadata": {},
   "source": [
    "## Delete"
   ]
  },
  {
   "cell_type": "code",
   "execution_count": 18,
   "metadata": {
    "vscode": {
     "languageId": "sql"
    }
   },
   "outputs": [
    {
     "name": "stderr",
     "output_type": "stream",
     "text": [
      "                                                                                \r"
     ]
    },
    {
     "data": {
      "text/html": [
       "<table><tr style=\"border-bottom: 1px solid\"></tr></table>"
      ],
      "text/plain": [
       "<IPython.core.display.HTML object>"
      ]
     },
     "execution_count": 18,
     "metadata": {},
     "output_type": "execute_result"
    }
   ],
   "source": [
    "%%sparksql\n",
    "\n",
    "delete from fellowship_delta\n",
    "where name = 'Gollum'"
   ]
  },
  {
   "cell_type": "code",
   "execution_count": 23,
   "metadata": {
    "vscode": {
     "languageId": "shellscript"
    }
   },
   "outputs": [
    {
     "name": "stdout",
     "output_type": "stream",
     "text": [
      ".\n",
      "..\n",
      "00000000000000000000.json\n",
      ".00000000000000000000.json.crc\n",
      "00000000000000000001.json\n",
      ".00000000000000000001.json.crc\n",
      "00000000000000000002.json\n",
      ".00000000000000000002.json.crc\n"
     ]
    }
   ],
   "source": [
    "%%bash -s \"$spark_warehouse_path/spark_course_db.db/fellowship_delta/_delta_log\"\n",
    "ls -a $1"
   ]
  },
  {
   "cell_type": "code",
   "execution_count": 24,
   "metadata": {
    "vscode": {
     "languageId": "sql"
    }
   },
   "outputs": [
    {
     "data": {
      "text/html": [
       "<div>\n",
       "<style scoped>\n",
       "    .dataframe tbody tr th:only-of-type {\n",
       "        vertical-align: middle;\n",
       "    }\n",
       "\n",
       "    .dataframe tbody tr th {\n",
       "        vertical-align: top;\n",
       "    }\n",
       "\n",
       "    .dataframe thead th {\n",
       "        text-align: right;\n",
       "    }\n",
       "</style>\n",
       "<table border=\"1\" class=\"dataframe\">\n",
       "  <thead>\n",
       "    <tr style=\"text-align: right;\">\n",
       "      <th></th>\n",
       "      <th>add</th>\n",
       "      <th>commitInfo</th>\n",
       "      <th>remove</th>\n",
       "    </tr>\n",
       "  </thead>\n",
       "  <tbody>\n",
       "    <tr>\n",
       "      <th>0</th>\n",
       "      <td>None</td>\n",
       "      <td>None</td>\n",
       "      <td>(True, 1655026693647, True, part-00001-4b7b0e1...</td>\n",
       "    </tr>\n",
       "    <tr>\n",
       "      <th>1</th>\n",
       "      <td>(True, 1655026693635, part-00000-1ad64207-c555...</td>\n",
       "      <td>None</td>\n",
       "      <td>None</td>\n",
       "    </tr>\n",
       "    <tr>\n",
       "      <th>2</th>\n",
       "      <td>None</td>\n",
       "      <td>(Apache-Spark/3.2.1 Delta-Lake/1.2.1, False, S...</td>\n",
       "      <td>None</td>\n",
       "    </tr>\n",
       "  </tbody>\n",
       "</table>\n",
       "</div>"
      ],
      "text/plain": [
       "                                                 add  \\\n",
       "0                                               None   \n",
       "1  (True, 1655026693635, part-00000-1ad64207-c555...   \n",
       "2                                               None   \n",
       "\n",
       "                                          commitInfo  \\\n",
       "0                                               None   \n",
       "1                                               None   \n",
       "2  (Apache-Spark/3.2.1 Delta-Lake/1.2.1, False, S...   \n",
       "\n",
       "                                              remove  \n",
       "0  (True, 1655026693647, True, part-00001-4b7b0e1...  \n",
       "1                                               None  \n",
       "2                                               None  "
      ]
     },
     "execution_count": 24,
     "metadata": {},
     "output_type": "execute_result"
    }
   ],
   "source": [
    "# new JSON log\n",
    "\n",
    "display(\n",
    "    spark.sql(f'select * from json.`{spark_warehouse_path}spark_course_db.db/fellowship_delta/_delta_log/00000000000000000002.json`')\n",
    ")"
   ]
  },
  {
   "cell_type": "markdown",
   "metadata": {},
   "source": [
    "## Update"
   ]
  },
  {
   "cell_type": "code",
   "execution_count": 25,
   "metadata": {
    "vscode": {
     "languageId": "sql"
    }
   },
   "outputs": [
    {
     "name": "stderr",
     "output_type": "stream",
     "text": [
      "                                                                                \r"
     ]
    },
    {
     "data": {
      "text/html": [
       "<table><tr style=\"border-bottom: 1px solid\"></tr></table>"
      ],
      "text/plain": [
       "<IPython.core.display.HTML object>"
      ]
     },
     "execution_count": 25,
     "metadata": {},
     "output_type": "execute_result"
    }
   ],
   "source": [
    "%%sparksql\n",
    "\n",
    "update fellowship_delta\n",
    "set race = 'Istar', age = 3000\n",
    "where name = 'Gandalf'"
   ]
  },
  {
   "cell_type": "code",
   "execution_count": 26,
   "metadata": {
    "vscode": {
     "languageId": "sql"
    }
   },
   "outputs": [
    {
     "data": {
      "text/html": [
       "<table><tr style=\"border-bottom: 1px solid\"><td style=\"font-weight: bold\">name</td><td style=\"font-weight: bold\">race</td><td style=\"font-weight: bold\">age</td></tr><tr><td>Frodo</td><td>Hobbit</td><td>50</td></tr><tr><td>Sam</td><td>Hobbit</td><td>38</td></tr><tr><td>Merry</td><td>Hobbit</td><td>36</td></tr><tr><td>Pippin</td><td>Hobbit</td><td>28</td></tr><tr><td>Gandalf</td><td>Istar</td><td>3000</td></tr><tr><td>Legolas</td><td>Elf</td><td>2931</td></tr><tr><td>Gimli</td><td>Dwarf</td><td>139</td></tr><tr><td>Aragorn</td><td>Man</td><td>87</td></tr><tr><td>Boromir</td><td>Man</td><td>40</td></tr><tr><td>Bill</td><td>Pony</td><td>null</td></tr></table>"
      ],
      "text/plain": [
       "<IPython.core.display.HTML object>"
      ]
     },
     "execution_count": 26,
     "metadata": {},
     "output_type": "execute_result"
    }
   ],
   "source": [
    "%%sparksql\n",
    "\n",
    "select * from fellowship_delta"
   ]
  },
  {
   "cell_type": "markdown",
   "metadata": {},
   "source": [
    "## Upsert using MERGE"
   ]
  },
  {
   "cell_type": "code",
   "execution_count": 22,
   "metadata": {
    "vscode": {
     "languageId": "sql"
    }
   },
   "outputs": [
    {
     "data": {
      "text/html": [
       "<table><tr style=\"border-bottom: 1px solid\"><td style=\"font-weight: bold\">name</td><td style=\"font-weight: bold\">race</td><td style=\"font-weight: bold\">age</td></tr><tr><td>Frodo</td><td>Hobbit</td><td>50</td></tr><tr><td>Sam</td><td>Hobbit</td><td>38</td></tr><tr><td>Merry</td><td>Hobbit</td><td>36</td></tr><tr><td>Pippin</td><td>Hobbit</td><td>28</td></tr><tr><td>Gandalf</td><td>Maia</td><td>2000</td></tr><tr><td>Legolas</td><td>Elf</td><td>2931</td></tr><tr><td>Aragorn</td><td>Man</td><td>87</td></tr><tr><td>Boromir</td><td>Man</td><td>40</td></tr><tr><td>Gimli</td><td>Dwarf</td><td>139</td></tr></table>"
      ],
      "text/plain": [
       "<IPython.core.display.HTML object>"
      ]
     },
     "execution_count": 22,
     "metadata": {},
     "output_type": "execute_result"
    }
   ],
   "source": [
    "%%sparksql\n",
    "\n",
    "select * from fellowship_delta_part"
   ]
  },
  {
   "cell_type": "code",
   "execution_count": 27,
   "metadata": {
    "vscode": {
     "languageId": "sql"
    }
   },
   "outputs": [
    {
     "name": "stderr",
     "output_type": "stream",
     "text": [
      "                                                                                \r"
     ]
    },
    {
     "data": {
      "text/html": [
       "<table><tr style=\"border-bottom: 1px solid\"></tr></table>"
      ],
      "text/plain": [
       "<IPython.core.display.HTML object>"
      ]
     },
     "execution_count": 27,
     "metadata": {},
     "output_type": "execute_result"
    }
   ],
   "source": [
    "%%sparksql\n",
    "\n",
    "merge into fellowship_delta_part t -- target\n",
    "using fellowship_delta s -- source\n",
    "on t.name = s.name\n",
    "when matched then update set t.age = s.age"
   ]
  },
  {
   "cell_type": "code",
   "execution_count": 28,
   "metadata": {
    "vscode": {
     "languageId": "sql"
    }
   },
   "outputs": [
    {
     "data": {
      "text/html": [
       "<table><tr style=\"border-bottom: 1px solid\"><td style=\"font-weight: bold\">name</td><td style=\"font-weight: bold\">race</td><td style=\"font-weight: bold\">age</td></tr><tr><td>Gandalf</td><td>Maia</td><td>3000</td></tr></table>"
      ],
      "text/plain": [
       "<IPython.core.display.HTML object>"
      ]
     },
     "execution_count": 28,
     "metadata": {},
     "output_type": "execute_result"
    }
   ],
   "source": [
    "%%sparksql\n",
    "\n",
    "select * from fellowship_delta_part where name = 'Gandalf'"
   ]
  },
  {
   "cell_type": "code",
   "execution_count": 31,
   "metadata": {
    "vscode": {
     "languageId": "sql"
    }
   },
   "outputs": [
    {
     "name": "stderr",
     "output_type": "stream",
     "text": [
      "                                                                                \r"
     ]
    },
    {
     "data": {
      "text/html": [
       "<table><tr style=\"border-bottom: 1px solid\"></tr></table>"
      ],
      "text/plain": [
       "<IPython.core.display.HTML object>"
      ]
     },
     "execution_count": 31,
     "metadata": {},
     "output_type": "execute_result"
    }
   ],
   "source": [
    "%%sparksql\n",
    "\n",
    "merge into fellowship_delta_part t\n",
    "using fellowship_delta s\n",
    "on t.name = s.name\n",
    "when not matched then insert *"
   ]
  },
  {
   "cell_type": "code",
   "execution_count": 32,
   "metadata": {
    "vscode": {
     "languageId": "sql"
    }
   },
   "outputs": [
    {
     "data": {
      "text/html": [
       "<table><tr style=\"border-bottom: 1px solid\"><td style=\"font-weight: bold\">name</td><td style=\"font-weight: bold\">race</td><td style=\"font-weight: bold\">age</td></tr><tr><td>Bill</td><td>Pony</td><td>null</td></tr><tr><td>Frodo</td><td>Hobbit</td><td>50</td></tr><tr><td>Sam</td><td>Hobbit</td><td>38</td></tr><tr><td>Merry</td><td>Hobbit</td><td>36</td></tr><tr><td>Pippin</td><td>Hobbit</td><td>28</td></tr><tr><td>Gandalf</td><td>Istar</td><td>3000</td></tr><tr><td>Legolas</td><td>Elf</td><td>2931</td></tr><tr><td>Aragorn</td><td>Man</td><td>87</td></tr><tr><td>Boromir</td><td>Man</td><td>40</td></tr><tr><td>Gimli</td><td>Dwarf</td><td>139</td></tr></table>"
      ],
      "text/plain": [
       "<IPython.core.display.HTML object>"
      ]
     },
     "execution_count": 32,
     "metadata": {},
     "output_type": "execute_result"
    }
   ],
   "source": [
    "%%sparksql\n",
    "\n",
    "select * from fellowship_delta_part -- Bill the Pony is now part of the Fellowship"
   ]
  },
  {
   "cell_type": "code",
   "execution_count": 33,
   "metadata": {
    "vscode": {
     "languageId": "sql"
    }
   },
   "outputs": [
    {
     "name": "stderr",
     "output_type": "stream",
     "text": [
      "                                                                                \r"
     ]
    },
    {
     "data": {
      "text/html": [
       "<table><tr style=\"border-bottom: 1px solid\"></tr></table>"
      ],
      "text/plain": [
       "<IPython.core.display.HTML object>"
      ]
     },
     "execution_count": 33,
     "metadata": {},
     "output_type": "execute_result"
    }
   ],
   "source": [
    "%%sparksql\n",
    "\n",
    "merge into fellowship_delta_part t\n",
    "using fellowship_delta s\n",
    "on t.name = s.name\n",
    "when matched then delete"
   ]
  },
  {
   "cell_type": "code",
   "execution_count": 34,
   "metadata": {
    "vscode": {
     "languageId": "sql"
    }
   },
   "outputs": [
    {
     "data": {
      "text/html": [
       "<table><tr style=\"border-bottom: 1px solid\"><td style=\"font-weight: bold\">name</td><td style=\"font-weight: bold\">race</td><td style=\"font-weight: bold\">age</td></tr></table>"
      ],
      "text/plain": [
       "<IPython.core.display.HTML object>"
      ]
     },
     "execution_count": 34,
     "metadata": {},
     "output_type": "execute_result"
    }
   ],
   "source": [
    "%%sparksql\n",
    "\n",
    "select * from fellowship_delta_part"
   ]
  },
  {
   "cell_type": "markdown",
   "metadata": {},
   "source": [
    "Files and directories preserved even when table is empty. Note there are two directories for Gandalf, `race=Istar` and `race=Maia`."
   ]
  },
  {
   "cell_type": "code",
   "execution_count": 35,
   "metadata": {
    "vscode": {
     "languageId": "shellscript"
    }
   },
   "outputs": [
    {
     "name": "stdout",
     "output_type": "stream",
     "text": [
      ".\n",
      "..\n",
      "_delta_log\n",
      "race=Dwarf\n",
      "race=Elf\n",
      "race=Hobbit\n",
      "race=Istar\n",
      "race=Maia\n",
      "race=Man\n",
      "race=Pony\n"
     ]
    }
   ],
   "source": [
    "%%bash -s \"$spark_warehouse_path/spark_course_db.db/fellowship_delta_part\"\n",
    "ls -a $1"
   ]
  },
  {
   "cell_type": "code",
   "execution_count": 36,
   "metadata": {
    "vscode": {
     "languageId": "sql"
    }
   },
   "outputs": [
    {
     "data": {
      "text/html": [
       "<div>\n",
       "<style scoped>\n",
       "    .dataframe tbody tr th:only-of-type {\n",
       "        vertical-align: middle;\n",
       "    }\n",
       "\n",
       "    .dataframe tbody tr th {\n",
       "        vertical-align: top;\n",
       "    }\n",
       "\n",
       "    .dataframe thead th {\n",
       "        text-align: right;\n",
       "    }\n",
       "</style>\n",
       "<table border=\"1\" class=\"dataframe\">\n",
       "  <thead>\n",
       "    <tr style=\"text-align: right;\">\n",
       "      <th></th>\n",
       "      <th>name</th>\n",
       "      <th>age</th>\n",
       "    </tr>\n",
       "  </thead>\n",
       "  <tbody>\n",
       "    <tr>\n",
       "      <th>0</th>\n",
       "      <td>Frodo</td>\n",
       "      <td>50</td>\n",
       "    </tr>\n",
       "    <tr>\n",
       "      <th>1</th>\n",
       "      <td>Sam</td>\n",
       "      <td>38</td>\n",
       "    </tr>\n",
       "    <tr>\n",
       "      <th>2</th>\n",
       "      <td>Merry</td>\n",
       "      <td>36</td>\n",
       "    </tr>\n",
       "    <tr>\n",
       "      <th>3</th>\n",
       "      <td>Pippin</td>\n",
       "      <td>28</td>\n",
       "    </tr>\n",
       "    <tr>\n",
       "      <th>4</th>\n",
       "      <td>Frodo</td>\n",
       "      <td>50</td>\n",
       "    </tr>\n",
       "    <tr>\n",
       "      <th>5</th>\n",
       "      <td>Sam</td>\n",
       "      <td>38</td>\n",
       "    </tr>\n",
       "    <tr>\n",
       "      <th>6</th>\n",
       "      <td>Merry</td>\n",
       "      <td>36</td>\n",
       "    </tr>\n",
       "    <tr>\n",
       "      <th>7</th>\n",
       "      <td>Pippin</td>\n",
       "      <td>28</td>\n",
       "    </tr>\n",
       "    <tr>\n",
       "      <th>8</th>\n",
       "      <td>Frodo</td>\n",
       "      <td>50</td>\n",
       "    </tr>\n",
       "    <tr>\n",
       "      <th>9</th>\n",
       "      <td>Sam</td>\n",
       "      <td>38</td>\n",
       "    </tr>\n",
       "  </tbody>\n",
       "</table>\n",
       "</div>"
      ],
      "text/plain": [
       "     name  age\n",
       "0   Frodo   50\n",
       "1     Sam   38\n",
       "2   Merry   36\n",
       "3  Pippin   28\n",
       "4   Frodo   50\n",
       "5     Sam   38\n",
       "6   Merry   36\n",
       "7  Pippin   28\n",
       "8   Frodo   50\n",
       "9     Sam   38"
      ]
     },
     "execution_count": 36,
     "metadata": {},
     "output_type": "execute_result"
    }
   ],
   "source": [
    "display(\n",
    "    spark.sql(f'select * from parquet.`{spark_warehouse_path}spark_course_db.db/fellowship_delta_part/race=Hobbit`')\n",
    ")"
   ]
  },
  {
   "cell_type": "markdown",
   "metadata": {},
   "source": [
    "`fellowship_delta_part`'s files, which have been preserved, are stale."
   ]
  },
  {
   "cell_type": "markdown",
   "metadata": {},
   "source": [
    "## Vacuum\n",
    "\n",
    "Clean up stale files.\n",
    "\n",
    "Will need to revisit this after native delta support."
   ]
  },
  {
   "cell_type": "markdown",
   "metadata": {},
   "source": [
    "## Time Travel\n",
    "\n",
    "Not implemented yet. Come back when [this](https://github.com/delta-io/delta/issues/128) is closed."
   ]
  },
  {
   "cell_type": "markdown",
   "metadata": {},
   "source": [
    "## Metadata"
   ]
  },
  {
   "cell_type": "code",
   "execution_count": 40,
   "metadata": {
    "vscode": {
     "languageId": "sql"
    }
   },
   "outputs": [
    {
     "data": {
      "text/html": [
       "<table><tr style=\"border-bottom: 1px solid\"><td style=\"font-weight: bold\">current_database()</td></tr><tr><td>spark_course_db</td></tr></table>"
      ],
      "text/plain": [
       "<IPython.core.display.HTML object>"
      ]
     },
     "execution_count": 40,
     "metadata": {},
     "output_type": "execute_result"
    }
   ],
   "source": [
    "%%sparksql\n",
    "\n",
    "select current_database()"
   ]
  },
  {
   "cell_type": "code",
   "execution_count": 61,
   "metadata": {},
   "outputs": [
    {
     "data": {
      "text/html": [
       "<div>\n",
       "<style scoped>\n",
       "    .dataframe tbody tr th:only-of-type {\n",
       "        vertical-align: middle;\n",
       "    }\n",
       "\n",
       "    .dataframe tbody tr th {\n",
       "        vertical-align: top;\n",
       "    }\n",
       "\n",
       "    .dataframe thead th {\n",
       "        text-align: right;\n",
       "    }\n",
       "</style>\n",
       "<table border=\"1\" class=\"dataframe\">\n",
       "  <thead>\n",
       "    <tr style=\"text-align: right;\">\n",
       "      <th></th>\n",
       "      <th>version</th>\n",
       "      <th>userId</th>\n",
       "      <th>userName</th>\n",
       "      <th>operation</th>\n",
       "      <th>operationParameters</th>\n",
       "      <th>job</th>\n",
       "      <th>notebook</th>\n",
       "      <th>clusterId</th>\n",
       "      <th>readVersion</th>\n",
       "      <th>isolationLevel</th>\n",
       "      <th>isBlindAppend</th>\n",
       "      <th>operationMetrics</th>\n",
       "      <th>userMetadata</th>\n",
       "      <th>engineInfo</th>\n",
       "    </tr>\n",
       "  </thead>\n",
       "  <tbody>\n",
       "    <tr>\n",
       "      <th>0</th>\n",
       "      <td>5</td>\n",
       "      <td>None</td>\n",
       "      <td>None</td>\n",
       "      <td>UPDATE</td>\n",
       "      <td>{'predicate': '(name#3981 = Gandalf)'}</td>\n",
       "      <td>None</td>\n",
       "      <td>None</td>\n",
       "      <td>None</td>\n",
       "      <td>4.0</td>\n",
       "      <td>Serializable</td>\n",
       "      <td>False</td>\n",
       "      <td>{'numAddedFiles': '1', 'scanTimeMs': '650', 'n...</td>\n",
       "      <td>None</td>\n",
       "      <td>Apache-Spark/3.2.1 Delta-Lake/1.2.1</td>\n",
       "    </tr>\n",
       "    <tr>\n",
       "      <th>1</th>\n",
       "      <td>4</td>\n",
       "      <td>None</td>\n",
       "      <td>None</td>\n",
       "      <td>UPDATE</td>\n",
       "      <td>{'predicate': '(name#3190 = Gandalf)'}</td>\n",
       "      <td>None</td>\n",
       "      <td>None</td>\n",
       "      <td>None</td>\n",
       "      <td>3.0</td>\n",
       "      <td>Serializable</td>\n",
       "      <td>False</td>\n",
       "      <td>{'numAddedFiles': '1', 'scanTimeMs': '842', 'n...</td>\n",
       "      <td>None</td>\n",
       "      <td>Apache-Spark/3.2.1 Delta-Lake/1.2.1</td>\n",
       "    </tr>\n",
       "    <tr>\n",
       "      <th>2</th>\n",
       "      <td>3</td>\n",
       "      <td>None</td>\n",
       "      <td>None</td>\n",
       "      <td>UPDATE</td>\n",
       "      <td>{'predicate': '(name#2328 = Gandalf)'}</td>\n",
       "      <td>None</td>\n",
       "      <td>None</td>\n",
       "      <td>None</td>\n",
       "      <td>2.0</td>\n",
       "      <td>Serializable</td>\n",
       "      <td>False</td>\n",
       "      <td>{'numAddedFiles': '1', 'scanTimeMs': '1166', '...</td>\n",
       "      <td>None</td>\n",
       "      <td>Apache-Spark/3.2.1 Delta-Lake/1.2.1</td>\n",
       "    </tr>\n",
       "    <tr>\n",
       "      <th>3</th>\n",
       "      <td>2</td>\n",
       "      <td>None</td>\n",
       "      <td>None</td>\n",
       "      <td>DELETE</td>\n",
       "      <td>{'predicate': '[\"(spark_catalog.spark_course_d...</td>\n",
       "      <td>None</td>\n",
       "      <td>None</td>\n",
       "      <td>None</td>\n",
       "      <td>1.0</td>\n",
       "      <td>Serializable</td>\n",
       "      <td>False</td>\n",
       "      <td>{'numAddedFiles': '1', 'scanTimeMs': '1619', '...</td>\n",
       "      <td>None</td>\n",
       "      <td>Apache-Spark/3.2.1 Delta-Lake/1.2.1</td>\n",
       "    </tr>\n",
       "    <tr>\n",
       "      <th>4</th>\n",
       "      <td>1</td>\n",
       "      <td>None</td>\n",
       "      <td>None</td>\n",
       "      <td>WRITE</td>\n",
       "      <td>{'mode': 'Append', 'partitionBy': '[]'}</td>\n",
       "      <td>None</td>\n",
       "      <td>None</td>\n",
       "      <td>None</td>\n",
       "      <td>0.0</td>\n",
       "      <td>Serializable</td>\n",
       "      <td>True</td>\n",
       "      <td>{'numOutputRows': '2', 'numOutputBytes': '1980...</td>\n",
       "      <td>None</td>\n",
       "      <td>Apache-Spark/3.2.1 Delta-Lake/1.2.1</td>\n",
       "    </tr>\n",
       "    <tr>\n",
       "      <th>5</th>\n",
       "      <td>0</td>\n",
       "      <td>None</td>\n",
       "      <td>None</td>\n",
       "      <td>CREATE TABLE AS SELECT</td>\n",
       "      <td>{'description': None, 'partitionBy': '[]', 'pr...</td>\n",
       "      <td>None</td>\n",
       "      <td>None</td>\n",
       "      <td>None</td>\n",
       "      <td>NaN</td>\n",
       "      <td>Serializable</td>\n",
       "      <td>True</td>\n",
       "      <td>{'numOutputRows': '9', 'numOutputBytes': '1167...</td>\n",
       "      <td>None</td>\n",
       "      <td>Apache-Spark/3.2.1 Delta-Lake/1.2.1</td>\n",
       "    </tr>\n",
       "  </tbody>\n",
       "</table>\n",
       "</div>"
      ],
      "text/plain": [
       "   version userId userName               operation  \\\n",
       "0        5   None     None                  UPDATE   \n",
       "1        4   None     None                  UPDATE   \n",
       "2        3   None     None                  UPDATE   \n",
       "3        2   None     None                  DELETE   \n",
       "4        1   None     None                   WRITE   \n",
       "5        0   None     None  CREATE TABLE AS SELECT   \n",
       "\n",
       "                                 operationParameters   job notebook clusterId  \\\n",
       "0             {'predicate': '(name#3981 = Gandalf)'}  None     None      None   \n",
       "1             {'predicate': '(name#3190 = Gandalf)'}  None     None      None   \n",
       "2             {'predicate': '(name#2328 = Gandalf)'}  None     None      None   \n",
       "3  {'predicate': '[\"(spark_catalog.spark_course_d...  None     None      None   \n",
       "4            {'mode': 'Append', 'partitionBy': '[]'}  None     None      None   \n",
       "5  {'description': None, 'partitionBy': '[]', 'pr...  None     None      None   \n",
       "\n",
       "   readVersion isolationLevel  isBlindAppend  \\\n",
       "0          4.0   Serializable          False   \n",
       "1          3.0   Serializable          False   \n",
       "2          2.0   Serializable          False   \n",
       "3          1.0   Serializable          False   \n",
       "4          0.0   Serializable           True   \n",
       "5          NaN   Serializable           True   \n",
       "\n",
       "                                    operationMetrics userMetadata  \\\n",
       "0  {'numAddedFiles': '1', 'scanTimeMs': '650', 'n...         None   \n",
       "1  {'numAddedFiles': '1', 'scanTimeMs': '842', 'n...         None   \n",
       "2  {'numAddedFiles': '1', 'scanTimeMs': '1166', '...         None   \n",
       "3  {'numAddedFiles': '1', 'scanTimeMs': '1619', '...         None   \n",
       "4  {'numOutputRows': '2', 'numOutputBytes': '1980...         None   \n",
       "5  {'numOutputRows': '9', 'numOutputBytes': '1167...         None   \n",
       "\n",
       "                            engineInfo  \n",
       "0  Apache-Spark/3.2.1 Delta-Lake/1.2.1  \n",
       "1  Apache-Spark/3.2.1 Delta-Lake/1.2.1  \n",
       "2  Apache-Spark/3.2.1 Delta-Lake/1.2.1  \n",
       "3  Apache-Spark/3.2.1 Delta-Lake/1.2.1  \n",
       "4  Apache-Spark/3.2.1 Delta-Lake/1.2.1  \n",
       "5  Apache-Spark/3.2.1 Delta-Lake/1.2.1  "
      ]
     },
     "execution_count": 61,
     "metadata": {},
     "output_type": "execute_result"
    }
   ],
   "source": [
    "display(\n",
    "    spark.sql('describe history fellowship_delta').drop('timestamp')\n",
    ")"
   ]
  },
  {
   "cell_type": "code",
   "execution_count": 52,
   "metadata": {
    "vscode": {
     "languageId": "sql"
    }
   },
   "outputs": [
    {
     "data": {
      "text/html": [
       "<table><tr style=\"border-bottom: 1px solid\"><td style=\"font-weight: bold\">col_name</td><td style=\"font-weight: bold\">data_type</td><td style=\"font-weight: bold\">comment</td></tr><tr><td>name</td><td>string</td><td></td></tr><tr><td>race</td><td>string</td><td></td></tr><tr><td>age</td><td>int</td><td>Gandalf&#x27;s age refers to his physical body&#x27;s approximate age</td></tr><tr><td></td><td></td><td></td></tr><tr><td># Partitioning</td><td></td><td></td></tr><tr><td>Not partitioned</td><td></td><td></td></tr></table>"
      ],
      "text/plain": [
       "<IPython.core.display.HTML object>"
      ]
     },
     "execution_count": 52,
     "metadata": {},
     "output_type": "execute_result"
    }
   ],
   "source": [
    "%%sparksql\n",
    "\n",
    "describe fellowship_delta"
   ]
  },
  {
   "cell_type": "code",
   "execution_count": 59,
   "metadata": {},
   "outputs": [
    {
     "data": {
      "text/html": [
       "<div>\n",
       "<style scoped>\n",
       "    .dataframe tbody tr th:only-of-type {\n",
       "        vertical-align: middle;\n",
       "    }\n",
       "\n",
       "    .dataframe tbody tr th {\n",
       "        vertical-align: top;\n",
       "    }\n",
       "\n",
       "    .dataframe thead th {\n",
       "        text-align: right;\n",
       "    }\n",
       "</style>\n",
       "<table border=\"1\" class=\"dataframe\">\n",
       "  <thead>\n",
       "    <tr style=\"text-align: right;\">\n",
       "      <th></th>\n",
       "      <th>format</th>\n",
       "      <th>id</th>\n",
       "      <th>name</th>\n",
       "      <th>description</th>\n",
       "      <th>partitionColumns</th>\n",
       "      <th>numFiles</th>\n",
       "      <th>sizeInBytes</th>\n",
       "      <th>properties</th>\n",
       "      <th>minReaderVersion</th>\n",
       "      <th>minWriterVersion</th>\n",
       "    </tr>\n",
       "  </thead>\n",
       "  <tbody>\n",
       "    <tr>\n",
       "      <th>0</th>\n",
       "      <td>delta</td>\n",
       "      <td>b92c6df6-3ce2-4096-987e-fcc4a80c05bb</td>\n",
       "      <td>spark_course_db.fellowship_delta</td>\n",
       "      <td>None</td>\n",
       "      <td>[]</td>\n",
       "      <td>3</td>\n",
       "      <td>2591</td>\n",
       "      <td>{}</td>\n",
       "      <td>1</td>\n",
       "      <td>2</td>\n",
       "    </tr>\n",
       "  </tbody>\n",
       "</table>\n",
       "</div>"
      ],
      "text/plain": [
       "  format                                    id  \\\n",
       "0  delta  b92c6df6-3ce2-4096-987e-fcc4a80c05bb   \n",
       "\n",
       "                               name description partitionColumns  numFiles  \\\n",
       "0  spark_course_db.fellowship_delta        None               []         3   \n",
       "\n",
       "   sizeInBytes properties  minReaderVersion  minWriterVersion  \n",
       "0         2591         {}                 1                 2  "
      ]
     },
     "execution_count": 59,
     "metadata": {},
     "output_type": "execute_result"
    }
   ],
   "source": [
    "display(\n",
    "    spark.sql('describe detail fellowship_delta').drop('location', 'createdAt', 'lastModified')\n",
    ")"
   ]
  },
  {
   "cell_type": "code",
   "execution_count": 53,
   "metadata": {
    "vscode": {
     "languageId": "sql"
    }
   },
   "outputs": [
    {
     "data": {
      "text/html": [
       "<table><tr style=\"border-bottom: 1px solid\"><td style=\"font-weight: bold\">col_name</td><td style=\"font-weight: bold\">data_type</td><td style=\"font-weight: bold\">comment</td></tr><tr><td>name</td><td>string</td><td></td></tr><tr><td>race</td><td>string</td><td></td></tr><tr><td>age</td><td>int</td><td>Gandalf&#x27;s age refers to his physical body&#x27;s approximate age</td></tr><tr><td></td><td></td><td></td></tr><tr><td># Partitioning</td><td></td><td></td></tr><tr><td>Not partitioned</td><td></td><td></td></tr><tr><td></td><td></td><td></td></tr><tr><td># Detailed Table Information</td><td></td><td></td></tr><tr><td>Name</td><td>spark_course_db.fellowship_delta</td><td></td></tr><tr><td>Provider</td><td>delta</td><td></td></tr><tr><td>Owner</td><td>siladitya</td><td></td></tr><tr><td>Table Properties</td><td>[Type=MANAGED,delta.minReaderVersion=1,delta.minWriterVersion=2]</td><td></td></tr></table>"
      ],
      "text/plain": [
       "<IPython.core.display.HTML object>"
      ]
     },
     "execution_count": 53,
     "metadata": {},
     "output_type": "execute_result"
    }
   ],
   "source": [
    "%%sparksql\n",
    "\n",
    "describe extended fellowship_delta"
   ]
  },
  {
   "cell_type": "code",
   "execution_count": 73,
   "metadata": {
    "vscode": {
     "languageId": "sql"
    }
   },
   "outputs": [
    {
     "data": {
      "text/html": [
       "<table><tr style=\"border-bottom: 1px solid\"></tr></table>"
      ],
      "text/plain": [
       "<IPython.core.display.HTML object>"
      ]
     },
     "execution_count": 73,
     "metadata": {},
     "output_type": "execute_result"
    }
   ],
   "source": [
    "%%sparksql\n",
    "\n",
    "-- drop database if exists spark_course_db cascade"
   ]
  },
  {
   "cell_type": "code",
   "execution_count": 74,
   "metadata": {},
   "outputs": [],
   "source": [
    "# spark.stop()"
   ]
  }
 ],
 "metadata": {
  "interpreter": {
   "hash": "b58d88c026591a9647dde84b286df4c94a28c35fef1faf0ea7672abde3080510"
  },
  "kernelspec": {
   "display_name": "Python 3.8.10 ('spark')",
   "language": "python",
   "name": "python3"
  },
  "language_info": {
   "codemirror_mode": {
    "name": "ipython",
    "version": 3
   },
   "file_extension": ".py",
   "mimetype": "text/x-python",
   "name": "python",
   "nbconvert_exporter": "python",
   "pygments_lexer": "ipython3",
   "version": "3.8.10"
  },
  "orig_nbformat": 4
 },
 "nbformat": 4,
 "nbformat_minor": 2
}
