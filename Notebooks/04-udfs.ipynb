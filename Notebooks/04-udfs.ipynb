{
 "cells": [
  {
   "cell_type": "markdown",
   "metadata": {},
   "source": [
    "# UDFs\n",
    "Use Scala to write UDFs."
   ]
  },
  {
   "cell_type": "code",
   "execution_count": 4,
   "metadata": {},
   "outputs": [],
   "source": [
    "%%capture\n",
    "%run ./Includes/spark-setup.ipynb"
   ]
  }
 ],
 "metadata": {
  "interpreter": {
   "hash": "b58d88c026591a9647dde84b286df4c94a28c35fef1faf0ea7672abde3080510"
  },
  "kernelspec": {
   "display_name": "Python 3.8.10 ('spark')",
   "language": "python",
   "name": "python3"
  },
  "language_info": {
   "codemirror_mode": {
    "name": "ipython",
    "version": 3
   },
   "file_extension": ".py",
   "mimetype": "text/x-python",
   "name": "python",
   "nbconvert_exporter": "python",
   "pygments_lexer": "ipython3",
   "version": "3.8.10"
  },
  "orig_nbformat": 4
 },
 "nbformat": 4,
 "nbformat_minor": 2
}
