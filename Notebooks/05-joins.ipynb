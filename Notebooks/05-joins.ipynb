{
 "cells": [
  {
   "cell_type": "markdown",
   "metadata": {},
   "source": [
    "# Joins"
   ]
  },
  {
   "cell_type": "code",
   "execution_count": 3,
   "metadata": {},
   "outputs": [
    {
     "data": {
      "text/html": [
       "\n",
       "            <div>\n",
       "                <p><b>SparkSession - hive</b></p>\n",
       "                \n",
       "        <div>\n",
       "            <p><b>SparkContext</b></p>\n",
       "\n",
       "            <p><a href=\"http://192.168.0.209:4040\">Spark UI</a></p>\n",
       "\n",
       "            <dl>\n",
       "              <dt>Version</dt>\n",
       "                <dd><code>v3.2.1</code></dd>\n",
       "              <dt>Master</dt>\n",
       "                <dd><code>local[*]</code></dd>\n",
       "              <dt>AppName</dt>\n",
       "                <dd><code>Spark-Course</code></dd>\n",
       "            </dl>\n",
       "        </div>\n",
       "        \n",
       "            </div>\n",
       "        "
      ],
      "text/plain": [
       "<pyspark.sql.session.SparkSession at 0x7f363d39c5e0>"
      ]
     },
     "execution_count": 3,
     "metadata": {},
     "output_type": "execute_result"
    }
   ],
   "source": [
    "import pyspark\n",
    "from pyspark.sql import *\n",
    "from pyspark.sql.types import *\n",
    "from pyspark.sql.functions import *\n",
    "\n",
    "from delta import *\n",
    "import pandas as pd\n",
    "\n",
    "# start spark\n",
    "builder = (pyspark.sql.SparkSession.builder.appName(\"Spark-Course\")\n",
    "                .config(\"spark.sql.extensions\", \"io.delta.sql.DeltaSparkSessionExtension\")\n",
    "                .config(\"spark.sql.catalog.spark_catalog\", \"org.apache.spark.sql.delta.catalog.DeltaCatalog\"))\n",
    "\n",
    "spark = configure_spark_with_delta_pip(builder).getOrCreate()\n",
    "\n",
    "# setting log-level to ERROR to decrease verbosity\n",
    "# log4j log-levels are: OFF, FATAL, ERROR, WARN, INFO, DEBUG, TRACE, ALL\n",
    "spark.sparkContext.setLogLevel(\"ERROR\")\n",
    "\n",
    "# so that we can register UDFs in SQL\n",
    "spark.builder.enableHiveSupport()\n",
    "\n",
    "spark"
   ]
  },
  {
   "cell_type": "code",
   "execution_count": 5,
   "metadata": {},
   "outputs": [],
   "source": [
    "def display(spark_df, rows=10):\n",
    "    return spark_df.limit(rows).toPandas().head(rows)"
   ]
  },
  {
   "cell_type": "code",
   "execution_count": 34,
   "metadata": {},
   "outputs": [],
   "source": [
    "%load_ext sparksql_magic"
   ]
  },
  {
   "cell_type": "code",
   "execution_count": 22,
   "metadata": {},
   "outputs": [
    {
     "data": {
      "text/html": [
       "<div>\n",
       "<style scoped>\n",
       "    .dataframe tbody tr th:only-of-type {\n",
       "        vertical-align: middle;\n",
       "    }\n",
       "\n",
       "    .dataframe tbody tr th {\n",
       "        vertical-align: top;\n",
       "    }\n",
       "\n",
       "    .dataframe thead th {\n",
       "        text-align: right;\n",
       "    }\n",
       "</style>\n",
       "<table border=\"1\" class=\"dataframe\">\n",
       "  <thead>\n",
       "    <tr style=\"text-align: right;\">\n",
       "      <th></th>\n",
       "      <th>id</th>\n",
       "      <th>lang</th>\n",
       "      <th>year</th>\n",
       "    </tr>\n",
       "  </thead>\n",
       "  <tbody>\n",
       "    <tr>\n",
       "      <th>0</th>\n",
       "      <td>1</td>\n",
       "      <td>Python</td>\n",
       "      <td>1991</td>\n",
       "    </tr>\n",
       "    <tr>\n",
       "      <th>1</th>\n",
       "      <td>2</td>\n",
       "      <td>R</td>\n",
       "      <td>1998</td>\n",
       "    </tr>\n",
       "    <tr>\n",
       "      <th>2</th>\n",
       "      <td>3</td>\n",
       "      <td>C++</td>\n",
       "      <td>1985</td>\n",
       "    </tr>\n",
       "    <tr>\n",
       "      <th>3</th>\n",
       "      <td>5</td>\n",
       "      <td>Agda</td>\n",
       "      <td>2007</td>\n",
       "    </tr>\n",
       "  </tbody>\n",
       "</table>\n",
       "</div>"
      ],
      "text/plain": [
       "   id    lang  year\n",
       "0   1  Python  1991\n",
       "1   2       R  1998\n",
       "2   3     C++  1985\n",
       "3   5    Agda  2007"
      ]
     },
     "execution_count": 22,
     "metadata": {},
     "output_type": "execute_result"
    }
   ],
   "source": [
    "langyear = (spark.createDataFrame([Row(1, 'Python', 1991),\n",
    "                        Row(2, 'R', 1998),\n",
    "                        Row(3, 'C++', 1985),\n",
    "                        Row(5, 'Agda', 2007)\n",
    "                    ],\n",
    "                    schema = ['id', 'lang', 'year'])\n",
    ")\n",
    "\n",
    "display(langyear)"
   ]
  },
  {
   "cell_type": "code",
   "execution_count": 23,
   "metadata": {},
   "outputs": [
    {
     "name": "stdout",
     "output_type": "stream",
     "text": [
      "root\n",
      " |-- id: long (nullable = true)\n",
      " |-- lang: string (nullable = true)\n",
      " |-- year: long (nullable = true)\n",
      "\n"
     ]
    }
   ],
   "source": [
    "langyear.printSchema()"
   ]
  },
  {
   "cell_type": "code",
   "execution_count": 24,
   "metadata": {},
   "outputs": [
    {
     "data": {
      "text/html": [
       "<div>\n",
       "<style scoped>\n",
       "    .dataframe tbody tr th:only-of-type {\n",
       "        vertical-align: middle;\n",
       "    }\n",
       "\n",
       "    .dataframe tbody tr th {\n",
       "        vertical-align: top;\n",
       "    }\n",
       "\n",
       "    .dataframe thead th {\n",
       "        text-align: right;\n",
       "    }\n",
       "</style>\n",
       "<table border=\"1\" class=\"dataframe\">\n",
       "  <thead>\n",
       "    <tr style=\"text-align: right;\">\n",
       "      <th></th>\n",
       "      <th>id</th>\n",
       "      <th>devs</th>\n",
       "    </tr>\n",
       "  </thead>\n",
       "  <tbody>\n",
       "    <tr>\n",
       "      <th>0</th>\n",
       "      <td>3</td>\n",
       "      <td>[Bjarne Stroustrup]</td>\n",
       "    </tr>\n",
       "    <tr>\n",
       "      <th>1</th>\n",
       "      <td>1</td>\n",
       "      <td>[Guido van Rossum]</td>\n",
       "    </tr>\n",
       "    <tr>\n",
       "      <th>2</th>\n",
       "      <td>2</td>\n",
       "      <td>[Ross Ihaka, Robert Gentleman]</td>\n",
       "    </tr>\n",
       "    <tr>\n",
       "      <th>3</th>\n",
       "      <td>4</td>\n",
       "      <td>[Graydon Hoare]</td>\n",
       "    </tr>\n",
       "  </tbody>\n",
       "</table>\n",
       "</div>"
      ],
      "text/plain": [
       "   id                            devs\n",
       "0   3             [Bjarne Stroustrup]\n",
       "1   1              [Guido van Rossum]\n",
       "2   2  [Ross Ihaka, Robert Gentleman]\n",
       "3   4                 [Graydon Hoare]"
      ]
     },
     "execution_count": 24,
     "metadata": {},
     "output_type": "execute_result"
    }
   ],
   "source": [
    "langdevs = (spark.createDataFrame([Row(3, ['Bjarne Stroustrup']),\n",
    "                                    Row(1, ['Guido van Rossum']),\n",
    "                                    Row(2, ['Ross Ihaka', 'Robert Gentleman']),\n",
    "                                    Row(4, ['Graydon Hoare'])],\n",
    "                                    schema = ['id', 'devs'])\n",
    ")\n",
    "\n",
    "display(langdevs)"
   ]
  },
  {
   "cell_type": "code",
   "execution_count": 25,
   "metadata": {},
   "outputs": [
    {
     "name": "stdout",
     "output_type": "stream",
     "text": [
      "root\n",
      " |-- id: long (nullable = true)\n",
      " |-- devs: array (nullable = true)\n",
      " |    |-- element: string (containsNull = true)\n",
      "\n"
     ]
    }
   ],
   "source": [
    "langdevs.printSchema()"
   ]
  },
  {
   "cell_type": "markdown",
   "metadata": {},
   "source": [
    "## Join Types"
   ]
  },
  {
   "cell_type": "markdown",
   "metadata": {},
   "source": [
    "### Inner"
   ]
  },
  {
   "cell_type": "code",
   "execution_count": 27,
   "metadata": {},
   "outputs": [
    {
     "data": {
      "text/html": [
       "<div>\n",
       "<style scoped>\n",
       "    .dataframe tbody tr th:only-of-type {\n",
       "        vertical-align: middle;\n",
       "    }\n",
       "\n",
       "    .dataframe tbody tr th {\n",
       "        vertical-align: top;\n",
       "    }\n",
       "\n",
       "    .dataframe thead th {\n",
       "        text-align: right;\n",
       "    }\n",
       "</style>\n",
       "<table border=\"1\" class=\"dataframe\">\n",
       "  <thead>\n",
       "    <tr style=\"text-align: right;\">\n",
       "      <th></th>\n",
       "      <th>id</th>\n",
       "      <th>lang</th>\n",
       "      <th>year</th>\n",
       "      <th>id</th>\n",
       "      <th>devs</th>\n",
       "    </tr>\n",
       "  </thead>\n",
       "  <tbody>\n",
       "    <tr>\n",
       "      <th>0</th>\n",
       "      <td>1</td>\n",
       "      <td>Python</td>\n",
       "      <td>1991</td>\n",
       "      <td>1</td>\n",
       "      <td>[Guido van Rossum]</td>\n",
       "    </tr>\n",
       "    <tr>\n",
       "      <th>1</th>\n",
       "      <td>2</td>\n",
       "      <td>R</td>\n",
       "      <td>1998</td>\n",
       "      <td>2</td>\n",
       "      <td>[Ross Ihaka, Robert Gentleman]</td>\n",
       "    </tr>\n",
       "    <tr>\n",
       "      <th>2</th>\n",
       "      <td>3</td>\n",
       "      <td>C++</td>\n",
       "      <td>1985</td>\n",
       "      <td>3</td>\n",
       "      <td>[Bjarne Stroustrup]</td>\n",
       "    </tr>\n",
       "  </tbody>\n",
       "</table>\n",
       "</div>"
      ],
      "text/plain": [
       "   id    lang  year  id                            devs\n",
       "0   1  Python  1991   1              [Guido van Rossum]\n",
       "1   2       R  1998   2  [Ross Ihaka, Robert Gentleman]\n",
       "2   3     C++  1985   3             [Bjarne Stroustrup]"
      ]
     },
     "execution_count": 27,
     "metadata": {},
     "output_type": "execute_result"
    }
   ],
   "source": [
    "display(\n",
    "    langyear.join(langdevs, langdevs.id == langyear.id, 'inner')\n",
    ")"
   ]
  },
  {
   "cell_type": "markdown",
   "metadata": {},
   "source": [
    "### Outer"
   ]
  },
  {
   "cell_type": "code",
   "execution_count": 49,
   "metadata": {},
   "outputs": [
    {
     "data": {
      "text/html": [
       "<div>\n",
       "<style scoped>\n",
       "    .dataframe tbody tr th:only-of-type {\n",
       "        vertical-align: middle;\n",
       "    }\n",
       "\n",
       "    .dataframe tbody tr th {\n",
       "        vertical-align: top;\n",
       "    }\n",
       "\n",
       "    .dataframe thead th {\n",
       "        text-align: right;\n",
       "    }\n",
       "</style>\n",
       "<table border=\"1\" class=\"dataframe\">\n",
       "  <thead>\n",
       "    <tr style=\"text-align: right;\">\n",
       "      <th></th>\n",
       "      <th>id</th>\n",
       "      <th>lang</th>\n",
       "      <th>year</th>\n",
       "      <th>devs</th>\n",
       "    </tr>\n",
       "  </thead>\n",
       "  <tbody>\n",
       "    <tr>\n",
       "      <th>0</th>\n",
       "      <td>1.0</td>\n",
       "      <td>Python</td>\n",
       "      <td>1991.0</td>\n",
       "      <td>[Guido van Rossum]</td>\n",
       "    </tr>\n",
       "    <tr>\n",
       "      <th>1</th>\n",
       "      <td>2.0</td>\n",
       "      <td>R</td>\n",
       "      <td>1998.0</td>\n",
       "      <td>[Ross Ihaka, Robert Gentleman]</td>\n",
       "    </tr>\n",
       "    <tr>\n",
       "      <th>2</th>\n",
       "      <td>3.0</td>\n",
       "      <td>C++</td>\n",
       "      <td>1985.0</td>\n",
       "      <td>[Bjarne Stroustrup]</td>\n",
       "    </tr>\n",
       "    <tr>\n",
       "      <th>3</th>\n",
       "      <td>NaN</td>\n",
       "      <td>None</td>\n",
       "      <td>NaN</td>\n",
       "      <td>[Graydon Hoare]</td>\n",
       "    </tr>\n",
       "    <tr>\n",
       "      <th>4</th>\n",
       "      <td>5.0</td>\n",
       "      <td>Agda</td>\n",
       "      <td>2007.0</td>\n",
       "      <td>None</td>\n",
       "    </tr>\n",
       "  </tbody>\n",
       "</table>\n",
       "</div>"
      ],
      "text/plain": [
       "    id    lang    year                            devs\n",
       "0  1.0  Python  1991.0              [Guido van Rossum]\n",
       "1  2.0       R  1998.0  [Ross Ihaka, Robert Gentleman]\n",
       "2  3.0     C++  1985.0             [Bjarne Stroustrup]\n",
       "3  NaN    None     NaN                 [Graydon Hoare]\n",
       "4  5.0    Agda  2007.0                            None"
      ]
     },
     "execution_count": 49,
     "metadata": {},
     "output_type": "execute_result"
    }
   ],
   "source": [
    "display(\n",
    "    langyear.join(langdevs, langdevs.id == langyear.id, 'outer').drop(langdevs.id)\n",
    ")"
   ]
  },
  {
   "cell_type": "markdown",
   "metadata": {},
   "source": [
    "### Left Outer"
   ]
  },
  {
   "cell_type": "code",
   "execution_count": 50,
   "metadata": {},
   "outputs": [
    {
     "data": {
      "text/html": [
       "<div>\n",
       "<style scoped>\n",
       "    .dataframe tbody tr th:only-of-type {\n",
       "        vertical-align: middle;\n",
       "    }\n",
       "\n",
       "    .dataframe tbody tr th {\n",
       "        vertical-align: top;\n",
       "    }\n",
       "\n",
       "    .dataframe thead th {\n",
       "        text-align: right;\n",
       "    }\n",
       "</style>\n",
       "<table border=\"1\" class=\"dataframe\">\n",
       "  <thead>\n",
       "    <tr style=\"text-align: right;\">\n",
       "      <th></th>\n",
       "      <th>id</th>\n",
       "      <th>lang</th>\n",
       "      <th>year</th>\n",
       "      <th>devs</th>\n",
       "    </tr>\n",
       "  </thead>\n",
       "  <tbody>\n",
       "    <tr>\n",
       "      <th>0</th>\n",
       "      <td>1</td>\n",
       "      <td>Python</td>\n",
       "      <td>1991</td>\n",
       "      <td>[Guido van Rossum]</td>\n",
       "    </tr>\n",
       "    <tr>\n",
       "      <th>1</th>\n",
       "      <td>2</td>\n",
       "      <td>R</td>\n",
       "      <td>1998</td>\n",
       "      <td>[Ross Ihaka, Robert Gentleman]</td>\n",
       "    </tr>\n",
       "    <tr>\n",
       "      <th>2</th>\n",
       "      <td>3</td>\n",
       "      <td>C++</td>\n",
       "      <td>1985</td>\n",
       "      <td>[Bjarne Stroustrup]</td>\n",
       "    </tr>\n",
       "    <tr>\n",
       "      <th>3</th>\n",
       "      <td>5</td>\n",
       "      <td>Agda</td>\n",
       "      <td>2007</td>\n",
       "      <td>None</td>\n",
       "    </tr>\n",
       "  </tbody>\n",
       "</table>\n",
       "</div>"
      ],
      "text/plain": [
       "   id    lang  year                            devs\n",
       "0   1  Python  1991              [Guido van Rossum]\n",
       "1   2       R  1998  [Ross Ihaka, Robert Gentleman]\n",
       "2   3     C++  1985             [Bjarne Stroustrup]\n",
       "3   5    Agda  2007                            None"
      ]
     },
     "execution_count": 50,
     "metadata": {},
     "output_type": "execute_result"
    }
   ],
   "source": [
    "display(\n",
    "    langyear.join(langdevs, langdevs.id == langyear.id, 'left_outer').drop(langdevs.id)\n",
    ")"
   ]
  },
  {
   "cell_type": "markdown",
   "metadata": {},
   "source": [
    "### Right Outer"
   ]
  },
  {
   "cell_type": "code",
   "execution_count": 51,
   "metadata": {},
   "outputs": [
    {
     "data": {
      "text/html": [
       "<div>\n",
       "<style scoped>\n",
       "    .dataframe tbody tr th:only-of-type {\n",
       "        vertical-align: middle;\n",
       "    }\n",
       "\n",
       "    .dataframe tbody tr th {\n",
       "        vertical-align: top;\n",
       "    }\n",
       "\n",
       "    .dataframe thead th {\n",
       "        text-align: right;\n",
       "    }\n",
       "</style>\n",
       "<table border=\"1\" class=\"dataframe\">\n",
       "  <thead>\n",
       "    <tr style=\"text-align: right;\">\n",
       "      <th></th>\n",
       "      <th>id</th>\n",
       "      <th>lang</th>\n",
       "      <th>year</th>\n",
       "      <th>devs</th>\n",
       "    </tr>\n",
       "  </thead>\n",
       "  <tbody>\n",
       "    <tr>\n",
       "      <th>0</th>\n",
       "      <td>1.0</td>\n",
       "      <td>Python</td>\n",
       "      <td>1991.0</td>\n",
       "      <td>[Guido van Rossum]</td>\n",
       "    </tr>\n",
       "    <tr>\n",
       "      <th>1</th>\n",
       "      <td>2.0</td>\n",
       "      <td>R</td>\n",
       "      <td>1998.0</td>\n",
       "      <td>[Ross Ihaka, Robert Gentleman]</td>\n",
       "    </tr>\n",
       "    <tr>\n",
       "      <th>2</th>\n",
       "      <td>3.0</td>\n",
       "      <td>C++</td>\n",
       "      <td>1985.0</td>\n",
       "      <td>[Bjarne Stroustrup]</td>\n",
       "    </tr>\n",
       "    <tr>\n",
       "      <th>3</th>\n",
       "      <td>NaN</td>\n",
       "      <td>None</td>\n",
       "      <td>NaN</td>\n",
       "      <td>[Graydon Hoare]</td>\n",
       "    </tr>\n",
       "  </tbody>\n",
       "</table>\n",
       "</div>"
      ],
      "text/plain": [
       "    id    lang    year                            devs\n",
       "0  1.0  Python  1991.0              [Guido van Rossum]\n",
       "1  2.0       R  1998.0  [Ross Ihaka, Robert Gentleman]\n",
       "2  3.0     C++  1985.0             [Bjarne Stroustrup]\n",
       "3  NaN    None     NaN                 [Graydon Hoare]"
      ]
     },
     "execution_count": 51,
     "metadata": {},
     "output_type": "execute_result"
    }
   ],
   "source": [
    "display(\n",
    "    langyear.join(langdevs, langdevs.id == langyear.id, 'right_outer').drop(langdevs.id)\n",
    ")"
   ]
  },
  {
   "cell_type": "markdown",
   "metadata": {},
   "source": [
    "### Left Semi"
   ]
  },
  {
   "cell_type": "code",
   "execution_count": 31,
   "metadata": {},
   "outputs": [
    {
     "data": {
      "text/html": [
       "<div>\n",
       "<style scoped>\n",
       "    .dataframe tbody tr th:only-of-type {\n",
       "        vertical-align: middle;\n",
       "    }\n",
       "\n",
       "    .dataframe tbody tr th {\n",
       "        vertical-align: top;\n",
       "    }\n",
       "\n",
       "    .dataframe thead th {\n",
       "        text-align: right;\n",
       "    }\n",
       "</style>\n",
       "<table border=\"1\" class=\"dataframe\">\n",
       "  <thead>\n",
       "    <tr style=\"text-align: right;\">\n",
       "      <th></th>\n",
       "      <th>id</th>\n",
       "      <th>lang</th>\n",
       "      <th>year</th>\n",
       "    </tr>\n",
       "  </thead>\n",
       "  <tbody>\n",
       "    <tr>\n",
       "      <th>0</th>\n",
       "      <td>1</td>\n",
       "      <td>Python</td>\n",
       "      <td>1991</td>\n",
       "    </tr>\n",
       "    <tr>\n",
       "      <th>1</th>\n",
       "      <td>2</td>\n",
       "      <td>R</td>\n",
       "      <td>1998</td>\n",
       "    </tr>\n",
       "    <tr>\n",
       "      <th>2</th>\n",
       "      <td>3</td>\n",
       "      <td>C++</td>\n",
       "      <td>1985</td>\n",
       "    </tr>\n",
       "  </tbody>\n",
       "</table>\n",
       "</div>"
      ],
      "text/plain": [
       "   id    lang  year\n",
       "0   1  Python  1991\n",
       "1   2       R  1998\n",
       "2   3     C++  1985"
      ]
     },
     "execution_count": 31,
     "metadata": {},
     "output_type": "execute_result"
    }
   ],
   "source": [
    "display(\n",
    "    langyear.join(langdevs, langdevs.id == langyear.id, 'left_semi')\n",
    ")"
   ]
  },
  {
   "cell_type": "markdown",
   "metadata": {},
   "source": [
    "### Left Anti"
   ]
  },
  {
   "cell_type": "code",
   "execution_count": 32,
   "metadata": {},
   "outputs": [
    {
     "data": {
      "text/html": [
       "<div>\n",
       "<style scoped>\n",
       "    .dataframe tbody tr th:only-of-type {\n",
       "        vertical-align: middle;\n",
       "    }\n",
       "\n",
       "    .dataframe tbody tr th {\n",
       "        vertical-align: top;\n",
       "    }\n",
       "\n",
       "    .dataframe thead th {\n",
       "        text-align: right;\n",
       "    }\n",
       "</style>\n",
       "<table border=\"1\" class=\"dataframe\">\n",
       "  <thead>\n",
       "    <tr style=\"text-align: right;\">\n",
       "      <th></th>\n",
       "      <th>id</th>\n",
       "      <th>lang</th>\n",
       "      <th>year</th>\n",
       "    </tr>\n",
       "  </thead>\n",
       "  <tbody>\n",
       "    <tr>\n",
       "      <th>0</th>\n",
       "      <td>5</td>\n",
       "      <td>Agda</td>\n",
       "      <td>2007</td>\n",
       "    </tr>\n",
       "  </tbody>\n",
       "</table>\n",
       "</div>"
      ],
      "text/plain": [
       "   id  lang  year\n",
       "0   5  Agda  2007"
      ]
     },
     "execution_count": 32,
     "metadata": {},
     "output_type": "execute_result"
    }
   ],
   "source": [
    "display(\n",
    "    langyear.join(langdevs, langdevs.id == langyear.id, 'left_anti')\n",
    ")"
   ]
  },
  {
   "cell_type": "markdown",
   "metadata": {},
   "source": [
    "### Natural"
   ]
  },
  {
   "cell_type": "code",
   "execution_count": 35,
   "metadata": {},
   "outputs": [],
   "source": [
    "langyear.createOrReplaceTempView('langyear')\n",
    "langdevs.createOrReplaceTempView('langdevs')"
   ]
  },
  {
   "cell_type": "code",
   "execution_count": 38,
   "metadata": {
    "vscode": {
     "languageId": "sql"
    }
   },
   "outputs": [
    {
     "data": {
      "text/html": [
       "<table><tr style=\"border-bottom: 1px solid\"><td style=\"font-weight: bold\">id</td><td style=\"font-weight: bold\">lang</td><td style=\"font-weight: bold\">year</td><td style=\"font-weight: bold\">devs</td></tr><tr><td>1</td><td>Python</td><td>1991</td><td>[&#x27;Guido van Rossum&#x27;]</td></tr><tr><td>2</td><td>R</td><td>1998</td><td>[&#x27;Ross Ihaka&#x27;, &#x27;Robert Gentleman&#x27;]</td></tr><tr><td>3</td><td>C++</td><td>1985</td><td>[&#x27;Bjarne Stroustrup&#x27;]</td></tr></table>"
      ],
      "text/plain": [
       "<IPython.core.display.HTML object>"
      ]
     },
     "execution_count": 38,
     "metadata": {},
     "output_type": "execute_result"
    }
   ],
   "source": [
    "%%sparksql\n",
    "select * from langyear natural join langdevs -- natural inner join"
   ]
  },
  {
   "cell_type": "code",
   "execution_count": 39,
   "metadata": {
    "vscode": {
     "languageId": "sql"
    }
   },
   "outputs": [
    {
     "data": {
      "text/html": [
       "<table><tr style=\"border-bottom: 1px solid\"><td style=\"font-weight: bold\">id</td><td style=\"font-weight: bold\">lang</td><td style=\"font-weight: bold\">year</td><td style=\"font-weight: bold\">devs</td></tr><tr><td>1</td><td>Python</td><td>1991</td><td>[&#x27;Guido van Rossum&#x27;]</td></tr><tr><td>2</td><td>R</td><td>1998</td><td>[&#x27;Ross Ihaka&#x27;, &#x27;Robert Gentleman&#x27;]</td></tr><tr><td>3</td><td>C++</td><td>1985</td><td>[&#x27;Bjarne Stroustrup&#x27;]</td></tr><tr><td>5</td><td>Agda</td><td>2007</td><td>null</td></tr></table>"
      ],
      "text/plain": [
       "<IPython.core.display.HTML object>"
      ]
     },
     "execution_count": 39,
     "metadata": {},
     "output_type": "execute_result"
    }
   ],
   "source": [
    "%%sparksql\n",
    "select * from langyear natural left join langdevs"
   ]
  },
  {
   "cell_type": "markdown",
   "metadata": {},
   "source": [
    "### Cartesian"
   ]
  },
  {
   "cell_type": "code",
   "execution_count": 46,
   "metadata": {},
   "outputs": [
    {
     "data": {
      "text/html": [
       "<div>\n",
       "<style scoped>\n",
       "    .dataframe tbody tr th:only-of-type {\n",
       "        vertical-align: middle;\n",
       "    }\n",
       "\n",
       "    .dataframe tbody tr th {\n",
       "        vertical-align: top;\n",
       "    }\n",
       "\n",
       "    .dataframe thead th {\n",
       "        text-align: right;\n",
       "    }\n",
       "</style>\n",
       "<table border=\"1\" class=\"dataframe\">\n",
       "  <thead>\n",
       "    <tr style=\"text-align: right;\">\n",
       "      <th></th>\n",
       "      <th>id</th>\n",
       "      <th>lang</th>\n",
       "      <th>year</th>\n",
       "      <th>id</th>\n",
       "      <th>devs</th>\n",
       "    </tr>\n",
       "  </thead>\n",
       "  <tbody>\n",
       "    <tr>\n",
       "      <th>0</th>\n",
       "      <td>1</td>\n",
       "      <td>Python</td>\n",
       "      <td>1991</td>\n",
       "      <td>3</td>\n",
       "      <td>[Bjarne Stroustrup]</td>\n",
       "    </tr>\n",
       "    <tr>\n",
       "      <th>1</th>\n",
       "      <td>1</td>\n",
       "      <td>Python</td>\n",
       "      <td>1991</td>\n",
       "      <td>1</td>\n",
       "      <td>[Guido van Rossum]</td>\n",
       "    </tr>\n",
       "    <tr>\n",
       "      <th>2</th>\n",
       "      <td>1</td>\n",
       "      <td>Python</td>\n",
       "      <td>1991</td>\n",
       "      <td>2</td>\n",
       "      <td>[Ross Ihaka, Robert Gentleman]</td>\n",
       "    </tr>\n",
       "    <tr>\n",
       "      <th>3</th>\n",
       "      <td>1</td>\n",
       "      <td>Python</td>\n",
       "      <td>1991</td>\n",
       "      <td>4</td>\n",
       "      <td>[Graydon Hoare]</td>\n",
       "    </tr>\n",
       "    <tr>\n",
       "      <th>4</th>\n",
       "      <td>2</td>\n",
       "      <td>R</td>\n",
       "      <td>1998</td>\n",
       "      <td>3</td>\n",
       "      <td>[Bjarne Stroustrup]</td>\n",
       "    </tr>\n",
       "    <tr>\n",
       "      <th>5</th>\n",
       "      <td>2</td>\n",
       "      <td>R</td>\n",
       "      <td>1998</td>\n",
       "      <td>1</td>\n",
       "      <td>[Guido van Rossum]</td>\n",
       "    </tr>\n",
       "    <tr>\n",
       "      <th>6</th>\n",
       "      <td>2</td>\n",
       "      <td>R</td>\n",
       "      <td>1998</td>\n",
       "      <td>2</td>\n",
       "      <td>[Ross Ihaka, Robert Gentleman]</td>\n",
       "    </tr>\n",
       "    <tr>\n",
       "      <th>7</th>\n",
       "      <td>2</td>\n",
       "      <td>R</td>\n",
       "      <td>1998</td>\n",
       "      <td>4</td>\n",
       "      <td>[Graydon Hoare]</td>\n",
       "    </tr>\n",
       "    <tr>\n",
       "      <th>8</th>\n",
       "      <td>3</td>\n",
       "      <td>C++</td>\n",
       "      <td>1985</td>\n",
       "      <td>3</td>\n",
       "      <td>[Bjarne Stroustrup]</td>\n",
       "    </tr>\n",
       "    <tr>\n",
       "      <th>9</th>\n",
       "      <td>3</td>\n",
       "      <td>C++</td>\n",
       "      <td>1985</td>\n",
       "      <td>1</td>\n",
       "      <td>[Guido van Rossum]</td>\n",
       "    </tr>\n",
       "    <tr>\n",
       "      <th>10</th>\n",
       "      <td>3</td>\n",
       "      <td>C++</td>\n",
       "      <td>1985</td>\n",
       "      <td>2</td>\n",
       "      <td>[Ross Ihaka, Robert Gentleman]</td>\n",
       "    </tr>\n",
       "    <tr>\n",
       "      <th>11</th>\n",
       "      <td>3</td>\n",
       "      <td>C++</td>\n",
       "      <td>1985</td>\n",
       "      <td>4</td>\n",
       "      <td>[Graydon Hoare]</td>\n",
       "    </tr>\n",
       "    <tr>\n",
       "      <th>12</th>\n",
       "      <td>5</td>\n",
       "      <td>Agda</td>\n",
       "      <td>2007</td>\n",
       "      <td>3</td>\n",
       "      <td>[Bjarne Stroustrup]</td>\n",
       "    </tr>\n",
       "    <tr>\n",
       "      <th>13</th>\n",
       "      <td>5</td>\n",
       "      <td>Agda</td>\n",
       "      <td>2007</td>\n",
       "      <td>1</td>\n",
       "      <td>[Guido van Rossum]</td>\n",
       "    </tr>\n",
       "    <tr>\n",
       "      <th>14</th>\n",
       "      <td>5</td>\n",
       "      <td>Agda</td>\n",
       "      <td>2007</td>\n",
       "      <td>2</td>\n",
       "      <td>[Ross Ihaka, Robert Gentleman]</td>\n",
       "    </tr>\n",
       "    <tr>\n",
       "      <th>15</th>\n",
       "      <td>5</td>\n",
       "      <td>Agda</td>\n",
       "      <td>2007</td>\n",
       "      <td>4</td>\n",
       "      <td>[Graydon Hoare]</td>\n",
       "    </tr>\n",
       "  </tbody>\n",
       "</table>\n",
       "</div>"
      ],
      "text/plain": [
       "    id    lang  year  id                            devs\n",
       "0    1  Python  1991   3             [Bjarne Stroustrup]\n",
       "1    1  Python  1991   1              [Guido van Rossum]\n",
       "2    1  Python  1991   2  [Ross Ihaka, Robert Gentleman]\n",
       "3    1  Python  1991   4                 [Graydon Hoare]\n",
       "4    2       R  1998   3             [Bjarne Stroustrup]\n",
       "5    2       R  1998   1              [Guido van Rossum]\n",
       "6    2       R  1998   2  [Ross Ihaka, Robert Gentleman]\n",
       "7    2       R  1998   4                 [Graydon Hoare]\n",
       "8    3     C++  1985   3             [Bjarne Stroustrup]\n",
       "9    3     C++  1985   1              [Guido van Rossum]\n",
       "10   3     C++  1985   2  [Ross Ihaka, Robert Gentleman]\n",
       "11   3     C++  1985   4                 [Graydon Hoare]\n",
       "12   5    Agda  2007   3             [Bjarne Stroustrup]\n",
       "13   5    Agda  2007   1              [Guido van Rossum]\n",
       "14   5    Agda  2007   2  [Ross Ihaka, Robert Gentleman]\n",
       "15   5    Agda  2007   4                 [Graydon Hoare]"
      ]
     },
     "execution_count": 46,
     "metadata": {},
     "output_type": "execute_result"
    }
   ],
   "source": [
    "display(\n",
    "    langyear.crossJoin(langdevs)\n",
    ", 100)"
   ]
  },
  {
   "cell_type": "markdown",
   "metadata": {},
   "source": [
    "## Broadcast Join\n",
    "\n",
    "Used to join a big table to a small table.\n",
    "\n",
    "Small table should be small enough to entirely fit in a worker."
   ]
  },
  {
   "cell_type": "code",
   "execution_count": 67,
   "metadata": {},
   "outputs": [
    {
     "name": "stdout",
     "output_type": "stream",
     "text": [
      "== Physical Plan ==\n",
      "AdaptiveSparkPlan isFinalPlan=false\n",
      "+- SortMergeJoin [id#52L], [id#46L], Inner\n",
      "   :- Sort [id#52L ASC NULLS FIRST], false, 0\n",
      "   :  +- Exchange hashpartitioning(id#52L, 200), ENSURE_REQUIREMENTS, [id=#2350]\n",
      "   :     +- Filter isnotnull(id#52L)\n",
      "   :        +- Scan ExistingRDD[id#52L,devs#53]\n",
      "   +- Sort [id#46L ASC NULLS FIRST], false, 0\n",
      "      +- Exchange hashpartitioning(id#46L, 200), ENSURE_REQUIREMENTS, [id=#2351]\n",
      "         +- Filter isnotnull(id#46L)\n",
      "            +- Scan ExistingRDD[id#46L,lang#47,year#48L]\n",
      "\n",
      "\n"
     ]
    }
   ],
   "source": [
    "# spark might automatically do a broadcast join\n",
    "# in this case, does not do broadcast join even when the tables are small\n",
    "langdevs.join(langyear, langdevs.id == langyear.id, 'inner').explain()"
   ]
  },
  {
   "cell_type": "code",
   "execution_count": 66,
   "metadata": {},
   "outputs": [
    {
     "name": "stdout",
     "output_type": "stream",
     "text": [
      "== Physical Plan ==\n",
      "AdaptiveSparkPlan isFinalPlan=false\n",
      "+- BroadcastHashJoin [id#52L], [id#46L], Inner, BuildLeft, false\n",
      "   :- BroadcastExchange HashedRelationBroadcastMode(List(input[0, bigint, false]),false), [id=#2327]\n",
      "   :  +- Filter isnotnull(id#52L)\n",
      "   :     +- Scan ExistingRDD[id#52L,devs#53]\n",
      "   +- Filter isnotnull(id#46L)\n",
      "      +- Scan ExistingRDD[id#46L,lang#47,year#48L]\n",
      "\n",
      "\n"
     ]
    }
   ],
   "source": [
    "# give spark a hint to do broadcast join\n",
    "# spark can ignore the hint\n",
    "spark.sql('''select /*+ mapjoin(langdevs) */\n",
    "                *\n",
    "            from\n",
    "                langdevs\n",
    "            inner join\n",
    "                langyear\n",
    "            on\n",
    "                langdevs.id = langyear.id''').explain()"
   ]
  },
  {
   "cell_type": "code",
   "execution_count": 68,
   "metadata": {},
   "outputs": [],
   "source": [
    "# spark.stop()"
   ]
  }
 ],
 "metadata": {
  "kernelspec": {
   "display_name": "Python 3.8.10 ('spark')",
   "language": "python",
   "name": "python3"
  },
  "language_info": {
   "codemirror_mode": {
    "name": "ipython",
    "version": 3
   },
   "file_extension": ".py",
   "mimetype": "text/x-python",
   "name": "python",
   "nbconvert_exporter": "python",
   "pygments_lexer": "ipython3",
   "version": "3.8.10"
  },
  "orig_nbformat": 4,
  "vscode": {
   "interpreter": {
    "hash": "b58d88c026591a9647dde84b286df4c94a28c35fef1faf0ea7672abde3080510"
   }
  }
 },
 "nbformat": 4,
 "nbformat_minor": 2
}
