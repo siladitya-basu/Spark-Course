{
 "cells": [
  {
   "cell_type": "markdown",
   "metadata": {},
   "source": [
    "# Introduction"
   ]
  },
  {
   "cell_type": "code",
   "execution_count": 1,
   "metadata": {},
   "outputs": [],
   "source": [
    "%run ./Includes/paths.py"
   ]
  },
  {
   "cell_type": "code",
   "execution_count": 2,
   "metadata": {},
   "outputs": [
    {
     "data": {
      "text/html": [
       "\n",
       "            <div>\n",
       "                <p><b>SparkSession - in-memory</b></p>\n",
       "                \n",
       "        <div>\n",
       "            <p><b>SparkContext</b></p>\n",
       "\n",
       "            <p><a href=\"http://192.168.0.209:4040\">Spark UI</a></p>\n",
       "\n",
       "            <dl>\n",
       "              <dt>Version</dt>\n",
       "                <dd><code>v3.2.1</code></dd>\n",
       "              <dt>Master</dt>\n",
       "                <dd><code>local[*]</code></dd>\n",
       "              <dt>AppName</dt>\n",
       "                <dd><code>Spark-Course</code></dd>\n",
       "            </dl>\n",
       "        </div>\n",
       "        \n",
       "            </div>\n",
       "        "
      ],
      "text/plain": [
       "<pyspark.sql.session.SparkSession at 0x7f01344a4610>"
      ]
     },
     "execution_count": 2,
     "metadata": {},
     "output_type": "execute_result"
    }
   ],
   "source": [
    "import pyspark\n",
    "from delta import *\n",
    "\n",
    "# start spark\n",
    "builder = (pyspark.sql.SparkSession.builder.appName(\"Spark-Course\")\n",
    "                .config(\"spark.sql.extensions\", \"io.delta.sql.DeltaSparkSessionExtension\")\n",
    "                .config(\"spark.sql.catalog.spark_catalog\", \"org.apache.spark.sql.delta.catalog.DeltaCatalog\"))\n",
    "\n",
    "spark = configure_spark_with_delta_pip(builder).getOrCreate()\n",
    "\n",
    "# setting log-level to ERROR to decrease verbosity\n",
    "# log4j log-levels are: OFF, FATAL, ERROR, WARN, INFO, DEBUG, TRACE, ALL\n",
    "spark.sparkContext.setLogLevel(\"ERROR\")\n",
    "\n",
    "spark"
   ]
  },
  {
   "cell_type": "code",
   "execution_count": 3,
   "metadata": {
    "vscode": {
     "languageId": "shellscript"
    }
   },
   "outputs": [
    {
     "name": "stdout",
     "output_type": "stream",
     "text": [
      "name_basics.tsv\n",
      "readme.txt\n",
      "title_akas.tsv\n",
      "title_basics.tsv\n",
      "title_crew.tsv\n",
      "title_episode.tsv\n",
      "title_principals.tsv\n",
      "title_ratings.tsv\n"
     ]
    }
   ],
   "source": [
    "%%bash -s \"$raw_data_path\"\n",
    "ls $1"
   ]
  },
  {
   "cell_type": "code",
   "execution_count": 4,
   "metadata": {},
   "outputs": [
    {
     "name": "stderr",
     "output_type": "stream",
     "text": [
      "                                                                                \r"
     ]
    },
    {
     "name": "stdout",
     "output_type": "stream",
     "text": [
      "+---------+---------+--------------------+--------------------+-------+---------+-------+--------------+--------------------+\n",
      "|   tconst|titleType|        primaryTitle|       originalTitle|isAdult|startYear|endYear|runtimeMinutes|              genres|\n",
      "+---------+---------+--------------------+--------------------+-------+---------+-------+--------------+--------------------+\n",
      "|tt0000001|    short|          Carmencita|          Carmencita|      0|     1894|     \\N|             1|   Documentary,Short|\n",
      "|tt0000002|    short|Le clown et ses c...|Le clown et ses c...|      0|     1892|     \\N|             5|     Animation,Short|\n",
      "|tt0000003|    short|      Pauvre Pierrot|      Pauvre Pierrot|      0|     1892|     \\N|             4|Animation,Comedy,...|\n",
      "|tt0000004|    short|         Un bon bock|         Un bon bock|      0|     1892|     \\N|            12|     Animation,Short|\n",
      "|tt0000005|    short|    Blacksmith Scene|    Blacksmith Scene|      0|     1893|     \\N|             1|        Comedy,Short|\n",
      "+---------+---------+--------------------+--------------------+-------+---------+-------+--------------+--------------------+\n",
      "only showing top 5 rows\n",
      "\n"
     ]
    }
   ],
   "source": [
    "# load the title_title_basics.tsv file\n",
    "title_basics_sdf = (spark\n",
    "                    .read\n",
    "                    .option('inferSchema', 'true')\n",
    "                    .option('header', 'true')\n",
    "                    .option('delimiter', '\\t')\n",
    "                    .csv(raw_data_path + 'title_basics.tsv'))\n",
    "\n",
    "title_basics_sdf.show(5)"
   ]
  },
  {
   "cell_type": "code",
   "execution_count": 5,
   "metadata": {},
   "outputs": [
    {
     "name": "stdout",
     "output_type": "stream",
     "text": [
      "root\n",
      " |-- tconst: string (nullable = true)\n",
      " |-- titleType: string (nullable = true)\n",
      " |-- primaryTitle: string (nullable = true)\n",
      " |-- originalTitle: string (nullable = true)\n",
      " |-- isAdult: string (nullable = true)\n",
      " |-- startYear: string (nullable = true)\n",
      " |-- endYear: string (nullable = true)\n",
      " |-- runtimeMinutes: string (nullable = true)\n",
      " |-- genres: string (nullable = true)\n",
      "\n"
     ]
    }
   ],
   "source": [
    "# inferred schema\n",
    "title_basics_sdf.printSchema()"
   ]
  },
  {
   "cell_type": "code",
   "execution_count": 6,
   "metadata": {},
   "outputs": [
    {
     "name": "stdout",
     "output_type": "stream",
     "text": [
      "== Physical Plan ==\n",
      "FileScan csv [tconst#16,titleType#17,primaryTitle#18,originalTitle#19,isAdult#20,startYear#21,endYear#22,runtimeMinutes#23,genres#24] Batched: false, DataFilters: [], Format: CSV, Location: InMemoryFileIndex(1 paths)[file:/home/siladitya/Documents/Spark/Spark-Course/Data/imdb/title_basi..., PartitionFilters: [], PushedFilters: [], ReadSchema: struct<tconst:string,titleType:string,primaryTitle:string,originalTitle:string,isAdult:string,sta...\n",
      "\n",
      "\n"
     ]
    }
   ],
   "source": [
    "# a spark dataframe *is* an execution plan\n",
    "title_basics_sdf.explain()"
   ]
  },
  {
   "cell_type": "code",
   "execution_count": 7,
   "metadata": {},
   "outputs": [
    {
     "name": "stderr",
     "output_type": "stream",
     "text": [
      "[Stage 3:====================================>                      (5 + 3) / 8]\r"
     ]
    },
    {
     "name": "stdout",
     "output_type": "stream",
     "text": [
      "+----------+---------+--------------------+--------------------+-------+---------+-------+--------------+-----------------+\n",
      "|    tconst|titleType|        primaryTitle|       originalTitle|isAdult|startYear|endYear|runtimeMinutes|           genres|\n",
      "+----------+---------+--------------------+--------------------+-------+---------+-------+--------------+-----------------+\n",
      "| tt3155794|    short|    Passage de Venus|    Passage de Venus|      0|     1874|     \\N|             1|Documentary,Short|\n",
      "|tt16763740|    short|       Skipping Rope|     Le jeu de corde|      0|     1877|     \\N|             1|  Animation,Short|\n",
      "|tt16763674|    short|The Tight-rope Dance|La danse sur la c...|      0|     1877|     \\N|             1|  Animation,Short|\n",
      "|tt14495706|    short|   La Rosace Magique|   La Rosace Magique|      0|     1877|     \\N|             1|  Animation,Short|\n",
      "|tt16763774|    short|  Dzing. Boom. Boom!|   Zimm. Boum. Boum!|      0|     1877|     \\N|             1|  Animation,Short|\n",
      "+----------+---------+--------------------+--------------------+-------+---------+-------+--------------+-----------------+\n",
      "only showing top 5 rows\n",
      "\n"
     ]
    },
    {
     "name": "stderr",
     "output_type": "stream",
     "text": [
      "                                                                                \r"
     ]
    }
   ],
   "source": [
    "title_basics_sdf.sort('startYear').show(5)"
   ]
  },
  {
   "cell_type": "code",
   "execution_count": 8,
   "metadata": {},
   "outputs": [
    {
     "name": "stdout",
     "output_type": "stream",
     "text": [
      "== Physical Plan ==\n",
      "AdaptiveSparkPlan isFinalPlan=false\n",
      "+- Sort [startYear#21 ASC NULLS FIRST], true, 0\n",
      "   +- Exchange rangepartitioning(startYear#21 ASC NULLS FIRST, 200), ENSURE_REQUIREMENTS, [id=#42]\n",
      "      +- FileScan csv [tconst#16,titleType#17,primaryTitle#18,originalTitle#19,isAdult#20,startYear#21,endYear#22,runtimeMinutes#23,genres#24] Batched: false, DataFilters: [], Format: CSV, Location: InMemoryFileIndex(1 paths)[file:/home/siladitya/Documents/Spark/Spark-Course/Data/imdb/title_basi..., PartitionFilters: [], PushedFilters: [], ReadSchema: struct<tconst:string,titleType:string,primaryTitle:string,originalTitle:string,isAdult:string,sta...\n",
      "\n",
      "\n"
     ]
    }
   ],
   "source": [
    "# FileScan is a narrow transformation,\n",
    "# sort is a wide transformation (see 'Exchange rangepartitioning' below)\n",
    "# as all rows need to be compared\n",
    "title_basics_sdf.sort('startYear').explain()"
   ]
  },
  {
   "cell_type": "code",
   "execution_count": 9,
   "metadata": {},
   "outputs": [
    {
     "name": "stderr",
     "output_type": "stream",
     "text": [
      "[Stage 4:===================================================>       (7 + 1) / 8]\r"
     ]
    },
    {
     "name": "stdout",
     "output_type": "stream",
     "text": [
      "+---------+-----+\n",
      "|startYear|count|\n",
      "+---------+-----+\n",
      "|     1903| 2675|\n",
      "|     1953| 9826|\n",
      "|     1897| 1356|\n",
      "|     1957|14635|\n",
      "|     1987|40368|\n",
      "+---------+-----+\n",
      "only showing top 5 rows\n",
      "\n"
     ]
    },
    {
     "name": "stderr",
     "output_type": "stream",
     "text": [
      "                                                                                \r"
     ]
    }
   ],
   "source": [
    "value_counts_sdf = (title_basics_sdf\n",
    "                        .groupBy('startYear')\n",
    "                        .count())\n",
    "value_counts_sdf.show(5)"
   ]
  },
  {
   "cell_type": "code",
   "execution_count": 10,
   "metadata": {},
   "outputs": [
    {
     "name": "stderr",
     "output_type": "stream",
     "text": [
      "[Stage 7:=============================>                             (4 + 4) / 8]\r"
     ]
    },
    {
     "name": "stdout",
     "output_type": "stream",
     "text": [
      "+---------+-------+\n",
      "|startYear|  count|\n",
      "+---------+-------+\n",
      "|       \\N|1183450|\n",
      "|     2018| 413159|\n",
      "|     2017| 411107|\n",
      "|     2019| 398502|\n",
      "|     2021| 392377|\n",
      "+---------+-------+\n",
      "only showing top 5 rows\n",
      "\n"
     ]
    },
    {
     "name": "stderr",
     "output_type": "stream",
     "text": [
      "                                                                                \r"
     ]
    }
   ],
   "source": [
    "from pyspark.sql.functions import * # lets us use col('count').desc()\n",
    "\n",
    "value_counts_sorted_sdf = (value_counts_sdf\n",
    "                                .orderBy(col('count').desc()))\n",
    "\n",
    "value_counts_sorted_sdf.show(5)"
   ]
  },
  {
   "cell_type": "code",
   "execution_count": 11,
   "metadata": {},
   "outputs": [
    {
     "name": "stdout",
     "output_type": "stream",
     "text": [
      "== Physical Plan ==\n",
      "AdaptiveSparkPlan isFinalPlan=false\n",
      "+- HashAggregate(keys=[startYear#21], functions=[count(1)])\n",
      "   +- Exchange hashpartitioning(startYear#21, 200), ENSURE_REQUIREMENTS, [id=#145]\n",
      "      +- HashAggregate(keys=[startYear#21], functions=[partial_count(1)])\n",
      "         +- FileScan csv [startYear#21] Batched: false, DataFilters: [], Format: CSV, Location: InMemoryFileIndex(1 paths)[file:/home/siladitya/Documents/Spark/Spark-Course/Data/imdb/title_basi..., PartitionFilters: [], PushedFilters: [], ReadSchema: struct<startYear:string>\n",
      "\n",
      "\n"
     ]
    }
   ],
   "source": [
    "value_counts_sdf.explain()"
   ]
  },
  {
   "cell_type": "code",
   "execution_count": 12,
   "metadata": {},
   "outputs": [
    {
     "name": "stdout",
     "output_type": "stream",
     "text": [
      "== Physical Plan ==\n",
      "AdaptiveSparkPlan isFinalPlan=false\n",
      "+- Sort [count#136L DESC NULLS LAST], true, 0\n",
      "   +- Exchange rangepartitioning(count#136L DESC NULLS LAST, 200), ENSURE_REQUIREMENTS, [id=#165]\n",
      "      +- HashAggregate(keys=[startYear#21], functions=[count(1)])\n",
      "         +- Exchange hashpartitioning(startYear#21, 200), ENSURE_REQUIREMENTS, [id=#162]\n",
      "            +- HashAggregate(keys=[startYear#21], functions=[partial_count(1)])\n",
      "               +- FileScan csv [startYear#21] Batched: false, DataFilters: [], Format: CSV, Location: InMemoryFileIndex(1 paths)[file:/home/siladitya/Documents/Spark/Spark-Course/Data/imdb/title_basi..., PartitionFilters: [], PushedFilters: [], ReadSchema: struct<startYear:string>\n",
      "\n",
      "\n"
     ]
    }
   ],
   "source": [
    "# the physical plan for `value_counts_sorted_sdf` is the physical plan for\n",
    "# `value_counts_sdf` plus two more steps (exchange and sort)\n",
    "value_counts_sorted_sdf.explain()"
   ]
  },
  {
   "cell_type": "code",
   "execution_count": 13,
   "metadata": {},
   "outputs": [
    {
     "name": "stderr",
     "output_type": "stream",
     "text": [
      "[Stage 10:===========================================>              (6 + 2) / 8]\r"
     ]
    },
    {
     "name": "stdout",
     "output_type": "stream",
     "text": [
      "+---------+--------+\n",
      "|startYear|count(1)|\n",
      "+---------+--------+\n",
      "|       \\N| 1183450|\n",
      "|     2018|  413159|\n",
      "|     2017|  411107|\n",
      "|     2019|  398502|\n",
      "|     2021|  392377|\n",
      "+---------+--------+\n",
      "only showing top 5 rows\n",
      "\n"
     ]
    },
    {
     "name": "stderr",
     "output_type": "stream",
     "text": [
      "                                                                                \r"
     ]
    }
   ],
   "source": [
    "title_basics_sdf.createOrReplaceTempView('titles')\n",
    "\n",
    "value_counts_sql = spark.sql('select startYear, count(*) from titles group by startYear order by 2 desc;')\n",
    "\n",
    "value_counts_sql.show(5)"
   ]
  },
  {
   "cell_type": "code",
   "execution_count": 14,
   "metadata": {},
   "outputs": [
    {
     "name": "stdout",
     "output_type": "stream",
     "text": [
      "== Physical Plan ==\n",
      "AdaptiveSparkPlan isFinalPlan=false\n",
      "+- Sort [count(1)#162L DESC NULLS LAST], true, 0\n",
      "   +- Exchange rangepartitioning(count(1)#162L DESC NULLS LAST, 200), ENSURE_REQUIREMENTS, [id=#233]\n",
      "      +- HashAggregate(keys=[startYear#21], functions=[count(1)])\n",
      "         +- Exchange hashpartitioning(startYear#21, 200), ENSURE_REQUIREMENTS, [id=#230]\n",
      "            +- HashAggregate(keys=[startYear#21], functions=[partial_count(1)])\n",
      "               +- FileScan csv [startYear#21] Batched: false, DataFilters: [], Format: CSV, Location: InMemoryFileIndex(1 paths)[file:/home/siladitya/Documents/Spark/Spark-Course/Data/imdb/title_basi..., PartitionFilters: [], PushedFilters: [], ReadSchema: struct<startYear:string>\n",
      "\n",
      "\n"
     ]
    }
   ],
   "source": [
    "# compiles to the same physical plan as for value_counts_sorted_sdf\n",
    "value_counts_sql.explain()"
   ]
  },
  {
   "cell_type": "code",
   "execution_count": 15,
   "metadata": {},
   "outputs": [],
   "source": [
    "# stop spark application and cluster\n",
    "# spark.stop()"
   ]
  }
 ],
 "metadata": {
  "interpreter": {
   "hash": "b58d88c026591a9647dde84b286df4c94a28c35fef1faf0ea7672abde3080510"
  },
  "kernelspec": {
   "display_name": "Python 3.8.10 ('spark')",
   "language": "python",
   "name": "python3"
  },
  "language_info": {
   "codemirror_mode": {
    "name": "ipython",
    "version": 3
   },
   "file_extension": ".py",
   "mimetype": "text/x-python",
   "name": "python",
   "nbconvert_exporter": "python",
   "pygments_lexer": "ipython3",
   "version": "3.8.10"
  },
  "orig_nbformat": 4
 },
 "nbformat": 4,
 "nbformat_minor": 2
}
