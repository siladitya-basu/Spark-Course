{
 "cells": [
  {
   "cell_type": "markdown",
   "metadata": {},
   "source": [
    "# Introduction"
   ]
  },
  {
   "cell_type": "code",
   "execution_count": null,
   "metadata": {},
   "outputs": [],
   "source": [
    "%run ./Includes/paths.py"
   ]
  },
  {
   "cell_type": "code",
   "execution_count": null,
   "metadata": {},
   "outputs": [],
   "source": [
    "import pyspark\n",
    "from delta import *\n",
    "\n",
    "# start spark\n",
    "builder = (pyspark.sql.SparkSession.builder.appName(\"Spark-Course\")\n",
    "                .config(\"spark.sql.extensions\", \"io.delta.sql.DeltaSparkSessionExtension\")\n",
    "                .config(\"spark.sql.catalog.spark_catalog\", \"org.apache.spark.sql.delta.catalog.DeltaCatalog\"))\n",
    "\n",
    "spark = configure_spark_with_delta_pip(builder).getOrCreate()\n",
    "\n",
    "# setting log-level to ERROR to decrease verbosity\n",
    "# log4j log-levels are: OFF, FATAL, ERROR, WARN, INFO, DEBUG, TRACE, ALL\n",
    "spark.sparkContext.setLogLevel(\"ERROR\")\n",
    "\n",
    "spark"
   ]
  },
  {
   "cell_type": "code",
   "execution_count": null,
   "metadata": {
    "vscode": {
     "languageId": "shellscript"
    }
   },
   "outputs": [],
   "source": [
    "%%bash -s \"$raw_data_path\"\n",
    "ls $1"
   ]
  },
  {
   "cell_type": "code",
   "execution_count": null,
   "metadata": {},
   "outputs": [],
   "source": [
    "# load the title_title_basics.tsv file\n",
    "title_basics_sdf = (spark\n",
    "                    .read\n",
    "                    .option('inferSchema', 'true')\n",
    "                    .option('header', 'true')\n",
    "                    .option('delimiter', '\\t')\n",
    "                    .csv(raw_data_path + 'title_basics.tsv'))\n",
    "\n",
    "title_basics_sdf.show(5)"
   ]
  },
  {
   "cell_type": "code",
   "execution_count": null,
   "metadata": {},
   "outputs": [],
   "source": [
    "# inferred schema\n",
    "title_basics_sdf.printSchema()"
   ]
  },
  {
   "cell_type": "code",
   "execution_count": null,
   "metadata": {},
   "outputs": [],
   "source": [
    "# a spark dataframe *is* an execution plan\n",
    "title_basics_sdf.explain()"
   ]
  },
  {
   "cell_type": "code",
   "execution_count": null,
   "metadata": {},
   "outputs": [],
   "source": [
    "title_basics_sdf.sort('startYear').show(5)"
   ]
  },
  {
   "cell_type": "code",
   "execution_count": null,
   "metadata": {},
   "outputs": [],
   "source": [
    "# FileScan is a narrow transformation,\n",
    "# sort is a wide transformation (see 'Exchange rangepartitioning' below)\n",
    "# as all rows need to be compared\n",
    "title_basics_sdf.sort('startYear').explain()"
   ]
  },
  {
   "cell_type": "code",
   "execution_count": null,
   "metadata": {},
   "outputs": [],
   "source": [
    "value_counts_sdf = (title_basics_sdf\n",
    "                        .groupBy('startYear')\n",
    "                        .count())\n",
    "value_counts_sdf.show(5)"
   ]
  },
  {
   "cell_type": "code",
   "execution_count": null,
   "metadata": {},
   "outputs": [],
   "source": [
    "from pyspark.sql.functions import * # lets us use col('count').desc()\n",
    "\n",
    "value_counts_sorted_sdf = (value_counts_sdf\n",
    "                                .orderBy(col('count').desc()))\n",
    "\n",
    "value_counts_sorted_sdf.show(5)"
   ]
  },
  {
   "cell_type": "code",
   "execution_count": null,
   "metadata": {},
   "outputs": [],
   "source": [
    "value_counts_sdf.explain()"
   ]
  },
  {
   "cell_type": "code",
   "execution_count": null,
   "metadata": {},
   "outputs": [],
   "source": [
    "# the physical plan for `value_counts_sorted_sdf` is the physical plan for\n",
    "# `value_counts_sdf` plus two more steps (exchange and sort)\n",
    "value_counts_sorted_sdf.explain()"
   ]
  },
  {
   "cell_type": "code",
   "execution_count": null,
   "metadata": {},
   "outputs": [],
   "source": [
    "title_basics_sdf.createOrReplaceTempView('titles')\n",
    "\n",
    "value_counts_sql = spark.sql('select startYear, count(*) from titles group by startYear order by 2 desc;')\n",
    "\n",
    "value_counts_sql.show(5)"
   ]
  },
  {
   "cell_type": "code",
   "execution_count": null,
   "metadata": {},
   "outputs": [],
   "source": [
    "# compiles to the same physical plan as for value_counts_sorted_sdf\n",
    "value_counts_sql.explain()"
   ]
  },
  {
   "cell_type": "code",
   "execution_count": null,
   "metadata": {},
   "outputs": [],
   "source": [
    "# stop spark application and cluster\n",
    "# spark.stop()"
   ]
  }
 ],
 "metadata": {
  "interpreter": {
   "hash": "b58d88c026591a9647dde84b286df4c94a28c35fef1faf0ea7672abde3080510"
  },
  "kernelspec": {
   "display_name": "Python 3.8.10 ('spark')",
   "language": "python",
   "name": "python3"
  },
  "language_info": {
   "codemirror_mode": {
    "name": "ipython",
    "version": 3
   },
   "file_extension": ".py",
   "mimetype": "text/x-python",
   "name": "python",
   "nbconvert_exporter": "python",
   "pygments_lexer": "ipython3",
   "version": "3.8.10"
  },
  "orig_nbformat": 4
 },
 "nbformat": 4,
 "nbformat_minor": 2
}
