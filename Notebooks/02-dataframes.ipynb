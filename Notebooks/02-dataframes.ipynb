{
 "cells": [
  {
   "cell_type": "markdown",
   "metadata": {},
   "source": [
    "# Dataframes"
   ]
  },
  {
   "cell_type": "code",
   "execution_count": 1,
   "metadata": {},
   "outputs": [
    {
     "name": "stderr",
     "output_type": "stream",
     "text": [
      "WARNING: An illegal reflective access operation has occurred\n",
      "WARNING: Illegal reflective access by org.apache.spark.unsafe.Platform (file:/opt/spark/jars/spark-unsafe_2.12-3.2.1.jar) to constructor java.nio.DirectByteBuffer(long,int)\n",
      "WARNING: Please consider reporting this to the maintainers of org.apache.spark.unsafe.Platform\n",
      "WARNING: Use --illegal-access=warn to enable warnings of further illegal reflective access operations\n",
      "WARNING: All illegal access operations will be denied in a future release\n"
     ]
    },
    {
     "name": "stdout",
     "output_type": "stream",
     "text": [
      ":: loading settings :: url = jar:file:/opt/spark/jars/ivy-2.5.0.jar!/org/apache/ivy/core/settings/ivysettings.xml\n"
     ]
    },
    {
     "name": "stderr",
     "output_type": "stream",
     "text": [
      "Ivy Default Cache set to: /home/siladitya/.ivy2/cache\n",
      "The jars for the packages stored in: /home/siladitya/.ivy2/jars\n",
      "io.delta#delta-core_2.12 added as a dependency\n",
      ":: resolving dependencies :: org.apache.spark#spark-submit-parent-d1a7c116-1377-4677-887f-0dbf42d8359b;1.0\n",
      "\tconfs: [default]\n",
      "\tfound io.delta#delta-core_2.12;1.2.1 in central\n",
      "\tfound io.delta#delta-storage;1.2.1 in central\n",
      "\tfound org.antlr#antlr4-runtime;4.8 in central\n",
      "\tfound org.codehaus.jackson#jackson-core-asl;1.9.13 in central\n",
      ":: resolution report :: resolve 600ms :: artifacts dl 13ms\n",
      "\t:: modules in use:\n",
      "\tio.delta#delta-core_2.12;1.2.1 from central in [default]\n",
      "\tio.delta#delta-storage;1.2.1 from central in [default]\n",
      "\torg.antlr#antlr4-runtime;4.8 from central in [default]\n",
      "\torg.codehaus.jackson#jackson-core-asl;1.9.13 from central in [default]\n",
      "\t---------------------------------------------------------------------\n",
      "\t|                  |            modules            ||   artifacts   |\n",
      "\t|       conf       | number| search|dwnlded|evicted|| number|dwnlded|\n",
      "\t---------------------------------------------------------------------\n",
      "\t|      default     |   4   |   0   |   0   |   0   ||   4   |   0   |\n",
      "\t---------------------------------------------------------------------\n",
      ":: retrieving :: org.apache.spark#spark-submit-parent-d1a7c116-1377-4677-887f-0dbf42d8359b\n",
      "\tconfs: [default]\n",
      "\t0 artifacts copied, 4 already retrieved (0kB/9ms)\n",
      "Setting default log level to \"INFO\".\n",
      "To adjust logging level use sc.setLogLevel(newLevel). For SparkR, use setLogLevel(newLevel).\n"
     ]
    },
    {
     "data": {
      "text/html": [
       "\n",
       "            <div>\n",
       "                <p><b>SparkSession - in-memory</b></p>\n",
       "                \n",
       "        <div>\n",
       "            <p><b>SparkContext</b></p>\n",
       "\n",
       "            <p><a href=\"http://192.168.0.209:4042\">Spark UI</a></p>\n",
       "\n",
       "            <dl>\n",
       "              <dt>Version</dt>\n",
       "                <dd><code>v3.2.1</code></dd>\n",
       "              <dt>Master</dt>\n",
       "                <dd><code>local[*]</code></dd>\n",
       "              <dt>AppName</dt>\n",
       "                <dd><code>Spark-Course</code></dd>\n",
       "            </dl>\n",
       "        </div>\n",
       "        \n",
       "            </div>\n",
       "        "
      ],
      "text/plain": [
       "<pyspark.sql.session.SparkSession at 0x7fe78da1c850>"
      ]
     },
     "execution_count": 1,
     "metadata": {},
     "output_type": "execute_result"
    }
   ],
   "source": [
    "import pyspark\n",
    "from delta import *\n",
    "import pandas as pd\n",
    "\n",
    "# start spark\n",
    "builder = (pyspark.sql.SparkSession.builder.appName(\"Spark-Course\")\n",
    "                .config(\"spark.sql.extensions\", \"io.delta.sql.DeltaSparkSessionExtension\")\n",
    "                .config(\"spark.sql.catalog.spark_catalog\", \"org.apache.spark.sql.delta.catalog.DeltaCatalog\"))\n",
    "\n",
    "spark = configure_spark_with_delta_pip(builder).getOrCreate()\n",
    "\n",
    "# setting log-level to ERROR to decrease verbosity\n",
    "# log4j log-levels are: OFF, FATAL, ERROR, WARN, INFO, DEBUG, TRACE, ALL\n",
    "spark.sparkContext.setLogLevel(\"ERROR\")\n",
    "\n",
    "spark"
   ]
  },
  {
   "cell_type": "code",
   "execution_count": 2,
   "metadata": {},
   "outputs": [],
   "source": [
    "# so that Pandas df display all columns, default is 20\n",
    "pd.set_option('display.max_columns', None)"
   ]
  },
  {
   "cell_type": "code",
   "execution_count": 3,
   "metadata": {},
   "outputs": [],
   "source": [
    "raw_data_path = '/home/siladitya/Documents/Spark/Spark-Course/Data/imdb/'"
   ]
  },
  {
   "cell_type": "code",
   "execution_count": 4,
   "metadata": {},
   "outputs": [
    {
     "name": "stderr",
     "output_type": "stream",
     "text": [
      "                                                                                \r"
     ]
    },
    {
     "data": {
      "text/html": [
       "<div>\n",
       "<style scoped>\n",
       "    .dataframe tbody tr th:only-of-type {\n",
       "        vertical-align: middle;\n",
       "    }\n",
       "\n",
       "    .dataframe tbody tr th {\n",
       "        vertical-align: top;\n",
       "    }\n",
       "\n",
       "    .dataframe thead th {\n",
       "        text-align: right;\n",
       "    }\n",
       "</style>\n",
       "<table border=\"1\" class=\"dataframe\">\n",
       "  <thead>\n",
       "    <tr style=\"text-align: right;\">\n",
       "      <th></th>\n",
       "      <th>tconst</th>\n",
       "      <th>titleType</th>\n",
       "      <th>primaryTitle</th>\n",
       "      <th>originalTitle</th>\n",
       "      <th>isAdult</th>\n",
       "      <th>startYear</th>\n",
       "      <th>endYear</th>\n",
       "      <th>runtimeMinutes</th>\n",
       "      <th>genres</th>\n",
       "    </tr>\n",
       "  </thead>\n",
       "  <tbody>\n",
       "    <tr>\n",
       "      <th>0</th>\n",
       "      <td>tt0000001</td>\n",
       "      <td>short</td>\n",
       "      <td>Carmencita</td>\n",
       "      <td>Carmencita</td>\n",
       "      <td>0</td>\n",
       "      <td>1894</td>\n",
       "      <td>\\N</td>\n",
       "      <td>1</td>\n",
       "      <td>Documentary,Short</td>\n",
       "    </tr>\n",
       "    <tr>\n",
       "      <th>1</th>\n",
       "      <td>tt0000002</td>\n",
       "      <td>short</td>\n",
       "      <td>Le clown et ses chiens</td>\n",
       "      <td>Le clown et ses chiens</td>\n",
       "      <td>0</td>\n",
       "      <td>1892</td>\n",
       "      <td>\\N</td>\n",
       "      <td>5</td>\n",
       "      <td>Animation,Short</td>\n",
       "    </tr>\n",
       "    <tr>\n",
       "      <th>2</th>\n",
       "      <td>tt0000003</td>\n",
       "      <td>short</td>\n",
       "      <td>Pauvre Pierrot</td>\n",
       "      <td>Pauvre Pierrot</td>\n",
       "      <td>0</td>\n",
       "      <td>1892</td>\n",
       "      <td>\\N</td>\n",
       "      <td>4</td>\n",
       "      <td>Animation,Comedy,Romance</td>\n",
       "    </tr>\n",
       "    <tr>\n",
       "      <th>3</th>\n",
       "      <td>tt0000004</td>\n",
       "      <td>short</td>\n",
       "      <td>Un bon bock</td>\n",
       "      <td>Un bon bock</td>\n",
       "      <td>0</td>\n",
       "      <td>1892</td>\n",
       "      <td>\\N</td>\n",
       "      <td>12</td>\n",
       "      <td>Animation,Short</td>\n",
       "    </tr>\n",
       "    <tr>\n",
       "      <th>4</th>\n",
       "      <td>tt0000005</td>\n",
       "      <td>short</td>\n",
       "      <td>Blacksmith Scene</td>\n",
       "      <td>Blacksmith Scene</td>\n",
       "      <td>0</td>\n",
       "      <td>1893</td>\n",
       "      <td>\\N</td>\n",
       "      <td>1</td>\n",
       "      <td>Comedy,Short</td>\n",
       "    </tr>\n",
       "    <tr>\n",
       "      <th>5</th>\n",
       "      <td>tt0000006</td>\n",
       "      <td>short</td>\n",
       "      <td>Chinese Opium Den</td>\n",
       "      <td>Chinese Opium Den</td>\n",
       "      <td>0</td>\n",
       "      <td>1894</td>\n",
       "      <td>\\N</td>\n",
       "      <td>1</td>\n",
       "      <td>Short</td>\n",
       "    </tr>\n",
       "    <tr>\n",
       "      <th>6</th>\n",
       "      <td>tt0000007</td>\n",
       "      <td>short</td>\n",
       "      <td>Corbett and Courtney Before the Kinetograph</td>\n",
       "      <td>Corbett and Courtney Before the Kinetograph</td>\n",
       "      <td>0</td>\n",
       "      <td>1894</td>\n",
       "      <td>\\N</td>\n",
       "      <td>1</td>\n",
       "      <td>Short,Sport</td>\n",
       "    </tr>\n",
       "    <tr>\n",
       "      <th>7</th>\n",
       "      <td>tt0000008</td>\n",
       "      <td>short</td>\n",
       "      <td>Edison Kinetoscopic Record of a Sneeze</td>\n",
       "      <td>Edison Kinetoscopic Record of a Sneeze</td>\n",
       "      <td>0</td>\n",
       "      <td>1894</td>\n",
       "      <td>\\N</td>\n",
       "      <td>1</td>\n",
       "      <td>Documentary,Short</td>\n",
       "    </tr>\n",
       "    <tr>\n",
       "      <th>8</th>\n",
       "      <td>tt0000009</td>\n",
       "      <td>short</td>\n",
       "      <td>Miss Jerry</td>\n",
       "      <td>Miss Jerry</td>\n",
       "      <td>0</td>\n",
       "      <td>1894</td>\n",
       "      <td>\\N</td>\n",
       "      <td>40</td>\n",
       "      <td>Romance,Short</td>\n",
       "    </tr>\n",
       "    <tr>\n",
       "      <th>9</th>\n",
       "      <td>tt0000010</td>\n",
       "      <td>short</td>\n",
       "      <td>Leaving the Factory</td>\n",
       "      <td>La sortie de l'usine Lumière à Lyon</td>\n",
       "      <td>0</td>\n",
       "      <td>1895</td>\n",
       "      <td>\\N</td>\n",
       "      <td>1</td>\n",
       "      <td>Documentary,Short</td>\n",
       "    </tr>\n",
       "  </tbody>\n",
       "</table>\n",
       "</div>"
      ],
      "text/plain": [
       "      tconst titleType                                 primaryTitle  \\\n",
       "0  tt0000001     short                                   Carmencita   \n",
       "1  tt0000002     short                       Le clown et ses chiens   \n",
       "2  tt0000003     short                               Pauvre Pierrot   \n",
       "3  tt0000004     short                                  Un bon bock   \n",
       "4  tt0000005     short                             Blacksmith Scene   \n",
       "5  tt0000006     short                            Chinese Opium Den   \n",
       "6  tt0000007     short  Corbett and Courtney Before the Kinetograph   \n",
       "7  tt0000008     short       Edison Kinetoscopic Record of a Sneeze   \n",
       "8  tt0000009     short                                   Miss Jerry   \n",
       "9  tt0000010     short                          Leaving the Factory   \n",
       "\n",
       "                                 originalTitle isAdult startYear endYear  \\\n",
       "0                                   Carmencita       0      1894      \\N   \n",
       "1                       Le clown et ses chiens       0      1892      \\N   \n",
       "2                               Pauvre Pierrot       0      1892      \\N   \n",
       "3                                  Un bon bock       0      1892      \\N   \n",
       "4                             Blacksmith Scene       0      1893      \\N   \n",
       "5                            Chinese Opium Den       0      1894      \\N   \n",
       "6  Corbett and Courtney Before the Kinetograph       0      1894      \\N   \n",
       "7       Edison Kinetoscopic Record of a Sneeze       0      1894      \\N   \n",
       "8                                   Miss Jerry       0      1894      \\N   \n",
       "9          La sortie de l'usine Lumière à Lyon       0      1895      \\N   \n",
       "\n",
       "  runtimeMinutes                    genres  \n",
       "0              1         Documentary,Short  \n",
       "1              5           Animation,Short  \n",
       "2              4  Animation,Comedy,Romance  \n",
       "3             12           Animation,Short  \n",
       "4              1              Comedy,Short  \n",
       "5              1                     Short  \n",
       "6              1               Short,Sport  \n",
       "7              1         Documentary,Short  \n",
       "8             40             Romance,Short  \n",
       "9              1         Documentary,Short  "
      ]
     },
     "execution_count": 4,
     "metadata": {},
     "output_type": "execute_result"
    }
   ],
   "source": [
    "title_basics_sdf = (spark\n",
    "                    .read\n",
    "                    .option('inferSchema', 'true')\n",
    "                    .option('header', 'true')\n",
    "                    .option('delimiter', '\\t')\n",
    "                    .csv(raw_data_path + 'title_basics.tsv'))\n",
    "\n",
    "# pretty display\n",
    "title_basics_sdf.limit(10).toPandas().head(10)"
   ]
  },
  {
   "cell_type": "markdown",
   "metadata": {},
   "source": [
    "### Schema"
   ]
  },
  {
   "cell_type": "code",
   "execution_count": 5,
   "metadata": {},
   "outputs": [
    {
     "name": "stdout",
     "output_type": "stream",
     "text": [
      "root\n",
      " |-- tconst: string (nullable = true)\n",
      " |-- titleType: string (nullable = true)\n",
      " |-- primaryTitle: string (nullable = true)\n",
      " |-- originalTitle: string (nullable = true)\n",
      " |-- isAdult: string (nullable = true)\n",
      " |-- startYear: string (nullable = true)\n",
      " |-- endYear: string (nullable = true)\n",
      " |-- runtimeMinutes: string (nullable = true)\n",
      " |-- genres: string (nullable = true)\n",
      "\n"
     ]
    }
   ],
   "source": [
    "title_basics_sdf.printSchema()"
   ]
  },
  {
   "cell_type": "code",
   "execution_count": 6,
   "metadata": {},
   "outputs": [
    {
     "data": {
      "text/plain": [
       "StructType(List(StructField(tconst,StringType,true),StructField(titleType,StringType,true),StructField(primaryTitle,StringType,true),StructField(originalTitle,StringType,true),StructField(isAdult,StringType,true),StructField(startYear,StringType,true),StructField(endYear,StringType,true),StructField(runtimeMinutes,StringType,true),StructField(genres,StringType,true)))"
      ]
     },
     "execution_count": 6,
     "metadata": {},
     "output_type": "execute_result"
    }
   ],
   "source": [
    "# a schema *is* a StructType \n",
    "title_basics_sdf.schema"
   ]
  },
  {
   "cell_type": "code",
   "execution_count": 7,
   "metadata": {},
   "outputs": [
    {
     "data": {
      "text/plain": [
       "[StructField(tconst,StringType,true),\n",
       " StructField(titleType,StringType,true),\n",
       " StructField(primaryTitle,StringType,true),\n",
       " StructField(originalTitle,StringType,true),\n",
       " StructField(isAdult,StringType,true),\n",
       " StructField(startYear,StringType,true),\n",
       " StructField(endYear,StringType,true),\n",
       " StructField(runtimeMinutes,StringType,true),\n",
       " StructField(genres,StringType,true)]"
      ]
     },
     "execution_count": 7,
     "metadata": {},
     "output_type": "execute_result"
    }
   ],
   "source": [
    "# the list within the schema\n",
    "title_basics_sdf.schema.fields"
   ]
  },
  {
   "cell_type": "code",
   "execution_count": 8,
   "metadata": {},
   "outputs": [
    {
     "data": {
      "text/plain": [
       "['tconst',\n",
       " 'titleType',\n",
       " 'primaryTitle',\n",
       " 'originalTitle',\n",
       " 'isAdult',\n",
       " 'startYear',\n",
       " 'endYear',\n",
       " 'runtimeMinutes',\n",
       " 'genres']"
      ]
     },
     "execution_count": 8,
     "metadata": {},
     "output_type": "execute_result"
    }
   ],
   "source": [
    "# field names\n",
    "title_basics_sdf.schema.names"
   ]
  },
  {
   "cell_type": "code",
   "execution_count": 9,
   "metadata": {},
   "outputs": [
    {
     "data": {
      "text/plain": [
       "['tconst',\n",
       " 'titleType',\n",
       " 'primaryTitle',\n",
       " 'originalTitle',\n",
       " 'isAdult',\n",
       " 'startYear',\n",
       " 'endYear',\n",
       " 'runtimeMinutes',\n",
       " 'genres']"
      ]
     },
     "execution_count": 9,
     "metadata": {},
     "output_type": "execute_result"
    }
   ],
   "source": [
    "# same as above\n",
    "title_basics_sdf.columns"
   ]
  },
  {
   "cell_type": "code",
   "execution_count": 10,
   "metadata": {},
   "outputs": [
    {
     "data": {
      "text/plain": [
       "{'type': 'struct',\n",
       " 'fields': [{'name': 'tconst',\n",
       "   'type': 'string',\n",
       "   'nullable': True,\n",
       "   'metadata': {}},\n",
       "  {'name': 'titleType', 'type': 'string', 'nullable': True, 'metadata': {}},\n",
       "  {'name': 'primaryTitle', 'type': 'string', 'nullable': True, 'metadata': {}},\n",
       "  {'name': 'originalTitle',\n",
       "   'type': 'string',\n",
       "   'nullable': True,\n",
       "   'metadata': {}},\n",
       "  {'name': 'isAdult', 'type': 'string', 'nullable': True, 'metadata': {}},\n",
       "  {'name': 'startYear', 'type': 'string', 'nullable': True, 'metadata': {}},\n",
       "  {'name': 'endYear', 'type': 'string', 'nullable': True, 'metadata': {}},\n",
       "  {'name': 'runtimeMinutes',\n",
       "   'type': 'string',\n",
       "   'nullable': True,\n",
       "   'metadata': {}},\n",
       "  {'name': 'genres', 'type': 'string', 'nullable': True, 'metadata': {}}]}"
      ]
     },
     "execution_count": 10,
     "metadata": {},
     "output_type": "execute_result"
    }
   ],
   "source": [
    "# JSON\n",
    "title_basics_sdf.schema.jsonValue()"
   ]
  },
  {
   "cell_type": "code",
   "execution_count": 11,
   "metadata": {},
   "outputs": [
    {
     "data": {
      "text/html": [
       "<div>\n",
       "<style scoped>\n",
       "    .dataframe tbody tr th:only-of-type {\n",
       "        vertical-align: middle;\n",
       "    }\n",
       "\n",
       "    .dataframe tbody tr th {\n",
       "        vertical-align: top;\n",
       "    }\n",
       "\n",
       "    .dataframe thead th {\n",
       "        text-align: right;\n",
       "    }\n",
       "</style>\n",
       "<table border=\"1\" class=\"dataframe\">\n",
       "  <thead>\n",
       "    <tr style=\"text-align: right;\">\n",
       "      <th></th>\n",
       "      <th>tconst</th>\n",
       "      <th>titleType</th>\n",
       "      <th>primaryTitle</th>\n",
       "      <th>originalTitle</th>\n",
       "      <th>isAdult</th>\n",
       "      <th>startYear</th>\n",
       "      <th>endYear</th>\n",
       "      <th>runtimeMinutes</th>\n",
       "      <th>genres</th>\n",
       "    </tr>\n",
       "  </thead>\n",
       "  <tbody>\n",
       "    <tr>\n",
       "      <th>0</th>\n",
       "      <td>tt0000001</td>\n",
       "      <td>short</td>\n",
       "      <td>Carmencita</td>\n",
       "      <td>Carmencita</td>\n",
       "      <td>0</td>\n",
       "      <td>1894</td>\n",
       "      <td>NaN</td>\n",
       "      <td>1</td>\n",
       "      <td>Documentary,Short</td>\n",
       "    </tr>\n",
       "    <tr>\n",
       "      <th>1</th>\n",
       "      <td>tt0000002</td>\n",
       "      <td>short</td>\n",
       "      <td>Le clown et ses chiens</td>\n",
       "      <td>Le clown et ses chiens</td>\n",
       "      <td>0</td>\n",
       "      <td>1892</td>\n",
       "      <td>NaN</td>\n",
       "      <td>5</td>\n",
       "      <td>Animation,Short</td>\n",
       "    </tr>\n",
       "    <tr>\n",
       "      <th>2</th>\n",
       "      <td>tt0000003</td>\n",
       "      <td>short</td>\n",
       "      <td>Pauvre Pierrot</td>\n",
       "      <td>Pauvre Pierrot</td>\n",
       "      <td>0</td>\n",
       "      <td>1892</td>\n",
       "      <td>NaN</td>\n",
       "      <td>4</td>\n",
       "      <td>Animation,Comedy,Romance</td>\n",
       "    </tr>\n",
       "    <tr>\n",
       "      <th>3</th>\n",
       "      <td>tt0000004</td>\n",
       "      <td>short</td>\n",
       "      <td>Un bon bock</td>\n",
       "      <td>Un bon bock</td>\n",
       "      <td>0</td>\n",
       "      <td>1892</td>\n",
       "      <td>NaN</td>\n",
       "      <td>12</td>\n",
       "      <td>Animation,Short</td>\n",
       "    </tr>\n",
       "    <tr>\n",
       "      <th>4</th>\n",
       "      <td>tt0000005</td>\n",
       "      <td>short</td>\n",
       "      <td>Blacksmith Scene</td>\n",
       "      <td>Blacksmith Scene</td>\n",
       "      <td>0</td>\n",
       "      <td>1893</td>\n",
       "      <td>NaN</td>\n",
       "      <td>1</td>\n",
       "      <td>Comedy,Short</td>\n",
       "    </tr>\n",
       "    <tr>\n",
       "      <th>5</th>\n",
       "      <td>tt0000006</td>\n",
       "      <td>short</td>\n",
       "      <td>Chinese Opium Den</td>\n",
       "      <td>Chinese Opium Den</td>\n",
       "      <td>0</td>\n",
       "      <td>1894</td>\n",
       "      <td>NaN</td>\n",
       "      <td>1</td>\n",
       "      <td>Short</td>\n",
       "    </tr>\n",
       "    <tr>\n",
       "      <th>6</th>\n",
       "      <td>tt0000007</td>\n",
       "      <td>short</td>\n",
       "      <td>Corbett and Courtney Before the Kinetograph</td>\n",
       "      <td>Corbett and Courtney Before the Kinetograph</td>\n",
       "      <td>0</td>\n",
       "      <td>1894</td>\n",
       "      <td>NaN</td>\n",
       "      <td>1</td>\n",
       "      <td>Short,Sport</td>\n",
       "    </tr>\n",
       "    <tr>\n",
       "      <th>7</th>\n",
       "      <td>tt0000008</td>\n",
       "      <td>short</td>\n",
       "      <td>Edison Kinetoscopic Record of a Sneeze</td>\n",
       "      <td>Edison Kinetoscopic Record of a Sneeze</td>\n",
       "      <td>0</td>\n",
       "      <td>1894</td>\n",
       "      <td>NaN</td>\n",
       "      <td>1</td>\n",
       "      <td>Documentary,Short</td>\n",
       "    </tr>\n",
       "    <tr>\n",
       "      <th>8</th>\n",
       "      <td>tt0000009</td>\n",
       "      <td>short</td>\n",
       "      <td>Miss Jerry</td>\n",
       "      <td>Miss Jerry</td>\n",
       "      <td>0</td>\n",
       "      <td>1894</td>\n",
       "      <td>NaN</td>\n",
       "      <td>40</td>\n",
       "      <td>Romance,Short</td>\n",
       "    </tr>\n",
       "    <tr>\n",
       "      <th>9</th>\n",
       "      <td>tt0000010</td>\n",
       "      <td>short</td>\n",
       "      <td>Leaving the Factory</td>\n",
       "      <td>La sortie de l'usine Lumière à Lyon</td>\n",
       "      <td>0</td>\n",
       "      <td>1895</td>\n",
       "      <td>NaN</td>\n",
       "      <td>1</td>\n",
       "      <td>Documentary,Short</td>\n",
       "    </tr>\n",
       "  </tbody>\n",
       "</table>\n",
       "</div>"
      ],
      "text/plain": [
       "      tconst titleType                                 primaryTitle  \\\n",
       "0  tt0000001     short                                   Carmencita   \n",
       "1  tt0000002     short                       Le clown et ses chiens   \n",
       "2  tt0000003     short                               Pauvre Pierrot   \n",
       "3  tt0000004     short                                  Un bon bock   \n",
       "4  tt0000005     short                             Blacksmith Scene   \n",
       "5  tt0000006     short                            Chinese Opium Den   \n",
       "6  tt0000007     short  Corbett and Courtney Before the Kinetograph   \n",
       "7  tt0000008     short       Edison Kinetoscopic Record of a Sneeze   \n",
       "8  tt0000009     short                                   Miss Jerry   \n",
       "9  tt0000010     short                          Leaving the Factory   \n",
       "\n",
       "                                 originalTitle  isAdult  startYear  endYear  \\\n",
       "0                                   Carmencita        0       1894      NaN   \n",
       "1                       Le clown et ses chiens        0       1892      NaN   \n",
       "2                               Pauvre Pierrot        0       1892      NaN   \n",
       "3                                  Un bon bock        0       1892      NaN   \n",
       "4                             Blacksmith Scene        0       1893      NaN   \n",
       "5                            Chinese Opium Den        0       1894      NaN   \n",
       "6  Corbett and Courtney Before the Kinetograph        0       1894      NaN   \n",
       "7       Edison Kinetoscopic Record of a Sneeze        0       1894      NaN   \n",
       "8                                   Miss Jerry        0       1894      NaN   \n",
       "9          La sortie de l'usine Lumière à Lyon        0       1895      NaN   \n",
       "\n",
       "   runtimeMinutes                    genres  \n",
       "0               1         Documentary,Short  \n",
       "1               5           Animation,Short  \n",
       "2               4  Animation,Comedy,Romance  \n",
       "3              12           Animation,Short  \n",
       "4               1              Comedy,Short  \n",
       "5               1                     Short  \n",
       "6               1               Short,Sport  \n",
       "7               1         Documentary,Short  \n",
       "8              40             Romance,Short  \n",
       "9               1         Documentary,Short  "
      ]
     },
     "execution_count": 11,
     "metadata": {},
     "output_type": "execute_result"
    }
   ],
   "source": [
    "# read data using manual schema\n",
    "from pyspark.sql.types import StructType, StructField, StringType, IntegerType\n",
    "\n",
    "title_basics_schema = StructType([\n",
    "                            StructField('tconst', StringType(), False),\n",
    "                            StructField('titleType', StringType(), True),\n",
    "                            StructField('primaryTitle', StringType(), True),\n",
    "                            StructField('originalTitle', StringType(), True),\n",
    "                            StructField('isAdult', IntegerType(), True),\n",
    "                            StructField('startYear', IntegerType(), True),\n",
    "                            StructField('endYear', IntegerType(), True),\n",
    "                            StructField('runtimeMinutes', IntegerType(), True),\n",
    "                            StructField('genres', StringType(), True)])\n",
    "\n",
    "title_basics_sdf = (spark\n",
    "                    .read\n",
    "                    .schema(title_basics_schema)\n",
    "                    .option('header', 'true')\n",
    "                    .option('delimiter', '\\t')\n",
    "                    .csv(raw_data_path + 'title_basics.tsv'))\n",
    "\n",
    "title_basics_sdf.limit(10).toPandas().head(10)"
   ]
  },
  {
   "cell_type": "code",
   "execution_count": 12,
   "metadata": {},
   "outputs": [
    {
     "name": "stdout",
     "output_type": "stream",
     "text": [
      "root\n",
      " |-- tconst: string (nullable = true)\n",
      " |-- titleType: string (nullable = true)\n",
      " |-- primaryTitle: string (nullable = true)\n",
      " |-- originalTitle: string (nullable = true)\n",
      " |-- isAdult: integer (nullable = true)\n",
      " |-- startYear: integer (nullable = true)\n",
      " |-- endYear: integer (nullable = true)\n",
      " |-- runtimeMinutes: integer (nullable = true)\n",
      " |-- genres: string (nullable = true)\n",
      "\n"
     ]
    }
   ],
   "source": [
    "title_basics_sdf.printSchema()"
   ]
  },
  {
   "cell_type": "markdown",
   "metadata": {},
   "source": [
    "### Rows"
   ]
  },
  {
   "cell_type": "code",
   "execution_count": 13,
   "metadata": {},
   "outputs": [
    {
     "data": {
      "text/plain": [
       "('Hometown Hero', 2010, 90, 'Documentary')"
      ]
     },
     "execution_count": 13,
     "metadata": {},
     "output_type": "execute_result"
    }
   ],
   "source": [
    "# create a Row object\n",
    "from pyspark.sql import Row\n",
    "my_movie = Row('tt0000000',\t'movie', 'Hometown Hero', 'Hometown Hero',\t0,\t2010, None,\t90,\t'Documentary')\n",
    "\n",
    "# can be accessed like a list\n",
    "*my_movie[3::2], my_movie[-1]"
   ]
  },
  {
   "cell_type": "code",
   "execution_count": 14,
   "metadata": {},
   "outputs": [
    {
     "data": {
      "text/plain": [
       "pyspark.sql.types.Row"
      ]
     },
     "execution_count": 14,
     "metadata": {},
     "output_type": "execute_result"
    }
   ],
   "source": [
    "type(my_movie)"
   ]
  },
  {
   "cell_type": "code",
   "execution_count": 15,
   "metadata": {},
   "outputs": [
    {
     "name": "stderr",
     "output_type": "stream",
     "text": [
      "[Stage 4:>                                                          (0 + 1) / 1]\r"
     ]
    },
    {
     "name": "stdout",
     "output_type": "stream",
     "text": [
      "+---------+---------+-------------+-------------+-------+---------+-------+--------------+-----------+\n",
      "|   tconst|titleType| primaryTitle|originalTitle|isAdult|startYear|endYear|runtimeMinutes|     genres|\n",
      "+---------+---------+-------------+-------------+-------+---------+-------+--------------+-----------+\n",
      "|tt0000000|    movie|Hometown Hero|Hometown Hero|      0|     2010|   null|            90|Documentary|\n",
      "+---------+---------+-------------+-------------+-------+---------+-------+--------------+-----------+\n",
      "\n"
     ]
    },
    {
     "name": "stderr",
     "output_type": "stream",
     "text": [
      "                                                                                \r"
     ]
    }
   ],
   "source": [
    "# create a DataFrame object from a list of Rows\n",
    "my_movie_sdf = spark.createDataFrame([my_movie], title_basics_sdf.schema)\n",
    "my_movie_sdf.show()"
   ]
  },
  {
   "cell_type": "markdown",
   "metadata": {},
   "source": [
    "##### Append Rows"
   ]
  },
  {
   "cell_type": "code",
   "execution_count": 16,
   "metadata": {},
   "outputs": [
    {
     "data": {
      "text/plain": [
       "ParallelCollectionRDD[23] at readRDDFromFile at PythonRDD.scala:274"
      ]
     },
     "execution_count": 16,
     "metadata": {},
     "output_type": "execute_result"
    }
   ],
   "source": [
    "# create new row\n",
    "my_movie_2 = Row('tt000000',\t'movie', 'Hometown Hero: the Beginning', 'Hometown Hero 0',\t0,\t2012, None,\t110,\t'Documentary,Romance')\n",
    "\n",
    "parallelized_my_movies = spark.sparkContext.parallelize([my_movie, my_movie_2])\n",
    "\n",
    "parallelized_my_movies"
   ]
  },
  {
   "cell_type": "code",
   "execution_count": 17,
   "metadata": {},
   "outputs": [
    {
     "name": "stdout",
     "output_type": "stream",
     "text": [
      "+---------+---------+--------------------+---------------+-------+---------+-------+--------------+-------------------+\n",
      "|   tconst|titleType|        primaryTitle|  originalTitle|isAdult|startYear|endYear|runtimeMinutes|             genres|\n",
      "+---------+---------+--------------------+---------------+-------+---------+-------+--------------+-------------------+\n",
      "|tt0000000|    movie|       Hometown Hero|  Hometown Hero|      0|     2010|   null|            90|        Documentary|\n",
      "| tt000000|    movie|Hometown Hero: th...|Hometown Hero 0|      0|     2012|   null|           110|Documentary,Romance|\n",
      "+---------+---------+--------------------+---------------+-------+---------+-------+--------------+-------------------+\n",
      "\n"
     ]
    }
   ],
   "source": [
    "my_movies_sdf = spark.createDataFrame(parallelized_my_movies, schema=title_basics_sdf.schema)\n",
    "my_movies_sdf.show()"
   ]
  },
  {
   "cell_type": "code",
   "execution_count": 18,
   "metadata": {},
   "outputs": [
    {
     "name": "stdout",
     "output_type": "stream",
     "text": [
      "+---------+---------+--------------------+--------------------+-------+---------+-------+--------------+--------------------+\n",
      "|   tconst|titleType|        primaryTitle|       originalTitle|isAdult|startYear|endYear|runtimeMinutes|              genres|\n",
      "+---------+---------+--------------------+--------------------+-------+---------+-------+--------------+--------------------+\n",
      "|tt0000000|    movie|       Hometown Hero|       Hometown Hero|      0|     2010|   null|            90|         Documentary|\n",
      "| tt000000|    movie|Hometown Hero: th...|     Hometown Hero 0|      0|     2012|   null|           110| Documentary,Romance|\n",
      "|tt0000001|    short|          Carmencita|          Carmencita|      0|     1894|   null|             1|   Documentary,Short|\n",
      "|tt0000002|    short|Le clown et ses c...|Le clown et ses c...|      0|     1892|   null|             5|     Animation,Short|\n",
      "|tt0000003|    short|      Pauvre Pierrot|      Pauvre Pierrot|      0|     1892|   null|             4|Animation,Comedy,...|\n",
      "+---------+---------+--------------------+--------------------+-------+---------+-------+--------------+--------------------+\n",
      "only showing top 5 rows\n",
      "\n"
     ]
    }
   ],
   "source": [
    "(my_movies_sdf\n",
    "    .union(title_basics_sdf)\n",
    "    .show(5))"
   ]
  },
  {
   "cell_type": "markdown",
   "metadata": {},
   "source": [
    "##### Sort Rows"
   ]
  },
  {
   "cell_type": "code",
   "execution_count": 19,
   "metadata": {},
   "outputs": [
    {
     "name": "stderr",
     "output_type": "stream",
     "text": [
      "[Stage 13:====================================>                     (5 + 3) / 8]\r"
     ]
    },
    {
     "name": "stdout",
     "output_type": "stream",
     "text": [
      "+---------+---------+--------------------+--------------------+-------+---------+-------+--------------+--------------------+\n",
      "|   tconst|titleType|        primaryTitle|       originalTitle|isAdult|startYear|endYear|runtimeMinutes|              genres|\n",
      "+---------+---------+--------------------+--------------------+-------+---------+-------+--------------+--------------------+\n",
      "|tt0000001|    short|          Carmencita|          Carmencita|      0|     1894|   null|             1|   Documentary,Short|\n",
      "|tt0000002|    short|Le clown et ses c...|Le clown et ses c...|      0|     1892|   null|             5|     Animation,Short|\n",
      "|tt0000003|    short|      Pauvre Pierrot|      Pauvre Pierrot|      0|     1892|   null|             4|Animation,Comedy,...|\n",
      "|tt0000004|    short|         Un bon bock|         Un bon bock|      0|     1892|   null|            12|     Animation,Short|\n",
      "|tt0000005|    short|    Blacksmith Scene|    Blacksmith Scene|      0|     1893|   null|             1|        Comedy,Short|\n",
      "+---------+---------+--------------------+--------------------+-------+---------+-------+--------------+--------------------+\n",
      "only showing top 5 rows\n",
      "\n"
     ]
    },
    {
     "name": "stderr",
     "output_type": "stream",
     "text": [
      "                                                                                \r"
     ]
    }
   ],
   "source": [
    "from pyspark.sql.functions import col, expr\n",
    "\n",
    "(title_basics_sdf\n",
    "    .orderBy(expr('endYear desc'))\n",
    "    .show(5))"
   ]
  },
  {
   "cell_type": "code",
   "execution_count": 20,
   "metadata": {},
   "outputs": [
    {
     "name": "stderr",
     "output_type": "stream",
     "text": [
      "[Stage 14:==================================================>       (7 + 1) / 8]\r"
     ]
    },
    {
     "name": "stdout",
     "output_type": "stream",
     "text": [
      "+----------+------------+--------------------+--------------------+-------+---------+-------+--------------+---------------+\n",
      "|    tconst|   titleType|        primaryTitle|       originalTitle|isAdult|startYear|endYear|runtimeMinutes|         genres|\n",
      "+----------+------------+--------------------+--------------------+-------+---------+-------+--------------+---------------+\n",
      "|tt14127838|tvMiniSeries|             Journey|             Journey|      0|     2021|   2028|            55|   Comedy,Drama|\n",
      "| tt7358768|    tvSeries|               The Y|               The Y|      0|     2017|   2027|             6|Sci-Fi,Thriller|\n",
      "|tt10585548|    tvSeries|  Edjucatin' Charlie|  Edjucatin' Charlie|      0|     2020|   2026|            30|         Comedy|\n",
      "|tt15680592|tvMiniSeries|                Kush|                Kush|      0|     2021|   2025|            20|          Crime|\n",
      "| tt4681850|    tvSeries|Dreamers and Diss...|Dreamers and Diss...|      0|     2015|   2025|          null|    Documentary|\n",
      "+----------+------------+--------------------+--------------------+-------+---------+-------+--------------+---------------+\n",
      "only showing top 5 rows\n",
      "\n"
     ]
    },
    {
     "name": "stderr",
     "output_type": "stream",
     "text": [
      "                                                                                \r"
     ]
    }
   ],
   "source": [
    "(title_basics_sdf\n",
    "    .orderBy(col('endYear').desc_nulls_last())\n",
    "    .show(5))"
   ]
  },
  {
   "cell_type": "code",
   "execution_count": 21,
   "metadata": {},
   "outputs": [
    {
     "data": {
      "text/plain": [
       "DataFrame[tconst: string, titleType: string, primaryTitle: string, originalTitle: string, isAdult: int, startYear: int, endYear: int, runtimeMinutes: int, genres: string]"
      ]
     },
     "execution_count": 21,
     "metadata": {},
     "output_type": "execute_result"
    }
   ],
   "source": [
    "# optimization: sort within partitions before another set of transformations\n",
    "(title_basics_sdf\n",
    "    .sortWithinPartitions('startYear'))"
   ]
  },
  {
   "cell_type": "markdown",
   "metadata": {},
   "source": [
    "##### Replace"
   ]
  },
  {
   "cell_type": "code",
   "execution_count": 24,
   "metadata": {},
   "outputs": [
    {
     "name": "stdout",
     "output_type": "stream",
     "text": [
      "+----+----+----+\n",
      "|  _1|  _2|  _3|\n",
      "+----+----+----+\n",
      "|null|null|null|\n",
      "|  10|   2|null|\n",
      "|null|null|   3|\n",
      "+----+----+----+\n",
      "\n"
     ]
    }
   ],
   "source": [
    "(spark.createDataFrame([Row(None, None, None),\n",
    "                        Row(1, 2, None),\n",
    "                        Row(None, None, 3)])\n",
    "    .replace(1.0, 10.0)\n",
    "    .show())"
   ]
  },
  {
   "cell_type": "markdown",
   "metadata": {},
   "source": [
    "### Collect Rows"
   ]
  },
  {
   "cell_type": "code",
   "execution_count": 25,
   "metadata": {},
   "outputs": [
    {
     "data": {
      "text/plain": [
       "[Row(tconst='tt0000001', titleType='short', primaryTitle='Carmencita', originalTitle='Carmencita', isAdult=0, startYear=1894, endYear=None, runtimeMinutes=1, genres='Documentary,Short'),\n",
       " Row(tconst='tt0000002', titleType='short', primaryTitle='Le clown et ses chiens', originalTitle='Le clown et ses chiens', isAdult=0, startYear=1892, endYear=None, runtimeMinutes=5, genres='Animation,Short'),\n",
       " Row(tconst='tt0000003', titleType='short', primaryTitle='Pauvre Pierrot', originalTitle='Pauvre Pierrot', isAdult=0, startYear=1892, endYear=None, runtimeMinutes=4, genres='Animation,Comedy,Romance'),\n",
       " Row(tconst='tt0000004', titleType='short', primaryTitle='Un bon bock', originalTitle='Un bon bock', isAdult=0, startYear=1892, endYear=None, runtimeMinutes=12, genres='Animation,Short'),\n",
       " Row(tconst='tt0000005', titleType='short', primaryTitle='Blacksmith Scene', originalTitle='Blacksmith Scene', isAdult=0, startYear=1893, endYear=None, runtimeMinutes=1, genres='Comedy,Short')]"
      ]
     },
     "execution_count": 25,
     "metadata": {},
     "output_type": "execute_result"
    }
   ],
   "source": [
    "collect_df = title_basics_sdf.limit(10)\n",
    "collect_df.take(5)"
   ]
  },
  {
   "cell_type": "code",
   "execution_count": 26,
   "metadata": {},
   "outputs": [
    {
     "name": "stdout",
     "output_type": "stream",
     "text": [
      "+---------+---------+--------------------+--------------------+-------+---------+-------+--------------+--------------------+\n",
      "|   tconst|titleType|        primaryTitle|       originalTitle|isAdult|startYear|endYear|runtimeMinutes|              genres|\n",
      "+---------+---------+--------------------+--------------------+-------+---------+-------+--------------+--------------------+\n",
      "|tt0000001|    short|          Carmencita|          Carmencita|      0|     1894|   null|             1|   Documentary,Short|\n",
      "|tt0000002|    short|Le clown et ses c...|Le clown et ses c...|      0|     1892|   null|             5|     Animation,Short|\n",
      "|tt0000003|    short|      Pauvre Pierrot|      Pauvre Pierrot|      0|     1892|   null|             4|Animation,Comedy,...|\n",
      "|tt0000004|    short|         Un bon bock|         Un bon bock|      0|     1892|   null|            12|     Animation,Short|\n",
      "|tt0000005|    short|    Blacksmith Scene|    Blacksmith Scene|      0|     1893|   null|             1|        Comedy,Short|\n",
      "|tt0000006|    short|   Chinese Opium Den|   Chinese Opium Den|      0|     1894|   null|             1|               Short|\n",
      "|tt0000007|    short|Corbett and Court...|Corbett and Court...|      0|     1894|   null|             1|         Short,Sport|\n",
      "|tt0000008|    short|Edison Kinetoscop...|Edison Kinetoscop...|      0|     1894|   null|             1|   Documentary,Short|\n",
      "|tt0000009|    short|          Miss Jerry|          Miss Jerry|      0|     1894|   null|            40|       Romance,Short|\n",
      "|tt0000010|    short| Leaving the Factory|La sortie de l'us...|      0|     1895|   null|             1|   Documentary,Short|\n",
      "+---------+---------+--------------------+--------------------+-------+---------+-------+--------------+--------------------+\n",
      "\n"
     ]
    }
   ],
   "source": [
    "collect_df.show()"
   ]
  },
  {
   "cell_type": "code",
   "execution_count": 27,
   "metadata": {},
   "outputs": [
    {
     "name": "stdout",
     "output_type": "stream",
     "text": [
      "+---------+---------+----------------------+----------------------+-------+---------+-------+--------------+------------------------+\n",
      "|tconst   |titleType|primaryTitle          |originalTitle         |isAdult|startYear|endYear|runtimeMinutes|genres                  |\n",
      "+---------+---------+----------------------+----------------------+-------+---------+-------+--------------+------------------------+\n",
      "|tt0000001|short    |Carmencita            |Carmencita            |0      |1894     |null   |1             |Documentary,Short       |\n",
      "|tt0000002|short    |Le clown et ses chiens|Le clown et ses chiens|0      |1892     |null   |5             |Animation,Short         |\n",
      "|tt0000003|short    |Pauvre Pierrot        |Pauvre Pierrot        |0      |1892     |null   |4             |Animation,Comedy,Romance|\n",
      "|tt0000004|short    |Un bon bock           |Un bon bock           |0      |1892     |null   |12            |Animation,Short         |\n",
      "|tt0000005|short    |Blacksmith Scene      |Blacksmith Scene      |0      |1893     |null   |1             |Comedy,Short            |\n",
      "+---------+---------+----------------------+----------------------+-------+---------+-------+--------------+------------------------+\n",
      "only showing top 5 rows\n",
      "\n"
     ]
    }
   ],
   "source": [
    "collect_df.show(5, False)"
   ]
  },
  {
   "cell_type": "code",
   "execution_count": 28,
   "metadata": {},
   "outputs": [
    {
     "data": {
      "text/plain": [
       "[Row(tconst='tt0000001', titleType='short', primaryTitle='Carmencita', originalTitle='Carmencita', isAdult=0, startYear=1894, endYear=None, runtimeMinutes=1, genres='Documentary,Short'),\n",
       " Row(tconst='tt0000002', titleType='short', primaryTitle='Le clown et ses chiens', originalTitle='Le clown et ses chiens', isAdult=0, startYear=1892, endYear=None, runtimeMinutes=5, genres='Animation,Short'),\n",
       " Row(tconst='tt0000003', titleType='short', primaryTitle='Pauvre Pierrot', originalTitle='Pauvre Pierrot', isAdult=0, startYear=1892, endYear=None, runtimeMinutes=4, genres='Animation,Comedy,Romance'),\n",
       " Row(tconst='tt0000004', titleType='short', primaryTitle='Un bon bock', originalTitle='Un bon bock', isAdult=0, startYear=1892, endYear=None, runtimeMinutes=12, genres='Animation,Short'),\n",
       " Row(tconst='tt0000005', titleType='short', primaryTitle='Blacksmith Scene', originalTitle='Blacksmith Scene', isAdult=0, startYear=1893, endYear=None, runtimeMinutes=1, genres='Comedy,Short'),\n",
       " Row(tconst='tt0000006', titleType='short', primaryTitle='Chinese Opium Den', originalTitle='Chinese Opium Den', isAdult=0, startYear=1894, endYear=None, runtimeMinutes=1, genres='Short'),\n",
       " Row(tconst='tt0000007', titleType='short', primaryTitle='Corbett and Courtney Before the Kinetograph', originalTitle='Corbett and Courtney Before the Kinetograph', isAdult=0, startYear=1894, endYear=None, runtimeMinutes=1, genres='Short,Sport'),\n",
       " Row(tconst='tt0000008', titleType='short', primaryTitle='Edison Kinetoscopic Record of a Sneeze', originalTitle='Edison Kinetoscopic Record of a Sneeze', isAdult=0, startYear=1894, endYear=None, runtimeMinutes=1, genres='Documentary,Short'),\n",
       " Row(tconst='tt0000009', titleType='short', primaryTitle='Miss Jerry', originalTitle='Miss Jerry', isAdult=0, startYear=1894, endYear=None, runtimeMinutes=40, genres='Romance,Short'),\n",
       " Row(tconst='tt0000010', titleType='short', primaryTitle='Leaving the Factory', originalTitle=\"La sortie de l'usine Lumière à Lyon\", isAdult=0, startYear=1895, endYear=None, runtimeMinutes=1, genres='Documentary,Short')]"
      ]
     },
     "execution_count": 28,
     "metadata": {},
     "output_type": "execute_result"
    }
   ],
   "source": [
    "collect_df.collect()"
   ]
  },
  {
   "cell_type": "markdown",
   "metadata": {},
   "source": [
    "### Columns"
   ]
  },
  {
   "cell_type": "code",
   "execution_count": 29,
   "metadata": {},
   "outputs": [
    {
     "name": "stdout",
     "output_type": "stream",
     "text": [
      "+--------------------+\n",
      "|        primaryTitle|\n",
      "+--------------------+\n",
      "|          Carmencita|\n",
      "|Le clown et ses c...|\n",
      "|      Pauvre Pierrot|\n",
      "|         Un bon bock|\n",
      "|    Blacksmith Scene|\n",
      "+--------------------+\n",
      "only showing top 5 rows\n",
      "\n"
     ]
    }
   ],
   "source": [
    "# access a Column\n",
    "title_basics_sdf.select('primaryTitle').show(5)"
   ]
  },
  {
   "cell_type": "code",
   "execution_count": 30,
   "metadata": {},
   "outputs": [
    {
     "name": "stdout",
     "output_type": "stream",
     "text": [
      "+---------------------+\n",
      "|(runtimeMinutes * 60)|\n",
      "+---------------------+\n",
      "|                   60|\n",
      "|                  300|\n",
      "|                  240|\n",
      "|                  720|\n",
      "|                   60|\n",
      "+---------------------+\n",
      "only showing top 5 rows\n",
      "\n"
     ]
    }
   ],
   "source": [
    "from pyspark.sql.functions import col, expr\n",
    "\n",
    "title_basics_sdf.select(col('runtimeMinutes')*60).show(5)"
   ]
  },
  {
   "cell_type": "code",
   "execution_count": 31,
   "metadata": {},
   "outputs": [
    {
     "data": {
      "text/plain": [
       "pyspark.sql.column.Column"
      ]
     },
     "execution_count": 31,
     "metadata": {},
     "output_type": "execute_result"
    }
   ],
   "source": [
    "type(col('primaryTitle'))"
   ]
  },
  {
   "cell_type": "code",
   "execution_count": 32,
   "metadata": {},
   "outputs": [
    {
     "name": "stdout",
     "output_type": "stream",
     "text": [
      "+--------------+\n",
      "|runtimeSeconds|\n",
      "+--------------+\n",
      "|            60|\n",
      "|           300|\n",
      "|           240|\n",
      "|           720|\n",
      "|            60|\n",
      "+--------------+\n",
      "only showing top 5 rows\n",
      "\n"
     ]
    }
   ],
   "source": [
    "# expr is like a SELECT statement\n",
    "title_basics_sdf.select(expr('runtimeMinutes*60 as runtimeSeconds')).show(5)"
   ]
  },
  {
   "cell_type": "code",
   "execution_count": 33,
   "metadata": {},
   "outputs": [],
   "source": [
    "# so that we can use the SQL API\n",
    "title_basics_sdf.createOrReplaceTempView('titles')"
   ]
  },
  {
   "cell_type": "code",
   "execution_count": 34,
   "metadata": {},
   "outputs": [],
   "source": [
    "%load_ext sparksql_magic"
   ]
  },
  {
   "cell_type": "code",
   "execution_count": 35,
   "metadata": {
    "vscode": {
     "languageId": "sql"
    }
   },
   "outputs": [
    {
     "data": {
      "text/html": [
       "<table><tr style=\"border-bottom: 1px solid\"><td style=\"font-weight: bold\">runtimeSeconds</td></tr><tr><td>60</td></tr><tr><td>300</td></tr><tr><td>240</td></tr><tr><td>720</td></tr><tr><td>60</td></tr></table>"
      ],
      "text/plain": [
       "<IPython.core.display.HTML object>"
      ]
     },
     "execution_count": 35,
     "metadata": {},
     "output_type": "execute_result"
    }
   ],
   "source": [
    "%%sparksql\n",
    "select runtimeMinutes*60 as runtimeSeconds from titles limit 5"
   ]
  },
  {
   "cell_type": "code",
   "execution_count": 36,
   "metadata": {},
   "outputs": [
    {
     "name": "stdout",
     "output_type": "stream",
     "text": [
      "+---------+---------+--------------------+--------------------+-------+---------+-------+--------------+--------------------+--------------+\n",
      "|   tconst|titleType|        primaryTitle|       originalTitle|isAdult|startYear|endYear|runtimeMinutes|              genres|runtimeSeconds|\n",
      "+---------+---------+--------------------+--------------------+-------+---------+-------+--------------+--------------------+--------------+\n",
      "|tt0000001|    short|          Carmencita|          Carmencita|      0|     1894|   null|             1|   Documentary,Short|            60|\n",
      "|tt0000002|    short|Le clown et ses c...|Le clown et ses c...|      0|     1892|   null|             5|     Animation,Short|           300|\n",
      "|tt0000003|    short|      Pauvre Pierrot|      Pauvre Pierrot|      0|     1892|   null|             4|Animation,Comedy,...|           240|\n",
      "|tt0000004|    short|         Un bon bock|         Un bon bock|      0|     1892|   null|            12|     Animation,Short|           720|\n",
      "|tt0000005|    short|    Blacksmith Scene|    Blacksmith Scene|      0|     1893|   null|             1|        Comedy,Short|            60|\n",
      "+---------+---------+--------------------+--------------------+-------+---------+-------+--------------+--------------------+--------------+\n",
      "only showing top 5 rows\n",
      "\n"
     ]
    }
   ],
   "source": [
    "# selectExpr() = select(expr())\n",
    "# add a column \n",
    "(title_basics_sdf.selectExpr('*', # all cols\n",
    "                            'runtimeMinutes*60 as runtimeSeconds')\n",
    "                .show(5))"
   ]
  },
  {
   "cell_type": "code",
   "execution_count": 37,
   "metadata": {},
   "outputs": [
    {
     "name": "stdout",
     "output_type": "stream",
     "text": [
      "+---------+---------+--------------------+--------------------+-------+---------+-------+--------------+--------------------+--------+\n",
      "|   tconst|titleType|        primaryTitle|       originalTitle|isAdult|startYear|endYear|runtimeMinutes|              genres|database|\n",
      "+---------+---------+--------------------+--------------------+-------+---------+-------+--------------+--------------------+--------+\n",
      "|tt0000001|    short|          Carmencita|          Carmencita|      0|     1894|   null|             1|   Documentary,Short|    IMDB|\n",
      "|tt0000002|    short|Le clown et ses c...|Le clown et ses c...|      0|     1892|   null|             5|     Animation,Short|    IMDB|\n",
      "|tt0000003|    short|      Pauvre Pierrot|      Pauvre Pierrot|      0|     1892|   null|             4|Animation,Comedy,...|    IMDB|\n",
      "|tt0000004|    short|         Un bon bock|         Un bon bock|      0|     1892|   null|            12|     Animation,Short|    IMDB|\n",
      "|tt0000005|    short|    Blacksmith Scene|    Blacksmith Scene|      0|     1893|   null|             1|        Comedy,Short|    IMDB|\n",
      "+---------+---------+--------------------+--------------------+-------+---------+-------+--------------+--------------------+--------+\n",
      "only showing top 5 rows\n",
      "\n"
     ]
    }
   ],
   "source": [
    "# passing literals (and not columns)\n",
    "from pyspark.sql.functions import lit\n",
    "\n",
    "title_basics_sdf.select(expr('*'), lit('IMDB').alias('database')).show(5)"
   ]
  },
  {
   "cell_type": "code",
   "execution_count": 38,
   "metadata": {},
   "outputs": [
    {
     "name": "stdout",
     "output_type": "stream",
     "text": [
      "+--------------------+---------------------+\n",
      "|        primaryTitle|(runtimeMinutes >= 5)|\n",
      "+--------------------+---------------------+\n",
      "|          Carmencita|                false|\n",
      "|Le clown et ses c...|                 true|\n",
      "|      Pauvre Pierrot|                false|\n",
      "|         Un bon bock|                 true|\n",
      "|    Blacksmith Scene|                false|\n",
      "+--------------------+---------------------+\n",
      "only showing top 5 rows\n",
      "\n"
     ]
    }
   ],
   "source": [
    "title_basics_sdf.select(col('primaryTitle'), col('runtimeMinutes') >= lit(5)).show(5)"
   ]
  },
  {
   "cell_type": "code",
   "execution_count": 39,
   "metadata": {},
   "outputs": [
    {
     "name": "stdout",
     "output_type": "stream",
     "text": [
      "+---------+---------+--------------------+--------------------+-------+---------+-------+--------------+--------------------+--------------+\n",
      "|   tconst|titleType|        primaryTitle|       originalTitle|isAdult|startYear|endYear|runtimeMinutes|              genres|runtimeSeconds|\n",
      "+---------+---------+--------------------+--------------------+-------+---------+-------+--------------+--------------------+--------------+\n",
      "|tt0000001|    short|          Carmencita|          Carmencita|      0|     1894|   null|             1|   Documentary,Short|            60|\n",
      "|tt0000002|    short|Le clown et ses c...|Le clown et ses c...|      0|     1892|   null|             5|     Animation,Short|           300|\n",
      "|tt0000003|    short|      Pauvre Pierrot|      Pauvre Pierrot|      0|     1892|   null|             4|Animation,Comedy,...|           240|\n",
      "|tt0000004|    short|         Un bon bock|         Un bon bock|      0|     1892|   null|            12|     Animation,Short|           720|\n",
      "|tt0000005|    short|    Blacksmith Scene|    Blacksmith Scene|      0|     1893|   null|             1|        Comedy,Short|            60|\n",
      "+---------+---------+--------------------+--------------------+-------+---------+-------+--------------+--------------------+--------------+\n",
      "only showing top 5 rows\n",
      "\n"
     ]
    }
   ],
   "source": [
    "# add a column\n",
    "title_basics_sdf.withColumn('runtimeSeconds', expr('runtimeMinutes*60')).show(5)"
   ]
  },
  {
   "cell_type": "code",
   "execution_count": 40,
   "metadata": {},
   "outputs": [
    {
     "name": "stdout",
     "output_type": "stream",
     "text": [
      "+---------+---------+--------------------+--------------------+-------+---------+-------+--------------+--------------------+\n",
      "|   tconst|titleType|               title|       originalTitle|isAdult|startYear|endYear|runtimeMinutes|              genres|\n",
      "+---------+---------+--------------------+--------------------+-------+---------+-------+--------------+--------------------+\n",
      "|tt0000001|    short|          Carmencita|          Carmencita|      0|     1894|   null|             1|   Documentary,Short|\n",
      "|tt0000002|    short|Le clown et ses c...|Le clown et ses c...|      0|     1892|   null|             5|     Animation,Short|\n",
      "|tt0000003|    short|      Pauvre Pierrot|      Pauvre Pierrot|      0|     1892|   null|             4|Animation,Comedy,...|\n",
      "|tt0000004|    short|         Un bon bock|         Un bon bock|      0|     1892|   null|            12|     Animation,Short|\n",
      "|tt0000005|    short|    Blacksmith Scene|    Blacksmith Scene|      0|     1893|   null|             1|        Comedy,Short|\n",
      "+---------+---------+--------------------+--------------------+-------+---------+-------+--------------+--------------------+\n",
      "only showing top 5 rows\n",
      "\n"
     ]
    }
   ],
   "source": [
    "# rename a column\n",
    "title_basics_sdf.withColumnRenamed('primaryTitle', 'title').show(5)"
   ]
  },
  {
   "cell_type": "code",
   "execution_count": 41,
   "metadata": {},
   "outputs": [
    {
     "name": "stdout",
     "output_type": "stream",
     "text": [
      "+---------+---------+--------------------+-------+---------+-------+--------------+--------------------+\n",
      "|   tconst|titleType|       originalTitle|isAdult|startYear|endYear|runtimeMinutes|              genres|\n",
      "+---------+---------+--------------------+-------+---------+-------+--------------+--------------------+\n",
      "|tt0000001|    short|          Carmencita|      0|     1894|   null|             1|   Documentary,Short|\n",
      "|tt0000002|    short|Le clown et ses c...|      0|     1892|   null|             5|     Animation,Short|\n",
      "|tt0000003|    short|      Pauvre Pierrot|      0|     1892|   null|             4|Animation,Comedy,...|\n",
      "|tt0000004|    short|         Un bon bock|      0|     1892|   null|            12|     Animation,Short|\n",
      "|tt0000005|    short|    Blacksmith Scene|      0|     1893|   null|             1|        Comedy,Short|\n",
      "+---------+---------+--------------------+-------+---------+-------+--------------+--------------------+\n",
      "only showing top 5 rows\n",
      "\n"
     ]
    }
   ],
   "source": [
    "#drop a column\n",
    "title_basics_sdf.drop('primaryTitle').show(5)"
   ]
  },
  {
   "cell_type": "code",
   "execution_count": 42,
   "metadata": {},
   "outputs": [
    {
     "name": "stdout",
     "output_type": "stream",
     "text": [
      "root\n",
      " |-- tconst: string (nullable = true)\n",
      " |-- titleType: string (nullable = true)\n",
      " |-- primaryTitle: string (nullable = true)\n",
      " |-- originalTitle: string (nullable = true)\n",
      " |-- isAdult: integer (nullable = true)\n",
      " |-- startYear: integer (nullable = true)\n",
      " |-- endYear: integer (nullable = true)\n",
      " |-- runtimeMinutes: integer (nullable = true)\n",
      " |-- genres: string (nullable = true)\n",
      " |-- startYear_str: string (nullable = true)\n",
      "\n"
     ]
    }
   ],
   "source": [
    "# change a column's type\n",
    "title_basics_sdf.withColumn('startYear_str', col('startYear').cast('string')).printSchema()"
   ]
  },
  {
   "cell_type": "code",
   "execution_count": 43,
   "metadata": {
    "vscode": {
     "languageId": "sql"
    }
   },
   "outputs": [
    {
     "data": {
      "text/html": [
       "<table><tr style=\"border-bottom: 1px solid\"><td style=\"font-weight: bold\">tconst</td><td style=\"font-weight: bold\">titleType</td><td style=\"font-weight: bold\">primaryTitle</td><td style=\"font-weight: bold\">originalTitle</td><td style=\"font-weight: bold\">isAdult</td><td style=\"font-weight: bold\">startYear</td><td style=\"font-weight: bold\">endYear</td><td style=\"font-weight: bold\">runtimeMinutes</td><td style=\"font-weight: bold\">genres</td><td style=\"font-weight: bold\">startYear</td></tr><tr><td>tt0000001</td><td>short</td><td>Carmencita</td><td>Carmencita</td><td>0</td><td>1894</td><td>null</td><td>1</td><td>Documentary,Short</td><td>1894</td></tr><tr><td>tt0000002</td><td>short</td><td>Le clown et ses chiens</td><td>Le clown et ses chiens</td><td>0</td><td>1892</td><td>null</td><td>5</td><td>Animation,Short</td><td>1892</td></tr><tr><td>tt0000003</td><td>short</td><td>Pauvre Pierrot</td><td>Pauvre Pierrot</td><td>0</td><td>1892</td><td>null</td><td>4</td><td>Animation,Comedy,Romance</td><td>1892</td></tr><tr><td>tt0000004</td><td>short</td><td>Un bon bock</td><td>Un bon bock</td><td>0</td><td>1892</td><td>null</td><td>12</td><td>Animation,Short</td><td>1892</td></tr><tr><td>tt0000005</td><td>short</td><td>Blacksmith Scene</td><td>Blacksmith Scene</td><td>0</td><td>1893</td><td>null</td><td>1</td><td>Comedy,Short</td><td>1893</td></tr></table>"
      ],
      "text/plain": [
       "<IPython.core.display.HTML object>"
      ]
     },
     "execution_count": 43,
     "metadata": {},
     "output_type": "execute_result"
    }
   ],
   "source": [
    "%%sparksql\n",
    "-- equivalent to this\n",
    "select *, cast(startYear as string) from titles limit 5\n"
   ]
  },
  {
   "cell_type": "code",
   "execution_count": 44,
   "metadata": {},
   "outputs": [
    {
     "name": "stdout",
     "output_type": "stream",
     "text": [
      "+---------+---------+--------------------+--------------------+-------+---------+-------+--------------+-----------+\n",
      "|   tconst|titleType|        primaryTitle|       originalTitle|isAdult|startYear|endYear|runtimeMinutes|     genres|\n",
      "+---------+---------+--------------------+--------------------+-------+---------+-------+--------------+-----------+\n",
      "|tt0060313|    movie|      Dingle, Dangle|      Dingle, Dangle|      1|     1966|   null|            61|     Comedy|\n",
      "|tt0061926|    movie|        Lust Weekend|        Lust Weekend|      1|     1967|   null|            70|      Drama|\n",
      "|tt0062361|    movie|           Thigh Spy|           Thigh Spy|      1|     1967|   null|            70|      Drama|\n",
      "|tt0062417|    movie|Un épais manteau ...|Un épais manteau ...|      1|     1968|   null|            88|      Drama|\n",
      "|tt0062727|    short|    Of Special Merit|  Besonders wertvoll|      1|     1968|   null|            11|Adult,Short|\n",
      "+---------+---------+--------------------+--------------------+-------+---------+-------+--------------+-----------+\n",
      "only showing top 5 rows\n",
      "\n"
     ]
    }
   ],
   "source": [
    "# filter rows, like WHERE clause\n",
    "title_basics_sdf.where(col('isAdult') == 1).show(5)"
   ]
  },
  {
   "cell_type": "code",
   "execution_count": 46,
   "metadata": {},
   "outputs": [
    {
     "name": "stderr",
     "output_type": "stream",
     "text": [
      "[Stage 44:>                                                         (0 + 8) / 8]\r"
     ]
    },
    {
     "name": "stdout",
     "output_type": "stream",
     "text": [
      "+------------+\n",
      "|   titleType|\n",
      "+------------+\n",
      "|    tvSeries|\n",
      "|tvMiniSeries|\n",
      "|     tvMovie|\n",
      "|   tvEpisode|\n",
      "|       movie|\n",
      "|   tvSpecial|\n",
      "|       video|\n",
      "|   videoGame|\n",
      "|     tvShort|\n",
      "|       short|\n",
      "|     tvPilot|\n",
      "+------------+\n",
      "\n"
     ]
    },
    {
     "name": "stderr",
     "output_type": "stream",
     "text": [
      "                                                                                \r"
     ]
    }
   ],
   "source": [
    "# unique/distinct\n",
    "title_basics_sdf.select('titleType').distinct().show()"
   ]
  },
  {
   "cell_type": "markdown",
   "metadata": {},
   "source": [
    "### Random Sampling"
   ]
  },
  {
   "cell_type": "code",
   "execution_count": 47,
   "metadata": {},
   "outputs": [
    {
     "name": "stderr",
     "output_type": "stream",
     "text": [
      "                                                                                \r"
     ]
    },
    {
     "data": {
      "text/plain": [
       "4440200"
      ]
     },
     "execution_count": 47,
     "metadata": {},
     "output_type": "execute_result"
    }
   ],
   "source": [
    "# random samples\n",
    "seed = 100\n",
    "withReplacement = False\n",
    "fraction = 0.5\n",
    "title_basics_sdf.sample(withReplacement, fraction, seed).count()"
   ]
  },
  {
   "cell_type": "code",
   "execution_count": 48,
   "metadata": {},
   "outputs": [
    {
     "name": "stderr",
     "output_type": "stream",
     "text": [
      "                                                                                \r"
     ]
    },
    {
     "data": {
      "text/plain": [
       "(2537, 7463)"
      ]
     },
     "execution_count": 48,
     "metadata": {},
     "output_type": "execute_result"
    }
   ],
   "source": [
    "# random splits, useful in train-test splits\n",
    "split_df_list = title_basics_sdf.limit(10000).randomSplit([0.25, 0.75], seed)\n",
    "split_df_list[0].count(), split_df_list[1].count()"
   ]
  },
  {
   "cell_type": "markdown",
   "metadata": {},
   "source": [
    "### Repartition and Coalesce"
   ]
  },
  {
   "cell_type": "code",
   "execution_count": 49,
   "metadata": {},
   "outputs": [],
   "source": [
    "# make 5 partitions based on the column titleType\n",
    "# incurs a full shuffle (wide transform)\n",
    "title_basics_repartitioned_sdf = title_basics_sdf.repartition(5, col('titleType'))"
   ]
  },
  {
   "cell_type": "code",
   "execution_count": 50,
   "metadata": {},
   "outputs": [
    {
     "data": {
      "text/plain": [
       "DataFrame[tconst: string, titleType: string, primaryTitle: string, originalTitle: string, isAdult: int, startYear: int, endYear: int, runtimeMinutes: int, genres: string]"
      ]
     },
     "execution_count": 50,
     "metadata": {},
     "output_type": "execute_result"
    }
   ],
   "source": [
    "# `join` up, or coalesce, partitions\n",
    "# narrow transform\n",
    "title_basics_repartitioned_sdf.coalesce(2)"
   ]
  },
  {
   "cell_type": "code",
   "execution_count": 51,
   "metadata": {},
   "outputs": [],
   "source": [
    "# spark.stop()"
   ]
  }
 ],
 "metadata": {
  "interpreter": {
   "hash": "b58d88c026591a9647dde84b286df4c94a28c35fef1faf0ea7672abde3080510"
  },
  "kernelspec": {
   "display_name": "Python 3.8.10 ('spark')",
   "language": "python",
   "name": "python3"
  },
  "language_info": {
   "codemirror_mode": {
    "name": "ipython",
    "version": 3
   },
   "file_extension": ".py",
   "mimetype": "text/x-python",
   "name": "python",
   "nbconvert_exporter": "python",
   "pygments_lexer": "ipython3",
   "version": "3.8.10"
  },
  "orig_nbformat": 4
 },
 "nbformat": 4,
 "nbformat_minor": 2
}
